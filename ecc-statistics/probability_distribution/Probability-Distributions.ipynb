{
 "cells": [
  {
   "cell_type": "code",
   "execution_count": 1,
   "id": "e35d448c-3026-4f72-9abf-38f35f6e00e1",
   "metadata": {},
   "outputs": [],
   "source": [
    "import otter\n",
    "\n",
    "from scipy import stats\n",
    "from functions.interact import *\n",
    "from functions.utils import*\n",
    "from scipy.stats import binom, geom"
   ]
  },
  {
   "cell_type": "markdown",
   "id": "bcbac3ad-0f62-4f65-8338-4a4e9379308c",
   "metadata": {},
   "source": [
    "___\n",
    "*Estimated Time: ~30 minutes*\n",
    "___"
   ]
  },
  {
   "cell_type": "markdown",
   "id": "cf6e0d26-3413-4f54-a800-a7d28153d5e7",
   "metadata": {},
   "source": [
    "Contents:\n",
    "\n",
    "- Discrete Probability Distribution\n",
    "- Interacting with Parameters\n",
    "    - Bernoulli\n",
    "    - Binomial\n",
    "    - Poisson\n",
    "    - Geometric\n",
    "- Conclusion"
   ]
  },
  {
   "cell_type": "markdown",
   "id": "d67831c1-651b-4490-8f32-283eab9a5fbc",
   "metadata": {},
   "source": [
    "# Discrete Probability Distribution"
   ]
  },
  {
   "cell_type": "markdown",
   "id": "1caf196f-c9b0-4c71-bb68-24f6473a4419",
   "metadata": {},
   "source": [
    "In statistics, discrete probability distribution refers to a distribution where a random variable can take on distinct values (eg. the number of heads in 20 coin flips). At their core, probability distributions are just functions similar to the ones you've seen in calculus:\n",
    "\n",
    "$$ f(x) = x^2 $$\n",
    "\n",
    "These functions, however, are defined by their parameters: the mean and variance"
   ]
  },
  {
   "cell_type": "markdown",
   "id": "7ab08fa0-df2c-4778-a6c6-8424c46a4129",
   "metadata": {},
   "source": [
    "When describing a random variable in terms of its distribution, we usually specify what kind of distribution it follows, its mean and standard deviation. Take for a example the normal distribution below:\n",
    "\n",
    "$$ f(\\mu, \\sigma) = \\mathcal{N}(\\mu, \\sigma) $$\n",
    "\n",
    "Using the information above, we would specify that our variable follows a Normal Distribution with mean µ and standard deviation (SD) σ."
   ]
  },
  {
   "cell_type": "markdown",
   "id": "497f165b-6189-4040-8af8-cf39e7998eb0",
   "metadata": {},
   "source": [
    "## Understanding Probability Mass Function (PMF) "
   ]
  },
  {
   "cell_type": "markdown",
   "id": "2cd0f566-321d-4a83-94d8-4e00624ff9a1",
   "metadata": {},
   "source": [
    "Before we dive deep into distributions below, it is important to fully understand the underlying mechanics behind them. When dealing with discrete probability, we will be using probability mass function (pmf). Probability Mass Function is defined as a function that gives the probability that a discrete random variable is exactly equal to some distrinct value. \n",
    "\n",
    "You may be wondering how this differs from Probability Density Function (PDF). One might say that unlike PMF which deals with discrete random variable, Probability Density Function deals with continuous random variable. To quote a response from [Stack Exchange](https://math.stackexchange.com/questions/23293/probability-density-function-vs-probability-mass-function#comment50446_23294):\n",
    "\n",
    "*Think of the discrete distribution as having a mass at each point, where the probability of that point is how much of the total mass is there. Then the continuous case is linear density, where the mass is spread over an interval.*"
   ]
  },
  {
   "cell_type": "markdown",
   "id": "f9b4bb74-f86a-43f1-b504-6716f86b673a",
   "metadata": {},
   "source": [
    "# Interacting with Parameters"
   ]
  },
  {
   "cell_type": "markdown",
   "id": "d3082ff7-9836-453a-8004-78dad60bed94",
   "metadata": {},
   "source": [
    "## Bernoulli"
   ]
  },
  {
   "cell_type": "markdown",
   "id": "9d034927-b81a-4203-9c37-3170d966c581",
   "metadata": {},
   "source": [
    "A Bernoulli function represents a Bernoulli distribution, which is a discrete probability distribution for a single trial experiment (eg. one flip of a coin and the probability of getting a head) with only two possible outcomes:\n",
    "- Success (1) with probability  p \n",
    "- Failure (0) with probability  1 - p                                                                                        "
   ]
  },
  {
   "cell_type": "markdown",
   "id": "7516c7f4-148f-44d0-a11b-e8c38714825a",
   "metadata": {},
   "source": [
    "The probability mass function for bernoulli is:\n",
    "                             \n",
    "\\begin{cases} \n",
    "    1 - p, & \\text{if } k = 0 \\\\\n",
    "    p, & \\text{if } k = 1\n",
    "\\end{cases}\n",
    "    \n",
    "$\\text{for } k \\in \\{0,1\\}, \\quad 0 \\leq p \\leq 1.$"
   ]
  },
  {
   "cell_type": "markdown",
   "id": "9fa82892-b732-4e0e-86ef-bc1670a49b17",
   "metadata": {},
   "source": [
    "Note: The Bernoulli function only takes a single parameter p which represents the probability of success. Below, think of Bernoulli(p) as P(Success)."
   ]
  },
  {
   "cell_type": "code",
   "execution_count": 2,
   "id": "b375e24a-eb66-4c8d-838b-6eb325655456",
   "metadata": {},
   "outputs": [
    {
     "data": {
      "application/vnd.jupyter.widget-view+json": {
       "model_id": "0e708a467a524e07bf12bf28a9769cdd",
       "version_major": 2,
       "version_minor": 0
      },
      "text/plain": [
       "interactive(children=(FloatSlider(value=0.5, description='p', max=1.0, step=0.05), IntSlider(value=1, descript…"
      ]
     },
     "metadata": {},
     "output_type": "display_data"
    },
    {
     "data": {
      "application/vnd.jupyter.widget-view+json": {
       "model_id": "b8eff0168f474b98bf01bf9db433c03b",
       "version_major": 2,
       "version_minor": 0
      },
      "text/plain": [
       "VBox(children=(Label(value='Q1: What do you observe from this Bernoulli distribution as you adjust p for X?'),…"
      ]
     },
     "metadata": {},
     "output_type": "display_data"
    }
   ],
   "source": [
    "bernoulli() # bernoulli(p)\n",
    "q_1()"
   ]
  },
  {
   "cell_type": "markdown",
   "id": "bb21dc2c-9737-4e08-aa96-b5b758fd8479",
   "metadata": {},
   "source": [
    "---"
   ]
  },
  {
   "cell_type": "markdown",
   "id": "88265708-2b80-4829-9eca-7121cff27195",
   "metadata": {},
   "source": [
    "## Binomial"
   ]
  },
  {
   "cell_type": "markdown",
   "id": "c29e3e05-eae4-4008-a1e1-d047d696837b",
   "metadata": {},
   "source": [
    "Now say your friend decides to flip a coin 20 times because they want to know have many heads they'll get, this sequence of outcomes is known as the Bernoulli process. To obtain the number of successes (# of heads in 20 flips), we will be looking at the Binomial Distribution. The Binomial function takes two parameters: \n",
    "- n - number of trials\n",
    "- p - probability of success in each trial\n",
    "\n",
    "The probability mass function for binomial is:"
   ]
  },
  {
   "cell_type": "markdown",
   "id": "4d846d53-f5b3-4904-b7e2-c5cf1893f5cf",
   "metadata": {},
   "source": [
    "$$ \n",
    "f(k, n, p) = P(X = k) = \\binom{n}{k} p^k (1 - p)^{n - k}\n",
    "$$\n",
    "\n",
    "where \n",
    "$$\n",
    "\\binom{n}{k} = \\frac{n!}{k!(n-k)!}\n",
    "$$\n",
    "\n",
    "is a binomial coefficent which counts the number of ways to choose the positions of the k successes among the n trials. Note: k is not a parameter but rather it represents a random variable for the number of success observed in n trials (below, it is X=x)."
   ]
  },
  {
   "cell_type": "markdown",
   "id": "d1c4f821-df7e-43eb-bcb7-e7ecfb0b8a4a",
   "metadata": {},
   "source": [
    "Note: Alternatively for Q2 and Q3 you can use **stats.binom(k, n, p)** where k is the number of successes (see above formula), n is total number of trials, and p is probability of success. Keep in mind the assumptions for both scenarios when choosing p."
   ]
  },
  {
   "cell_type": "code",
   "execution_count": 3,
   "id": "d6570131-20f8-468a-b8d9-1ef395ae954a",
   "metadata": {},
   "outputs": [],
   "source": [
    "# Use this cell for help with questions 2 and 3 (uncomment and fill in the parameters below)\n",
    "# print(binom.pmf(..., ..., ...))"
   ]
  },
  {
   "cell_type": "code",
   "execution_count": 10,
   "id": "f5056bc5-5aae-4325-818e-d5cf6097e481",
   "metadata": {},
   "outputs": [
    {
     "data": {
      "application/vnd.jupyter.widget-view+json": {
       "model_id": "829b326f10814fd18cea9c6739e2fc0c",
       "version_major": 2,
       "version_minor": 0
      },
      "text/plain": [
       "interactive(children=(IntSlider(value=8, description='n', max=20, min=1), FloatSlider(value=0.1666666666666666…"
      ]
     },
     "metadata": {},
     "output_type": "display_data"
    },
    {
     "data": {
      "application/vnd.jupyter.widget-view+json": {
       "model_id": "f0d4d02f3f354e30bd14f8dc7b157f83",
       "version_major": 2,
       "version_minor": 0
      },
      "text/plain": [
       "VBox(children=(HTML(value=\"<div style='white-space: normal; word-wrap: break-word; line-height: 1.5;'>Q2. Coin…"
      ]
     },
     "metadata": {},
     "output_type": "display_data"
    }
   ],
   "source": [
    "# add in specific values for x\n",
    "\n",
    "binomial()\n",
    "q_2_3()"
   ]
  },
  {
   "cell_type": "markdown",
   "id": "977bbbab-ffdf-454a-97bb-246e92f787e9",
   "metadata": {},
   "source": [
    "---"
   ]
  },
  {
   "cell_type": "markdown",
   "id": "8c8f1478-40f2-4b52-b48e-ad9eec4edbb0",
   "metadata": {},
   "source": [
    "## Poisson"
   ]
  },
  {
   "cell_type": "markdown",
   "id": "621cf4ef-40e2-4aaf-b7a6-0054ce8a5e0b",
   "metadata": {},
   "source": [
    "You work at a busy hospital emergency room where ambulances arrive at an average rate of 5 per hour. Two things you notice are that each ambulance's arrival does not have an effect on when the next one will arive (independent) and that their intervals are not evenly spaced or predictable (random). A Poisson distribution can model the probability of the hospital receiving exactly 7 ambulances in an hour. It can also predict the likelihood of having 2 or fewer arrivals in a given timeframe in order to help staff prepare and come up with effective strategies for delagating shifts.\n",
    "\n",
    "As suggested in the example above, under the Poisson distribution, we can find out the probability of a given number of events occuring in a fixed interval of time. \n",
    "\n",
    "It takes only one parameter, lambda (λ), which is the average number of events occuring in an interval of time or space. In our hospital scenario, λ = 5. The probability mass function is given by:\n",
    "\n",
    "$$\n",
    "f(k; \\lambda) = \\Pr(X = k) = \\frac{\\lambda^k e^{-\\lambda}}{k!}\n",
    "$$\n",
    "\n",
    "where k is the number of occurence, e is [Euler's Number](https://en.wikipedia.org/wiki/E_(mathematical_constant)), and k! is the factorial."
   ]
  },
  {
   "cell_type": "markdown",
   "id": "3a491058-ba5b-4745-a8dc-87f8ff41e685",
   "metadata": {},
   "source": [
    "Alternatively for Q4a and Q4b you can use **stats.poisson.pmf(k, λ)** to check your answer."
   ]
  },
  {
   "cell_type": "code",
   "execution_count": 5,
   "id": "b5760ee0-7abd-483c-b538-8fc89915d4b3",
   "metadata": {},
   "outputs": [],
   "source": [
    "# Use this cell for help with questions 4a and 4b (uncomment and fill in the parameters below)\n",
    "# print(stats.poisson.pmf(12 , 14))"
   ]
  },
  {
   "cell_type": "code",
   "execution_count": 6,
   "id": "f800bddb-014b-4273-863a-1937f8b40488",
   "metadata": {},
   "outputs": [
    {
     "data": {
      "application/vnd.jupyter.widget-view+json": {
       "model_id": "c551d1dcea1647c6b3fa23f5613eef68",
       "version_major": 2,
       "version_minor": 0
      },
      "text/plain": [
       "interactive(children=(IntSlider(value=3, description='λ', max=40, min=1), IntSlider(value=2, description='k', …"
      ]
     },
     "metadata": {},
     "output_type": "display_data"
    },
    {
     "data": {
      "application/vnd.jupyter.widget-view+json": {
       "model_id": "b3209afaa7604e1d8b22e3f35ca46090",
       "version_major": 2,
       "version_minor": 0
      },
      "text/plain": [
       "VBox(children=(HTML(value=\"<div style='white-space: normal; word-wrap: break-word; line-height: 1.5;'>Q4a. You…"
      ]
     },
     "metadata": {},
     "output_type": "display_data"
    },
    {
     "data": {
      "application/vnd.jupyter.widget-view+json": {
       "model_id": "5d888d0c28c74242951b0596f8302ac6",
       "version_major": 2,
       "version_minor": 0
      },
      "text/plain": [
       "VBox(children=(Label(value='Q5: Does the Poisson distribution inherently follow the normal distribution? Expla…"
      ]
     },
     "metadata": {},
     "output_type": "display_data"
    }
   ],
   "source": [
    "poisson()\n",
    "q_4a_4b()\n",
    "q_5()"
   ]
  },
  {
   "cell_type": "markdown",
   "id": "d28cb767-2cf3-4616-b440-5172beb31d8f",
   "metadata": {},
   "source": [
    "---"
   ]
  },
  {
   "cell_type": "markdown",
   "id": "baa1a475-f096-42a0-8688-adb401091066",
   "metadata": {},
   "source": [
    "## Geometric"
   ]
  },
  {
   "cell_type": "markdown",
   "id": "16983ad9-c50d-40d5-9619-3c94f3b3a220",
   "metadata": {},
   "source": [
    "Now, imagine you work as a customer service specialist and your team receives thousands of calls a day. Your manager shared the team's performance data: the probability of an agent solving a single customer's refund issue on the first try is 44%. You know that not every call can be successfully resolved because some require multiple interactions. \n",
    "\n",
    "In the scenario above, a geometric distribution can help you model the probability of requiring exactly 'k' calls before the first success. In other words, each call (event) is a Bernoulli trial for a single customer. Some questions you might ask are:\n",
    "- What is the probability that your coworker Elizabeth will resolve an issue on the 3rd attempt?\n",
    "- Given p = 0.50, how many attempts would it likely take to solve a customer's issue at a 30% probability.\n",
    "\n",
    "By using the Geometric Probability Mass Function (PMF), we can predict how often issues require multiple calls in order to reduce resolution time for certain cases.  \n",
    "\n",
    "$$\n",
    "P(X = k) = (1 - p)^{k-1} p, \\quad k = 1, 2, 3, \\dots\n",
    "$$\n",
    "\n",
    "Where P(X=k) is the probability that the first success occurs on the k-th trial.\n",
    "\n",
    "### Memorylessness Property ###\n",
    "\n",
    "The memorylessness property is a characteristic of certain probability distributions where the probability of an event occurring in the future is independent of the past. In simpler terms, if a process has already been running for some time, the probability that it will continue for a certain amount of additional time remains the same as it was at the start. The exponential distribution (for continuous variables) and the geometric distribution (for discrete variables) are the classic examples of memoryless distributions. This property is useful in modeling situations like the time until failure of a machine or the number of trials until success in a Bernoulli process.\n",
    "\n",
    "The probability of waiting n more trials for success does not depend on how many failures have already occured as each trial has to be independent. \n",
    "\n",
    "And lastly, each call attempt (trial) is for a single customer. If we're tracking multiple different customers calling about the same issue, then each call would be a new and independent event. Geometric distribution would not apply here."
   ]
  },
  {
   "cell_type": "markdown",
   "id": "4d8fd130-c867-455a-b133-6d39d898fe85",
   "metadata": {},
   "source": [
    "The Geometric Distribution has one parameter p, which is the probability of success in a single trial."
   ]
  },
  {
   "cell_type": "code",
   "execution_count": 7,
   "id": "9ecf530a-9891-4c9a-a448-4eaa90efda81",
   "metadata": {},
   "outputs": [
    {
     "name": "stdout",
     "output_type": "stream",
     "text": [
      "0.07962499999999999\n"
     ]
    }
   ],
   "source": [
    "# Use this cell for help with questions 6a and 6b (uncomment and fill in the parameters below)\n",
    "print(stats.geom.pmf(3 , 0.65))"
   ]
  },
  {
   "cell_type": "code",
   "execution_count": 8,
   "id": "430f1221-b564-498f-9d95-10265bd625d6",
   "metadata": {},
   "outputs": [
    {
     "data": {
      "application/vnd.jupyter.widget-view+json": {
       "model_id": "6b24f064ed954dffae9fd4a03d6b7256",
       "version_major": 2,
       "version_minor": 0
      },
      "text/plain": [
       "interactive(children=(FloatSlider(value=0.5, description='p', max=1.0, min=0.01, step=0.02), IntSlider(value=3…"
      ]
     },
     "metadata": {},
     "output_type": "display_data"
    },
    {
     "data": {
      "application/vnd.jupyter.widget-view+json": {
       "model_id": "9a36f1ea79694fff998678f43dcd737c",
       "version_major": 2,
       "version_minor": 0
      },
      "text/plain": [
       "VBox(children=(HTML(value=\"<div style='white-space: normal; word-wrap: break-word; line-height: 1.5;'>Q6a. Say…"
      ]
     },
     "metadata": {},
     "output_type": "display_data"
    }
   ],
   "source": [
    "geometric()\n",
    "q_6()"
   ]
  },
  {
   "cell_type": "markdown",
   "id": "f0417ef6-752b-45eb-8b08-838d0d094c20",
   "metadata": {},
   "source": [
    "---"
   ]
  },
  {
   "cell_type": "markdown",
   "id": "25198c92-2ba9-4b39-b3a7-8fb5dab853ff",
   "metadata": {},
   "source": [
    "# Conclusion"
   ]
  },
  {
   "cell_type": "markdown",
   "id": "b8a3ed01-bbcf-45fe-ad05-0529090c5c50",
   "metadata": {},
   "source": [
    "In this notebook, you learned various scenarious in which bernoulli, binomial, poisson, and geometric distributions apply. There are several others you can utilize depending on the problem you are trying to solve. The probability mass function lets you obtain the probability that a discrete random variable is exactly equal to some value. Additionally, you interacted with parameters for each probability distribution function to observe how they behave. "
   ]
  },
  {
   "cell_type": "markdown",
   "id": "53a8959c-ac06-49d1-81cc-67a1eaad1eeb",
   "metadata": {},
   "source": [
    "### Run the cell below to check your answers"
   ]
  },
  {
   "cell_type": "code",
   "execution_count": 12,
   "id": "0d62fd89-8117-4759-a931-22873688ae6a",
   "metadata": {},
   "outputs": [
    {
     "name": "stdout",
     "output_type": "stream",
     "text": [
      "Running tests...\n",
      "\n",
      "✅ Q1: Answer recorded for manual grading.\n",
      "✅ Q5: Answer recorded for manual grading.\n",
      "\n",
      "test_q2: ✅ Passed\n",
      "test_q3: ✅ Passed\n",
      "test_q4a: ✅ Passed\n",
      "test_q4b: ✅ Passed\n",
      "test_q6a: ✅ Passed\n",
      "test_q6b: ✅ Passed\n",
      "\n",
      "All tests completed. Great work!\n"
     ]
    }
   ],
   "source": [
    "grader = otter.Notebook()\n",
    "run_tests()"
   ]
  },
  {
   "cell_type": "markdown",
   "id": "84a6c5dc-9e02-4e01-81ea-8b160713d6b3",
   "metadata": {},
   "source": [
    "**Congratulations on making it to the end!**"
   ]
  }
 ],
 "metadata": {
  "kernelspec": {
   "display_name": "Python 3 (ipykernel)",
   "language": "python",
   "name": "python3"
  },
  "language_info": {
   "codemirror_mode": {
    "name": "ipython",
    "version": 3
   },
   "file_extension": ".py",
   "mimetype": "text/x-python",
   "name": "python",
   "nbconvert_exporter": "python",
   "pygments_lexer": "ipython3",
   "version": "3.11.12"
  }
 },
 "nbformat": 4,
 "nbformat_minor": 5
}
