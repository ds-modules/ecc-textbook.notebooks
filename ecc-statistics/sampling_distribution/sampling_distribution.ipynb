{
 "cells": [
  {
   "cell_type": "code",
   "execution_count": null,
   "id": "76ef04f8-418a-4f85-bd1f-6dd616bea389",
   "metadata": {},
   "outputs": [],
   "source": [
    "# Necessary imports for this module\n",
    "from utils import *"
   ]
  },
  {
   "cell_type": "markdown",
   "id": "793d7e0b-c69b-4e36-9535-f86742c7ed4b",
   "metadata": {},
   "source": [
    "# Sampling Distributions & Central Limit Theorem"
   ]
  },
  {
   "cell_type": "markdown",
   "id": "43b7a6ee-9fb6-4706-9c25-71f4c4bfe51e",
   "metadata": {},
   "source": [
    "**Estimated Time**: 30 Minutes <br>\n",
    "**Developers**: James Geronimo, Mark Barranda"
   ]
  },
  {
   "cell_type": "markdown",
   "id": "5c2147c1-0de4-4032-99cf-765df31535d4",
   "metadata": {},
   "source": [
    "**The sampling distribution of a statistic** is the distribution of all values of a statistic when all possible samples of the same size *n* are taken from the same population.\n",
    "\n",
    "The basic idea is this: If you were to take multiple samples, what values from those samples will give you the best estimates of the population values?"
   ]
  },
  {
   "cell_type": "markdown",
   "id": "67baa08c-93e0-4710-957b-c0caed4f6e23",
   "metadata": {},
   "source": [
    "---"
   ]
  },
  {
   "cell_type": "markdown",
   "id": "07f50f99-1ba7-42e7-9b82-19248e89d326",
   "metadata": {},
   "source": [
    "## Example 1: Fair Die"
   ]
  },
  {
   "cell_type": "code",
   "execution_count": null,
   "id": "0d35a835-9e9a-4804-a7ce-2b8fcfe616ab",
   "metadata": {},
   "outputs": [],
   "source": [
    "n_samples = 10000\n",
    "sample_size = 5\n",
    "population = np.arange(1, 7)"
   ]
  },
  {
   "cell_type": "markdown",
   "id": "13f45d44-b923-4eeb-8137-48ac9d59ac00",
   "metadata": {},
   "source": [
    "### Means"
   ]
  },
  {
   "cell_type": "markdown",
   "id": "279709da-542e-46ba-8087-2ab5d4e15d20",
   "metadata": {},
   "source": [
    "**Sampling Procedure:**  \n",
    "Roll a fair six-sided die 5 times and record the sample mean, $\\bar{x}$. <br>\n",
    "Repeat this process 10,000 times to build a **distribution of sample means**.\n",
    "\n",
    "- **Population Mean ($\\mu$):** 3.5\n",
    "\n",
    "🟩 The dashed green line represents the **mean of all sample means**."
   ]
  },
  {
   "cell_type": "code",
   "execution_count": null,
   "id": "fd2a1304-7c68-4064-aced-b208557b2267",
   "metadata": {},
   "outputs": [],
   "source": [
    "fair_die_means(n_samples, sample_size, population)"
   ]
  },
  {
   "cell_type": "markdown",
   "id": "c75a36c8-98cc-4fa4-bb3d-b2ff1c2b46e6",
   "metadata": {},
   "source": [
    "In this cell block, we show a few indivudal sample means generate from five samples."
   ]
  },
  {
   "cell_type": "code",
   "execution_count": null,
   "id": "ec130dc6-346b-498a-8d3c-480c07b29e49",
   "metadata": {},
   "outputs": [],
   "source": [
    "for i in range(5):\n",
    "    rolls = np.random.choice(population, size=sample_size)\n",
    "    print(f\"Sample {i+1} rolls: {rolls}, Sample Mean: {np.mean(rolls):.2f}\")"
   ]
  },
  {
   "cell_type": "markdown",
   "id": "9f5f5ade-efcd-48f8-9c7e-3cbd12fd1c36",
   "metadata": {},
   "source": [
    "All outcomes are equally likely so the **__________** mean is 3.5;\n",
    "\n",
    "The **__________** of the sample means in 10,000 trials is 3.51. If continued indefinitely, the sample mean will be 3.5."
   ]
  },
  {
   "cell_type": "markdown",
   "id": "ac3d83cf-8078-468e-900c-ab47cd8dcc68",
   "metadata": {},
   "source": [
    "**Note:**\n",
    "1) The mean of the sample means **__________** the value of the pouplation mean\n",
    "2) The sample means have a **__________** distribution"
   ]
  },
  {
   "cell_type": "markdown",
   "id": "5b8f52d6-c0ea-4d58-974a-669a73147e72",
   "metadata": {},
   "source": [
    "### Variances"
   ]
  },
  {
   "cell_type": "markdown",
   "id": "75ccd898-6c3f-48cd-9488-d8222bf956c4",
   "metadata": {},
   "source": [
    "**Sampling Procedure:**  \n",
    "Roll a fair six-sided die 5 times and record the sample variance, $s^2$. <br>\n",
    "Repeat this process 10,000 times to build a **distribution of sample variances**.\n",
    "\n",
    "- **Population Variance ($\\sigma^2$):** 2.9\n",
    "\n",
    "🟩 The dashed green line represents the **mean of all sample variances**."
   ]
  },
  {
   "cell_type": "code",
   "execution_count": null,
   "id": "733db601-9597-4999-a16b-4b1825291e8e",
   "metadata": {},
   "outputs": [],
   "source": [
    "fair_die_variances(n_samples, sample_size, population)"
   ]
  },
  {
   "cell_type": "markdown",
   "id": "d2914158-9ee6-4395-8d9d-fd167750a9cb",
   "metadata": {},
   "source": [
    "In this cell block, we show a few individual sample variances generate from five samples."
   ]
  },
  {
   "cell_type": "code",
   "execution_count": null,
   "id": "43d49b41-1c09-4af9-ac1f-f93b84df811c",
   "metadata": {},
   "outputs": [],
   "source": [
    "for i in range(5):\n",
    "    rolls = np.random.choice(population, size=sample_size)\n",
    "    print(f\"Sample {i+1} rolls: {rolls}, Sample Mean: {np.var(rolls, ddof=1):.2f}\")"
   ]
  },
  {
   "cell_type": "markdown",
   "id": "4aa83775-6bdc-498c-a2cf-70fb19197bc9",
   "metadata": {},
   "source": [
    "All outcomes are equally likely so the **__________** variance is 2.9.\n",
    "\n",
    "The **__________** of sample variance in the 10,000 trials is 2.92. If continued indefinitely, the sample variance will be 2.9."
   ]
  },
  {
   "cell_type": "markdown",
   "id": "4b4f5761-00e2-4098-8c73-ba390ff6864d",
   "metadata": {},
   "source": [
    "**Note:**\n",
    "1) The mean of the sample variances **__________** the value of the pouplation variance\n",
    "2) The sample variances have a **__________** distribution"
   ]
  },
  {
   "cell_type": "markdown",
   "id": "13b2a57f-f9b8-4cae-ba21-cfbe36cad774",
   "metadata": {},
   "source": [
    "### Proportions"
   ]
  },
  {
   "cell_type": "markdown",
   "id": "70f1ea07-c7f6-400b-9705-9215fcb90c61",
   "metadata": {},
   "source": [
    "**Sampling Procedure:**  \n",
    "Roll a fair six-sided die 5 times and record the proportion of odd numbers. <br>\n",
    "Repeat this process 10,000 times to build a **distribution of odd number proportions**.\n",
    "\n",
    "- **Population Proportion of Odd Numbers ($p$):** 0.5\n",
    "- $\\hat{p}$ represents the sample proportion of odd numbers\n",
    "\n",
    "🟩 The dashed green line represents the **mean of all odd number proportions**."
   ]
  },
  {
   "cell_type": "code",
   "execution_count": null,
   "id": "2a4ea924-0df9-4e4b-8784-4e295ad2e085",
   "metadata": {},
   "outputs": [],
   "source": [
    "fair_die_proportions(n_samples, sample_size, population)"
   ]
  },
  {
   "cell_type": "markdown",
   "id": "997bb87b-fccc-4b94-be9b-7cf6ce80045c",
   "metadata": {},
   "source": [
    "In this cell block, we show a few indivudal sample proportions generate from five samples."
   ]
  },
  {
   "cell_type": "code",
   "execution_count": null,
   "id": "89f0035e-6288-4b73-b57f-38b7fd840797",
   "metadata": {},
   "outputs": [],
   "source": [
    "for i in range(5):\n",
    "    rolls = np.random.choice(population, size=sample_size)\n",
    "    print(f\"Sample {i+1} rolls: {rolls}, Sample Mean: {np.sum(rolls % 2 == 1) / sample_size:.2f}\")"
   ]
  },
  {
   "cell_type": "markdown",
   "id": "709bf742-4fca-44d4-b328-0104c9f90532",
   "metadata": {},
   "source": [
    "All outcomes are equally likely so the **__________** of odd numbers is 0.5.\n",
    "\n",
    "The mean of the **__________** of the 10,000 trials is 0.503. If continued indefinitely, the mean of sample proportions will be 0.5."
   ]
  },
  {
   "cell_type": "markdown",
   "id": "395c2dde-4b58-44a0-852a-f1c8cbd51cd4",
   "metadata": {},
   "source": [
    "**Note:**\n",
    "1) The mean of the sample proportions **__________** the value of the pouplation proportions\n",
    "2) The sample proportions have a **__________** distribution"
   ]
  },
  {
   "cell_type": "markdown",
   "id": "adc04b54-50fb-416c-b3a5-ad49ae261b75",
   "metadata": {},
   "source": [
    "### Estimators"
   ]
  },
  {
   "cell_type": "markdown",
   "id": "c36be23c-090a-4e3f-babe-8fa359f01a27",
   "metadata": {},
   "source": [
    "Using the above information, we discover **biased** and **unbiased estimators** of population parameters."
   ]
  },
  {
   "cell_type": "markdown",
   "id": "2a5326ca-78dc-4de7-9335-3d947f019573",
   "metadata": {},
   "source": [
    "#### Unbiased Estimators:"
   ]
  },
  {
   "cell_type": "markdown",
   "id": "302a0df1-23b4-4981-ae46-509d257ecfd9",
   "metadata": {},
   "source": [
    "The **__________** $\\bar{x}$, **__________** $s^2$, and **__________** $\\hat{p}$ of the samples are unbiased estimators of the corresponding pouplation parameters $mu$, $\\sigma^2$, and $p$ because they target the value that the population would have."
   ]
  },
  {
   "cell_type": "markdown",
   "id": "3f23885a-79cb-4853-94bf-b25670d2ea45",
   "metadata": {},
   "source": [
    "#### Biased Estimators:"
   ]
  },
  {
   "cell_type": "markdown",
   "id": "b8a47cec-84e7-405a-a206-8468abb1c45c",
   "metadata": {},
   "source": [
    "The **__________** , **__________** , and **__________** $s$ do NOT target their corresponding pouplation parameters, so they are generally NOT good estimators. However: often bias in the $s$ is small enough that it is used to estimate $\\sigma$."
   ]
  },
  {
   "cell_type": "markdown",
   "id": "991bde42-541b-4787-be97-0e624029e326",
   "metadata": {},
   "source": [
    "---"
   ]
  },
  {
   "cell_type": "markdown",
   "id": "d07153d8-c102-4791-90f3-30aebf4dc977",
   "metadata": {},
   "source": [
    "## Example 2: Assassinated Presidents"
   ]
  },
  {
   "cell_type": "markdown",
   "id": "9b106a2c-b2a9-4e54-8e92-1be4f12ba1be",
   "metadata": {},
   "source": [
    "There are four U.S. presidents who were assassinated in office. Their ages (in years) were Lincoln 56, Garfield 49, McKinley 59, and Kennedy 46."
   ]
  },
  {
   "cell_type": "markdown",
   "id": "3c6c464d-6aa9-4c61-8b4a-4150a7413bea",
   "metadata": {},
   "source": [
    "**a)** Assuming that 2 of the ages are randomly selected with replacement from [56, 49, 59, 46], list the 16 different possible samples by replacing the ellipses with appropriate values. We've filled out a few as a hint:"
   ]
  },
  {
   "cell_type": "markdown",
   "id": "c482c8f9-e820-42e8-bf6e-babdf21977aa",
   "metadata": {},
   "source": [
    "[56, 56]   [49, 56]   [59, ...]   [46, ...] <br>\n",
    "[56, 49]   [49, 49]   [..., ...]   [..., ...] <br>\n",
    "[56, 59]   [49, ...]   [..., ...]   [..., ...] <br>\n",
    "[56, 46]   [49, ...]   [..., ...]   [..., ...]"
   ]
  },
  {
   "cell_type": "markdown",
   "id": "332db932-64e3-4a2e-a8fd-cc50464f09a1",
   "metadata": {},
   "source": [
    "**b)** Find the sample mean and range of possible samples by completing the functions `calculate_mean`, `calculate_range`, and `calculate_probability`. Then, run the cell to create tables that represent the probability distribution of each statistic."
   ]
  },
  {
   "cell_type": "code",
   "execution_count": null,
   "id": "aacac8ab-72aa-4c09-a5ee-aa3f690aece4",
   "metadata": {},
   "outputs": [],
   "source": [
    "def calculate_mean(number1, number2):\n",
    "    \"\"\"Fill in the ... to calculate the mean of two numbers.\"\"\"\n",
    "    return ...\n",
    "    \n",
    "def calculate_range(number1, number2):\n",
    "    \"\"\"Fill in the ... to calculate the range of two numbers.\"\"\"\n",
    "    return ...\n",
    "\n",
    "def calculate_probability(frequency, total_samples):\n",
    "    \"\"\"Fill in the ... to calculate the probability given frequency and total_samples.\"\"\"\n",
    "    return ...\n",
    "\n",
    "mean_range_tables(calculate_mean, calculate_range, calculate_probability)"
   ]
  },
  {
   "cell_type": "markdown",
   "id": "ecf81035-440e-4b8d-9298-f8f4ee068a3e",
   "metadata": {},
   "source": [
    "**c)** Calculate the `population_mean` and `population_range`. Then, for each statistic, compare the mean of sample statistics to the population statistic. Which sampling distributions target the population parameter?"
   ]
  },
  {
   "cell_type": "code",
   "execution_count": null,
   "id": "a2386a14-674c-4e0f-afe3-edad55e77f33",
   "metadata": {},
   "outputs": [],
   "source": [
    "population_mean = ...\n",
    "population_range = ...\n",
    "\n",
    "print(f\"Population Mean: {population_mean}\")\n",
    "print(f\"Population Range: {population_range}\")"
   ]
  },
  {
   "cell_type": "markdown",
   "id": "c2da0fe4-eda5-4608-932d-515323a5bfc4",
   "metadata": {},
   "source": [
    "Mean of sample means **__________** the population mean which makes this a **__________** estimator"
   ]
  },
  {
   "cell_type": "markdown",
   "id": "17a6f5bd-7ea2-48b8-b448-2f62021920a7",
   "metadata": {},
   "source": [
    "Mean of sample ranges **__________** the population range which makes this a **__________** estimator"
   ]
  },
  {
   "cell_type": "markdown",
   "id": "aadad04f-97e4-4769-9cce-bc468ad4c468",
   "metadata": {},
   "source": [
    "**d)** Complete each of the following expressions:"
   ]
  },
  {
   "cell_type": "markdown",
   "id": "a2de79b4-700b-44af-884e-9cedb9a928ba",
   "metadata": {},
   "source": [
    "Mean of sample medians **__________** the population median which makes this a **__________** estimator"
   ]
  },
  {
   "cell_type": "markdown",
   "id": "d86cc8aa-34c1-4f5b-94d9-086cf121c869",
   "metadata": {},
   "source": [
    "Mean of the sample proportions **__________**"
   ]
  },
  {
   "cell_type": "markdown",
   "id": "0b6e0304-2968-4d4e-958c-90768acb9b04",
   "metadata": {},
   "source": [
    "Mean of the **__________** variances **__________**"
   ]
  },
  {
   "cell_type": "markdown",
   "id": "e12230b6-ee25-4d5c-bd9f-f090d75a02e2",
   "metadata": {},
   "source": [
    "**__________** of the **__________** standard deviations **__________**"
   ]
  },
  {
   "cell_type": "markdown",
   "id": "7d5d6714-bde6-423e-a9ac-f6c6056ee75a",
   "metadata": {},
   "source": [
    "---"
   ]
  },
  {
   "cell_type": "markdown",
   "id": "4cf3c2f6-2740-487a-9fc5-9b1ce76edf09",
   "metadata": {},
   "source": [
    "**Hurray! You have completed this notebook! 🚀**"
   ]
  }
 ],
 "metadata": {
  "kernelspec": {
   "display_name": "Python 3 (ipykernel)",
   "language": "python",
   "name": "python3"
  },
  "language_info": {
   "codemirror_mode": {
    "name": "ipython",
    "version": 3
   },
   "file_extension": ".py",
   "mimetype": "text/x-python",
   "name": "python",
   "nbconvert_exporter": "python",
   "pygments_lexer": "ipython3",
   "version": "3.13.3"
  }
 },
 "nbformat": 4,
 "nbformat_minor": 5
}
