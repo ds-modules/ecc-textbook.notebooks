{
 "cells": [
  {
   "cell_type": "markdown",
   "id": "261c2a41-6db1-4b87-a655-d11c37af8aad",
   "metadata": {},
   "source": [
    "## Exploring Prenatal Risk Factors Across Different States and Over Time Through PRAMS Data\n",
    "<br>\n",
    "\n",
    "**Estimated Time:** 30-45 minutes <br>\n",
    "**Notebook Developed By:** Lan Dinh <br>\n",
    "\n",
    "Welcome! In this notebook, we will use the Pregnancy Risk Assessment Monitoring System (PRAMS) to investigate various factors that influence pregnancy health across different states in America. You won't have to be answering any coding questions yourself in the notebooks for this class, but instead you'll be asked to answer some short-answer questions as we explore and visualize the data. Any questions you see in **yellow-shaded sections** below are questions you'll be answering! Additionally, there will be some optional questions in **blue-shade sections** that help you follow along the notebook and understand the context. We hope this notebook serves as an engaging and informative introduction to the critical role of data collection in understanding prenatal development."
   ]
  },
  {
   "cell_type": "markdown",
   "id": "818a4cd6-47e8-49b1-a1ea-491f6677c346",
   "metadata": {},
   "source": [
    "### Learning Outcomes\n",
    "\n",
    "In this notebook, you will learn about:\n",
    "- How to utilize PRAMS data to study various factors influencing prenatal health across different states in the U.S.\n",
    "- How to visualize and interpret trends in maternal health indicators over time using geographic maps and bar charts.\n",
    "\n",
    "### Table of Contents\n",
    "1. Prenatal Development: Teratogen and Maternal Factors <br>\n",
    "1. Data Background\n",
    "1. Data Exploration <br>\n",
    "1. Visualizations <br>\n",
    ">4.1. Geographic Map <br>\n",
    ">4.2. Trends Over Time: Visualizing Changes in Health Indicators using Tables <br>\n",
    ">4.3. Trends Over Time: Visualizing Changes in Health Indicators using Bar Charts <br>"
   ]
  },
  {
   "cell_type": "markdown",
   "id": "96e772b6-259b-4677-87fc-e57b2e0bded3",
   "metadata": {},
   "source": [
    "As some quick reminders, you will not be expected or required to do any coding yourself in this notebook! The only questions you will be answering are some short-answer questions based on the data and visualizations. These questions that you will be answering are located in the yellow-shaded boxes throughout the notebook. Along with this, for any code cells that say \"`## Run this cell`\" at the top, be sure to run them so you can properly see the data tables and visualizations!\n",
    "\n",
    "**Note: To run a cell, first move your cursor over it and click once. After that, press `Ctrl + Enter` on your keyboard.**"
   ]
  },
  {
   "cell_type": "markdown",
   "id": "060e0502-6022-4492-aad4-04069203b214",
   "metadata": {},
   "source": [
    "------------------\n",
    "## Run the cell below to import all our required materials for this notebook!"
   ]
  },
  {
   "cell_type": "code",
   "execution_count": null,
   "id": "879ad16d-bdc4-476d-b041-a3ddd97cb19a",
   "metadata": {},
   "outputs": [],
   "source": [
    "## Run this cell\n",
    "!pip install openpyxl --upgrade\n",
    "# Used for visualizations and interactions\n",
    "import matplotlib\n",
    "import matplotlib.pyplot as plt\n",
    "import plotly.express as px\n",
    "import ipywidgets as widgets\n",
    "from ipywidgets import interact\n",
    "from IPython.display import display\n",
    "import plotly.express as px\n",
    "\n",
    "# Numerical computation\n",
    "import numpy as np\n",
    "from numpy import NaN\n",
    "from decimal import Decimal\n",
    "\n",
    "# Manipulating data in form of series or dataframes\n",
    "import pandas as pd\n",
    "\n",
    "# Manipulating fields that are date or time\n",
    "import datetime\n",
    "from datetime import time"
   ]
  },
  {
   "cell_type": "markdown",
   "id": "f03819ad-cae2-4129-8563-6891be6b8049",
   "metadata": {},
   "source": [
    "-------------\n",
    "# 1. Prenatal Development: Teratogen and Maternal Factors<a id='0'></a>"
   ]
  },
  {
   "cell_type": "markdown",
   "id": "bc961737-0cae-41d7-9986-e75451bd7442",
   "metadata": {},
   "source": [
    "[First few chapters in Intro to child development class](https://bookdown.org/nathalieyuen/understanding-the-whole-child/)\n"
   ]
  },
  {
   "cell_type": "markdown",
   "id": "d9ad2129-6432-448c-8156-cdd3ef3f2d62",
   "metadata": {},
   "source": [
    "-------------\n",
    "# 2. Data Background<a id='0'></a>"
   ]
  },
  {
   "cell_type": "markdown",
   "id": "3a5f68ef-29f0-49e4-be1f-7aec170b67ba",
   "metadata": {},
   "source": [
    "The PRAMS (Pregnancy Risk Assessment Monitoring System) data on maternal and child health indicators for 2016-2021 provides detailed information on various health measures aggregated by site. This includes statistics on prenatal care, breastfeeding, maternal smoking, and infant sleep practices, among other topics. These indicators help public health officials, researchers, and policymakers improve maternal and infant health programs. The data is available in standard and accessible formats for each year from 2016 to 2021.\n",
    "\n",
    "For more detailed information, you can visit the [PRAMS MCH Indicators page](https://www.cdc.gov/prams/php/data-research/mch-indicators-by-site.html).\n"
   ]
  },
  {
   "cell_type": "markdown",
   "id": "80c2ab30-05c3-447d-8a6a-9dae9bc84107",
   "metadata": {},
   "source": [
    "-------------\n",
    "# 3. Data Exploration<a id='0'></a>"
   ]
  },
  {
   "cell_type": "markdown",
   "id": "c97d90fa-a638-4a74-b543-6b41ec59727d",
   "metadata": {},
   "source": [
    "In this section, we will load and preprocess the PRAMS data for the years 2016 to 2021. Run the two cells below by clicking on the code cell and press `Ctrl + Enter`"
   ]
  },
  {
   "cell_type": "code",
   "execution_count": null,
   "id": "54faf577-3bec-4476-931d-11516752f437",
   "metadata": {},
   "outputs": [],
   "source": [
    "## Run this cell\n",
    "def preprocess(df):\n",
    "    indices = [0,3]\n",
    "    for i in range(1,42):\n",
    "        idx = indices[-1]\n",
    "        indices.append(idx+5)\n",
    "    col_indices = np.array(indices[1:])-2\n",
    "    columns = np.append(np.array(['Site Name']),df.iloc[0,col_indices].values)\n",
    "    df = df.iloc[:,indices]\n",
    "    df.columns = columns\n",
    "    return df.drop([0,1]).drop(df.tail(8).index).set_index(['Site Name']).iloc[:,[0,1,2,3,4,5,6,7,8,9,10,13,14,15,17,19]]\n",
    "\n",
    "filepath = \"./PRAMS-MCH-Indicators-2016-2021.xlsx\"\n",
    "data_2016 = preprocess(pd.read_excel(filepath, sheet_name=0))\n",
    "data_2017 = preprocess(pd.read_excel(filepath, sheet_name=1))\n",
    "data_2018 = preprocess(pd.read_excel(filepath, sheet_name=2))\n",
    "data_2019 = preprocess(pd.read_excel(filepath, sheet_name=3))\n",
    "data_2020 = preprocess(pd.read_excel(filepath, sheet_name=4))\n",
    "data_2021 = preprocess(pd.read_excel(filepath, sheet_name=5))    \n",
    "common_idx = data_2016.index.intersection(data_2017.index).intersection(data_2018.index)\\\n",
    "                        .intersection(data_2019.index).intersection(data_2020.index)\\\n",
    "                        .intersection(data_2021.index)\n",
    "sites_list = list(common_idx)  "
   ]
  },
  {
   "cell_type": "code",
   "execution_count": null,
   "id": "bd5f1c12-8f28-4919-8d4e-38c2c280f84b",
   "metadata": {},
   "outputs": [],
   "source": [
    "## Run this cell\n",
    "data_2019.head()"
   ]
  },
  {
   "cell_type": "markdown",
   "id": "25ff1e21-86ab-48ba-8cb2-984bb892288e",
   "metadata": {},
   "source": [
    "The table above shows various health indicators for pregnant women across different states in 2019. Each row represents a state, and each column represents a different health indicator. The units in each cell are percentages (%), indicating the proportion of women reporting each behavior or condition. In addition, the top row labeled `Sites aggregated*` provides average percentages across all sites. The table shows only the first few rows to give a general idea, omitting unnecessary parts to save space."
   ]
  },
  {
   "cell_type": "markdown",
   "id": "69908317-1804-4e99-aeb9-e3721690e528",
   "metadata": {},
   "source": [
    "Next, run the two cells below. They will provide a list of all indicators and sites we will focus on for the rest of the notebook."
   ]
  },
  {
   "cell_type": "code",
   "execution_count": null,
   "id": "112e6ede-f9d0-4d40-be56-dd7a7d41e25d",
   "metadata": {},
   "outputs": [],
   "source": [
    "## List of variables \n",
    "data_2016.columns"
   ]
  },
  {
   "cell_type": "code",
   "execution_count": null,
   "id": "3920e525-3009-422e-852a-fa5106703ece",
   "metadata": {},
   "outputs": [],
   "source": [
    "## List of avaiable sites\n",
    "sites_list"
   ]
  },
  {
   "cell_type": "markdown",
   "id": "913e9a78-86e2-4568-be5a-101811065682",
   "metadata": {},
   "source": [
    "<!-- BEGIN QUESTION -->\n",
    "<div class=\"alert alert-warning\">\n",
    "\n",
    "## Question 1:\n",
    "\n",
    "**Based on the table above and the chapter `2.2. Prenatal Development`, discuss how this data aligns with the concepts of prenatal development and teratogens covered in the chapter. Consider how you use this data to improve prenatal care.**\n",
    " \n",
    "</div>"
   ]
  },
  {
   "cell_type": "markdown",
   "id": "53255be2-b748-4d08-848e-0394c68a454e",
   "metadata": {},
   "source": [
    "*Type your answer here. Double-click to edit this cell and replace this text with your answer. Run this cell to proceed when finished.*"
   ]
  },
  {
   "cell_type": "markdown",
   "id": "0053496b-2a81-4d45-a5cd-575238958cff",
   "metadata": {},
   "source": [
    "-------------\n",
    "# 4. Visualizations <a id='0'></a>"
   ]
  },
  {
   "cell_type": "markdown",
   "id": "314a7706-c016-4557-9544-01ec88b8a612",
   "metadata": {},
   "source": [
    "In this section, we will create visualizations to better understand the PRAMS data across different states and over time. These visualizations will help us identify trends and patterns in maternal health indicators, and how they vary geographically and temporally."
   ]
  },
  {
   "cell_type": "markdown",
   "id": "b41d397c-aa2c-4039-941a-4705a1847a3b",
   "metadata": {},
   "source": [
    "### 4.1. Geographic Map"
   ]
  },
  {
   "cell_type": "markdown",
   "id": "ffb57b79-e7ec-46ab-96a8-627378dc801d",
   "metadata": {},
   "source": [
    "In this subsection, we will create a geographic map to visualize the distribution of various health indicators across different states. This map allows us to see how specific prenatal and postpartum behaviors and conditions vary geographically. By selecting different years and variables, we can observe trends and identify regions with higher or lower percentages for certain health indicators. Run the code cell below to genarate an interactive geographic map. "
   ]
  },
  {
   "cell_type": "code",
   "execution_count": null,
   "id": "f33d48b3-b37e-46b6-bc00-71878c8a38e7",
   "metadata": {},
   "outputs": [],
   "source": [
    "## Run this cell\n",
    "def plot_map(year, variable):\n",
    "    state_to_code = {\n",
    "    \"Alabama\": \"AL\", \"Alaska\": \"AK\", \"Arizona\": \"AZ\", \"Arkansas\": \"AR\", \"California\": \"CA\",\n",
    "    \"Colorado\": \"CO\", \"Connecticut\": \"CT\", \"Delaware\": \"DE\", \"Florida\": \"FL\", \"Georgia\": \"GA\",\n",
    "    \"Hawaii\": \"HI\", \"Idaho\": \"ID\", \"Illinois\": \"IL\", \"Indiana\": \"IN\", \"Iowa\": \"IA\",\n",
    "    \"Kansas\": \"KS\", \"Kentucky\": \"KY\", \"Louisiana\": \"LA\", \"Maine\": \"ME\", \"Maryland\": \"MD\",\n",
    "    \"Massachusetts\": \"MA\", \"Michigan\": \"MI\", \"Minnesota\": \"MN\", \"Mississippi\": \"MS\", \"Missouri\": \"MO\",\n",
    "    \"Montana\": \"MT\", \"Nebraska\": \"NE\", \"Nevada\": \"NV\", \"New Hampshire\": \"NH\", \"New Jersey\": \"NJ\",\n",
    "    \"New Mexico\": \"NM\", \"New York\": \"NY\", \"North Carolina\": \"NC\", \"North Dakota\": \"ND\", \"Ohio\": \"OH\",\n",
    "    \"Oklahoma\": \"OK\", \"Oregon\": \"OR\", \"Pennsylvania\": \"PA\", \"Rhode Island\": \"RI\", \"South Carolina\": \"SC\",\n",
    "    \"South Dakota\": \"SD\", \"Tennessee\": \"TN\", \"Texas\": \"TX\", \"Utah\": \"UT\", \"Vermont\": \"VT\",\n",
    "    \"Virginia\": \"VA\", \"Washington\": \"WA\", \"West Virginia\": \"WV\", \"Wisconsin\": \"WI\", \"Wyoming\": \"WY\"}\n",
    "    data = globals()[f\"data_{year}\"]\n",
    "    df = data.drop(index=['Sites aggregated*'])\n",
    "    df['State'] = df.index.map(state_to_code)\n",
    "\n",
    "    fig = px.choropleth(\n",
    "        df,\n",
    "        locations='State',  # Column in DataFrame containing state names or abbreviations\n",
    "        locationmode=\"USA-states\",  # Ensures state names are recognized correctly\n",
    "        color= variable,  # Data column to use for coloring\n",
    "        scope=\"usa\",  # Focus map on the USA\n",
    "        title='State Data Visualization')\n",
    "    fig.show()\n",
    "year_dropdown = widgets.Dropdown(\n",
    "    options= range(2016,2022),\n",
    "    description = 'Year: ',\n",
    "    disable= False\n",
    ")\n",
    "var_dropdown = widgets.Dropdown(\n",
    "    options= data_2016.columns,\n",
    "    description = 'Variable: ',\n",
    "    disabled = False\n",
    ")\n",
    "\n",
    "interact(plot_map, year= year_dropdown, variable=var_dropdown);"
   ]
  },
  {
   "cell_type": "markdown",
   "id": "100ce649-4f79-4241-8f55-1a3143b76a09",
   "metadata": {},
   "source": [
    "When you run the code, you will see a map of the United States with states colored according to the percentage values of the selected health indicator. Darker colors typically represent higher percentages, while lighter colors represent lower percentages. By hovering over a state, you can see the exact percentage for that indicator in that state for the selected year. A legend box next to the map explains the values represented by the different colors.\n",
    "\n",
    "**Interacting with the Map:**\n",
    "\n",
    "Use the `Year` dropdown menu to select the year you want to analyze.\n",
    "Use the `Variable` dropdown menu to select the health indicator you are interested in.\n",
    "For example, if you select `2019` and `Any cigarette smoking during the last 3 months of pregnancy` you might observe that some states have higher percentages of smoking during pregnancy than others. This can highlight areas where targeted public health interventions might be needed to reduce smoking rates during pregnancy.\n",
    "\n",
    "**Note:**\n",
    "There are missing data in several states due to limited available sites from PRAMS data. If a state does not have data for the selected year or variable, it will not be colored on the map."
   ]
  },
  {
   "cell_type": "markdown",
   "id": "78ecf457-a3d9-488e-9a06-ea09e0a32e25",
   "metadata": {},
   "source": [
    "<!-- BEGIN QUESTION -->\n",
    "<div class=\"alert alert-warning\">\n",
    "\n",
    "## Question 2:\n",
    "\n",
    "**Using the interactive map, select the year `2020` and the variable `Began prenatal care in 1st trimester.` Observe and describe any patterns or trends in early prenatal care initiation across the states. Which regions have higher percentages of women beginning prenatal care in the first trimester, and how might this information help target public health resources and interventions to improve prenatal care access and outcomes?**\n",
    " \n",
    "</div>"
   ]
  },
  {
   "cell_type": "markdown",
   "id": "749ff293-e701-4203-ae5b-f72c84e2bb5a",
   "metadata": {},
   "source": [
    "*Type your answer here. Double-click to edit this cell and replace this text with your answer. Run this cell to proceed when finished.*"
   ]
  },
  {
   "cell_type": "markdown",
   "id": "c6bcf785-10f0-4798-b11e-519b367f10fe",
   "metadata": {},
   "source": [
    "### 4.2.  Trends Over Time: Visualizing Changes in Health Indicators using Tables"
   ]
  },
  {
   "cell_type": "markdown",
   "id": "8701f122-2452-4280-ae0d-6b8a523c472e",
   "metadata": {},
   "source": [
    "In this subsection, we will analyze how a single health indicator changes over time across different states. This allows us to identify trends and patterns in a selected maternal health indicator over multiple years. By selecting different variables, we can compare the changes and gain insights into the effectiveness of health interventions and policies over time.\n",
    "\n",
    "Run the cell below."
   ]
  },
  {
   "cell_type": "code",
   "execution_count": null,
   "id": "a1fea428-b463-4f3a-8bc2-df0a3f31c4ba",
   "metadata": {},
   "outputs": [],
   "source": [
    "## Run this cell\n",
    "def variable_over_time(var):\n",
    "    data_frames = [globals()[f\"data_{year}\"].loc[sites_list, var].rename(year) for year in range(2016, 2022)]\n",
    "    data = pd.concat(data_frames, axis=1)\n",
    "    # Transpose to get years as rows for plotting\n",
    "    data = data.transpose()\n",
    "    return data\n",
    "var_dropdown = widgets.Dropdown(\n",
    "    options= data_2016.columns,\n",
    "    description = 'Variable: ',\n",
    "    disabled = False\n",
    ")\n",
    "\n",
    "interact(variable_over_time, var=var_dropdown, selected_sites=sites_list);"
   ]
  },
  {
   "cell_type": "markdown",
   "id": "0ee85c70-caec-4a33-9cfd-123e047b19f5",
   "metadata": {},
   "source": [
    "The generated table displays the percentage values of the selected health indicator for the chosen states over the years 2016 to 2021. Each row represents a year, and each column represents the percentage value for a state. Use the `Variable` dropdown menu to select the health indicator you want to analyze. This format allows for easy comparison of trends over time."
   ]
  },
  {
   "cell_type": "markdown",
   "id": "31efdd05-5a77-4d82-99a0-881726706075",
   "metadata": {},
   "source": [
    "<!-- BEGIN QUESTION -->\n",
    "<div class=\"alert alert-warning\">\n",
    "\n",
    "## Question 3:\n",
    "\n",
    "**Using the generated table, compare the trends in \"Self-reported depression during pregnancy\" from 2016 to 2021 for Massachusetts and Louisiana. What differences do you observe between these two states over time, and how might these trends reflect the effectiveness of mental health interventions for pregnant women in each state?**\n",
    " \n",
    "</div>"
   ]
  },
  {
   "cell_type": "markdown",
   "id": "96630814-a718-4f36-b51d-7b4f238815e0",
   "metadata": {},
   "source": [
    "*Type your answer here. Double-click to edit this cell and replace this text with your answer. Run this cell to proceed when finished.*"
   ]
  },
  {
   "cell_type": "markdown",
   "id": "6efd5aa1-6ecf-4321-9196-3209769ac20a",
   "metadata": {},
   "source": [
    "### 4.3. Trends Over Time: Visualizing Changes in Health Indicators using Bar Charts"
   ]
  },
  {
   "cell_type": "markdown",
   "id": "e698beff-9ca8-47ee-b016-9ed07dc49498",
   "metadata": {},
   "source": [
    "The table in section 4.2 is helpful but has some limitations. In this subsection, we will conduct the same analysis of a single variable over time across different sites by using bar charts. This visual representation will allow us to better identify trends and differences in maternal health indicators across various states over multiple years.\n",
    "\n",
    "Run the code cell below."
   ]
  },
  {
   "cell_type": "code",
   "execution_count": null,
   "id": "b1037317-d661-4ed6-8f21-90d145531d46",
   "metadata": {},
   "outputs": [],
   "source": [
    "## Run the cell \n",
    "# Create a dictionary of Checkbox widgets for each site\n",
    "checkboxes = {site: widgets.Checkbox(value=(site == sites_list[0]), description=site) for site in sites_list}\n",
    "\n",
    "# Function to bundle the checkboxes into a UI component\n",
    "def create_checkbox_group(checkbox_dict):\n",
    "    return widgets.VBox([checkbox for checkbox in checkbox_dict.values()])\n",
    "\n",
    "checkbox_group = create_checkbox_group(checkboxes)\n",
    "\n",
    "# Widget setup for variable selection\n",
    "var_dropdown = widgets.Dropdown(\n",
    "    options= data_2016.columns,\n",
    "    description = 'Variable: ',\n",
    "    disabled = False\n",
    ")\n",
    "\n",
    "# Button to trigger the plot\n",
    "plot_button = widgets.Button(description='Plot Data')\n",
    "\n",
    "# Output widget for the plots\n",
    "output = widgets.Output()\n",
    "\n",
    "def on_plot_button_clicked(b):\n",
    "    with output:\n",
    "        output.clear_output()\n",
    "        # Filter selected sites based on the checkbox states\n",
    "        selected_sites = [site for site, checkbox in checkboxes.items() if checkbox.value]\n",
    "        \n",
    "        if not selected_sites:\n",
    "            print(\"Please select at least one site.\")\n",
    "            return\n",
    "     \n",
    "        data_frames = [globals()[f\"data_{year}\"].loc[selected_sites, var_dropdown.value].rename(year) for year in range(2016, 2022)]\n",
    "        data = pd.concat(data_frames, axis=1)\n",
    "        \n",
    "        # Transpose to get years as rows for plotting\n",
    "        data = data.transpose()\n",
    "        \n",
    "        # Plotting\n",
    "        data.plot.bar(rot=0)\n",
    "        plt.legend(loc='center left', bbox_to_anchor=(1.0, 0.5))\n",
    "        plt.title(f\"How \\\"{var_dropdown.value}\\\" Changes Over Time\")\n",
    "        plt.show()\n",
    "\n",
    "plot_button.on_click(on_plot_button_clicked)\n",
    "\n",
    "# Displaying the UI components\n",
    "print(\"Please select site(s) and a variable, then click \\'Plot Data\\'\")\n",
    "display(widgets.VBox([checkbox_group, var_dropdown, plot_button, output]))"
   ]
  },
  {
   "cell_type": "markdown",
   "id": "23db6b94-94d5-403e-820c-0d1bc8e4d17d",
   "metadata": {},
   "source": [
    "**Instructions:**\n",
    "\n",
    "Use the checkboxes to select the `states` you want to compare.\n",
    "\n",
    "Use the `Variable` dropdown menu to select the health indicator you want to analyze.\n",
    "\n",
    "Click the `Plot Data` button to generate the bar chart showing the changes in the selected variable over time for the chosen states.\n",
    "\n",
    "The bar charts generated will display the percentage values of the selected health indicator for the chosen states over the years 2016 to 2021. Each bar represents the percentage for a specific year, and each group of bars represents a different state. The x-axis shows the years, while the y-axis shows the percentage values. This visual format allows for easy comparison of trends and differences in the selected health indicator over time between the states. By analyzing these charts, you can observe how maternal health behaviors and conditions have changed and identify any significant trends or patterns."
   ]
  },
  {
   "cell_type": "markdown",
   "id": "dcffea8e-0538-4b32-9760-e57348198a00",
   "metadata": {},
   "source": [
    "<!-- BEGIN QUESTION -->\n",
    "<div class=\"alert alert-warning\">\n",
    "\n",
    "## Question 4:\n",
    "\n",
    "**Using the interactive tool, select the variable `Obese (BMI ≥30 kg/m2)` and compare the trends from 2016 to 2021 for Colorado and Pennsylvania. What differences do you observe between these two states over time, and what might these trends suggest about the prevalence and management of obesity among pregnant women in each state?**\n",
    " \n",
    "</div>"
   ]
  },
  {
   "cell_type": "markdown",
   "id": "4602851d-7c1a-41d9-a83f-53adb6f3bd9c",
   "metadata": {},
   "source": [
    "*Type your answer here. Double-click to edit this cell and replace this text with your answer. Run this cell to proceed when finished.*"
   ]
  },
  {
   "cell_type": "markdown",
   "id": "a48089d0-344a-4fa6-8282-a88badb7eb37",
   "metadata": {},
   "source": [
    "-------------\n",
    "# Congratulations! You Have Completed the Notebook!<a id='0'></a>"
   ]
  }
 ],
 "metadata": {
  "kernelspec": {
   "display_name": "Python 3 (ipykernel)",
   "language": "python",
   "name": "python3"
  },
  "language_info": {
   "codemirror_mode": {
    "name": "ipython",
    "version": 3
   },
   "file_extension": ".py",
   "mimetype": "text/x-python",
   "name": "python",
   "nbconvert_exporter": "python",
   "pygments_lexer": "ipython3",
   "version": "3.11.9"
  }
 },
 "nbformat": 4,
 "nbformat_minor": 5
}
