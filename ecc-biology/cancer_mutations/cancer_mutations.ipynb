{
 "cells": [
  {
   "cell_type": "markdown",
   "id": "0fa7e66b",
   "metadata": {},
   "source": [
    "# Investigating Cancer Genomics: Mutation Patterns and Patient Outcomes\n",
    "\n",
    "> **Created and developed by [Suparna Kompalli](https://www.linkedin.com/in/suparna-kompalli-79463b229/) and [Brandon Concepcion](https://www.linkedin.com/in/brandonconcepcion/), with assistance and supervision by [Jonathan Ferrari](https://www.linkedin.com/in/jonathanferrari/), [Professor Darcie McClelland](https://www.linkedin.com/in/darcie-mcclelland-descalzo-56796b1b/), and [Professor Eric Van Dusen](https://www.linkedin.com/in/ericvd/) as part of our work with UC Berkeley's [College of Computing, Data Science and Society](https://cdss.berkeley.edu/) as well as [El Camino College](https://www.elcamino.edu/)**"
   ]
  },
  {
   "cell_type": "markdown",
   "id": "8c619b96",
   "metadata": {},
   "source": [
    "## **Breast Cancer**\n",
    "\n",
    "Cancer is a disease of the genome, and every cancer originates from a series of **mutations in DNA** causing cells to grow uncontrollably. But not all cancers are the same — and neither are the mutations that drive them.\n",
    "\n",
    "In this notebook, you will explore real breast cancer patient data to understand how different gene mutations relate to cancer subtypes and patient outcomes. You’ll investigate questions like:\n",
    "\n",
    "- Which gene mutations are most common in breast cancer?\n",
    "- How do mutation rates vary across molecular subtypes\n",
    "- Are certain mutations associated with more aggressive disease or lower survival?\n",
    "- Do mutations correlate with how patients are treated (e.g., chemotherapy)?\n",
    "\n",
    "Understanding these patterns can help doctors better **stratify risk**, **choose therapies**, and even **design new treatments**."
   ]
  },
  {
   "cell_type": "markdown",
   "id": "dec13997",
   "metadata": {},
   "source": [
    "Run the cell below to import all of the necessary libraries for this assignment!"
   ]
  },
  {
   "cell_type": "code",
   "execution_count": null,
   "id": "0959cadf",
   "metadata": {},
   "outputs": [],
   "source": [
    "import pandas as pd\n",
    "from utils import *\n",
    "from mut_widget import *\n",
    "import matplotlib.pyplot as plt\n",
    "%matplotlib inline\n",
    "import seaborn as sns"
   ]
  },
  {
   "cell_type": "markdown",
   "id": "5bace8ff",
   "metadata": {},
   "source": [
    "<hr style=\"border: 2px solid #003262\">\n",
    "<hr style=\"border: 2px solid #C9B676\">"
   ]
  },
  {
   "cell_type": "markdown",
   "id": "05e28233",
   "metadata": {},
   "source": [
    "## The METABRIC Dataset: \n",
    "\n",
    "We'll be using real patient data from the **METABRIC (Molecular Taxonomy of Breast Cancer International Consortium)** study. We found this dataset on [Kaggle](https://www.kaggle.com/), a widely-used, data-driven platform that hosts thousands of high-quality datasets. The link to our dataset can be accessed [here!](https://www.kaggle.com/datasets/raghadalharbi/breast-cancer-gene-expression-profiles-metabric)\n",
    "\n",
    "An excerpt from the dataset’s Kaggle description provides a detailed overview of the data and its context.\n",
    "\n",
    ">\"*The Molecular Taxonomy of Breast Cancer International Consortium (METABRIC) database is a Canada-UK Project which contains targeted sequencing data of 1,980 primary breast cancer samples. Clinical and genomic data was downloaded from cBioPortal.*\n",
    ">*The dataset was collected by Professor Carlos Caldas from Cambridge Research Institute and Professor Sam Aparicio from the British Columbia Cancer Centre in Canada and published on Nature Communications (Pereira et al., 2016). It was also featured in multiple papers including Nature and others:*\n",
    ">- *[Associations between genomic stratification of breast cancer and centrally reviewed tumor pathology in the METABRIC cohort](https://www.nature.com/articles/s41523-018-0056-8)*\n",
    ">- *[Predicting Outcomes of Hormone and Chemotherapy in the Molecular Taxonomy of Breast Cancer International Consortium (METABRIC) Study by Biochemically-inspired Machine Learning](https://www.ncbi.nlm.nih.gov/pmc/articles/PMC5461908/)*\"\n",
    "\n",
    "<div class=\"alert alert-block alert-success\">\n",
    "<b>Important Note: Every patient in this dataset already has breast cancer. \n",
    "</div>"
   ]
  },
  {
   "cell_type": "markdown",
   "id": "9ee37238",
   "metadata": {},
   "source": [
    "We'll start by using the [`pandas`](https://pandas.pydata.org/) library. `pandas` is a powerful and widely-used Python tool for working with tabular data. It allows us to read, organize, and manipulate datasets efficiently, especially when dealing with spreadsheets or CSV (Comma Separate Value) files. Let’s load our data using `pandas`:"
   ]
  },
  {
   "cell_type": "code",
   "execution_count": null,
   "id": "9c1c598a",
   "metadata": {},
   "outputs": [],
   "source": [
    "df = pd.read_csv(\"METABRIC.csv\")\n",
    "df.head() "
   ]
  },
  {
   "cell_type": "code",
   "execution_count": null,
   "id": "41c05d12",
   "metadata": {},
   "outputs": [],
   "source": [
    "print(f\"There are {len(df.columns)} columns in our dataset!\")"
   ]
  },
  {
   "cell_type": "markdown",
   "id": "1443d1e0",
   "metadata": {
    "deletable": false,
    "editable": false
   },
   "source": [
    "<!-- BEGIN QUESTION -->\n",
    "\n",
    "**Question 0.1** Wow, that’s quite a few columns! Can you think of a reason why this dataset might include so many??"
   ]
  },
  {
   "cell_type": "markdown",
   "id": "c2eda213",
   "metadata": {
    "tags": [
     "otter_answer_cell"
    ]
   },
   "source": [
    "_Type your answer here, replacing this text._"
   ]
  },
  {
   "cell_type": "markdown",
   "id": "c36e4b4b",
   "metadata": {
    "deletable": false,
    "editable": false
   },
   "source": [
    "<!-- END QUESTION -->\n",
    "\n",
    "Below we’ll define some of the most relevant columns to focus on, these will be the primary features we use throughout the rest of the notebook. Feel free to reference the Kaggle [dataset](https://www.kaggle.com/datasets/raghadalharbi/breast-cancer-gene-expression-profiles-metabric) on your own to explore other interesting aspects of the dataset!"
   ]
  },
  {
   "cell_type": "code",
   "execution_count": null,
   "id": "d7b5764e",
   "metadata": {},
   "outputs": [],
   "source": [
    "# Manually defining important clinical and outcome columns\n",
    "clinical_columns = [\n",
    "    'patient_id',\n",
    "    'age_at_diagnosis',\n",
    "    'type_of_breast_surgery',\n",
    "    'cancer_type_detailed',\n",
    "    'pam50_+_claudin-low_subtype',\n",
    "    'chemotherapy',\n",
    "    'hormone_therapy',\n",
    "    'radio_therapy',\n",
    "    'tumor_size',\n",
    "    'tumor_stage',\n",
    "    'overall_survival',\n",
    "    'overall_survival_months'\n",
    "]\n",
    "\n",
    "# Select all columns that end with '_mut'\n",
    "mutation_columns = [col for col in df.columns if col.endswith('_mut')]\n",
    "\n",
    "# Combine the clinical + mutation columns\n",
    "relevant_columns = clinical_columns + mutation_columns\n",
    "\n",
    "# Filter the dataframe\n",
    "filtered_df = df[relevant_columns]\n",
    "\n",
    "# Display the shape to confirm how much we reduced it\n",
    "print(\"Filtered Dataframe shape:\", filtered_df.shape[0], \"rows and\", filtered_df.shape[1], \"columns\")\n",
    "filtered_df.head()"
   ]
  },
  {
   "cell_type": "markdown",
   "id": "165ebfaf",
   "metadata": {
    "deletable": false,
    "editable": false
   },
   "source": [
    "<!-- BEGIN QUESTION -->\n",
    "\n",
    "Python Widgets allow us to build interactive elements such as dropdowns, sliders, and checkboxes. They’re particularly useful for dynamically visualizing and filtering datasets without having to rewrite your code. \n",
    "\n",
    "**Question 0.2.** \n",
    "Below, we’ve created a widget for selecting certain columns from our dataset. Use the dropdown menu to choose a column and describe how it relates to a concept we've covered in this course!"
   ]
  },
  {
   "cell_type": "code",
   "execution_count": null,
   "id": "dcd4f215",
   "metadata": {
    "deletable": false,
    "editable": false
   },
   "outputs": [],
   "source": [
    "# Link dropdown selection to function\n",
    "dropdown.observe(show_description, names='value')\n",
    "\n",
    "# Display the widget\n",
    "display(dropdown, output)"
   ]
  },
  {
   "cell_type": "markdown",
   "id": "a48f9308",
   "metadata": {
    "tags": [
     "otter_answer_cell"
    ]
   },
   "source": [
    "_Type your answer here, replacing this text._"
   ]
  },
  {
   "cell_type": "markdown",
   "id": "044d3ed1",
   "metadata": {
    "deletable": false,
    "editable": false
   },
   "source": [
    "<!-- END QUESTION -->\n",
    "\n",
    "<hr style=\"border: 2px solid #003262\">\n",
    "<hr style=\"border: 2px solid #C9B676\">"
   ]
  },
  {
   "cell_type": "markdown",
   "id": "09135ff0",
   "metadata": {},
   "source": [
    "## Section 1: Frequency"
   ]
  },
  {
   "cell_type": "markdown",
   "id": "4516229f",
   "metadata": {},
   "source": [
    "Imagine for a second you're a doctor, or some kind of biomedical researcher, trying to understand the genetic factors behind breast cancer. One of your goals might be to identify which genes are most commonly mutated among patients, as this information can guide diagnoses, help risk assessment, or even formulate treatment strategies.\n",
    "\n",
    "In our dataset, we’ve **modified** the mutation data to make it easier to analyze. For each breast cancer patient, *every gene is represented using binary values*:\n",
    "\n",
    "- 0 – The patient does not have a mutation in that gene\n",
    "\n",
    "- 1 – The patient has at least one type of mutation in that gene\n",
    "\n",
    "For example, if a patient has **any kind** of mutation in their TP53 gene, but not in BRCA1, their data would show:\n",
    "- TP53 = 1\n",
    "- BRCA1 = 0\n",
    "\n",
    "This simplification allows us to more easily quantify and compare mutation frequencies across the entire patient population."
   ]
  },
  {
   "cell_type": "markdown",
   "id": "65e88cb7",
   "metadata": {},
   "source": [
    "Run the cell below to generate a bar chart showing the proportion of patients who carry mutations in several key cancer-related genes. Afterward, you'll answer a few questions based on the patterns you observe in the chart."
   ]
  },
  {
   "cell_type": "code",
   "execution_count": null,
   "id": "14008611",
   "metadata": {},
   "outputs": [],
   "source": [
    "mutation_cols = [col for col in filtered_df.columns if col.endswith('_mut')]\n",
    "\n",
    "# Create a binary version of mutation columns\n",
    "binary_mutations = filtered_df[mutation_cols].map(lambda x: 0 if x == \"0\" else 1)\n",
    "\n",
    "# Merge back with the clinical columns\n",
    "clinical_cols = [col for col in filtered_df.columns if col not in mutation_cols]\n",
    "eda_df = pd.concat([filtered_df[clinical_cols], binary_mutations], axis=1)\n",
    "\n",
    "# Mutation frequencies\n",
    "mutation_rates = eda_df[mutation_cols].mean().sort_values(ascending=False)\n",
    "\n",
    "# Plot\n",
    "plt.figure(figsize=(12,6))\n",
    "mutation_rates[:10].plot(kind='bar')\n",
    "plt.title('Top 10 Most Common Mutations')\n",
    "plt.ylabel('Proportion of Patients Mutated')\n",
    "plt.xlabel('Gene')\n",
    "plt.xticks(rotation=45)\n",
    "plt.grid(axis='y')\n",
    "plt.show()"
   ]
  },
  {
   "cell_type": "markdown",
   "id": "63cac34f",
   "metadata": {},
   "source": [
    "**Question 1.1.**  Which six genes have the highest mutation rates in the dataset? How can you tell?"
   ]
  },
  {
   "cell_type": "markdown",
   "id": "77764a6f",
   "metadata": {},
   "source": [
    "*Type Your Answer in Place of Each Number*\n",
    "\n",
    "1. \n",
    "2. \n",
    "3. \n",
    "4. \n",
    "5. \n",
    "6.\n",
    "\n",
    "*Type Your Justification Here*"
   ]
  },
  {
   "cell_type": "markdown",
   "id": "548ec40f",
   "metadata": {
    "deletable": false,
    "editable": false
   },
   "source": [
    "<!-- BEGIN QUESTION -->\n",
    "\n",
    "**Question 1.2.** Do any of these genes look familiar, based on what we've discussed in class? Explain what you remember about them and why they might be important in the context of cancer."
   ]
  },
  {
   "cell_type": "markdown",
   "id": "d0843cd1",
   "metadata": {
    "tags": [
     "otter_answer_cell"
    ]
   },
   "source": [
    "_Type your answer here, replacing this text._"
   ]
  },
  {
   "cell_type": "markdown",
   "id": "cb4adc01",
   "metadata": {
    "deletable": false,
    "editable": false
   },
   "source": [
    "<!-- END QUESTION -->\n",
    "\n",
    "<!-- BEGIN QUESTION -->\n",
    "\n",
    "**Question 1.3.** Choose one of the top six most frequently mutated genes and propose a hypothesis why this gene might be so commonly mutated in breast cancer patients. Why do you think a mutation in this particular gene could be especially indicative of cancer development?"
   ]
  },
  {
   "cell_type": "markdown",
   "id": "8abf4d9d",
   "metadata": {
    "tags": [
     "otter_answer_cell"
    ]
   },
   "source": [
    "_Type your answer here, replacing this text._"
   ]
  },
  {
   "cell_type": "markdown",
   "id": "91af052b",
   "metadata": {
    "deletable": false,
    "editable": false
   },
   "source": [
    "<!-- END QUESTION -->\n",
    "\n",
    "<hr style=\"border: 2px solid #003262\">\n",
    "<hr style=\"border: 2px solid #C9B676\">"
   ]
  },
  {
   "cell_type": "markdown",
   "id": "f6fc2310",
   "metadata": {},
   "source": [
    "## Section 2: Aggresive"
   ]
  },
  {
   "cell_type": "markdown",
   "id": "8255c7b2",
   "metadata": {},
   "source": [
    "###  Breast Cancer Subtypes and Mutation Patterns\n",
    "\n",
    "Breast cancer is not a single disease — it includes many **molecular subtypes**. One common classification is called **PAM50**, which includes:\n",
    "\n",
    "- **Luminal A** – less aggressive, hormone-positive\n",
    "- **Luminal B** – more aggressive than Luminal A\n",
    "- **HER2-enriched** – driven by HER2 amplification\n",
    "- **Basal-like** – most aggressive, often triple-negative\n",
    "- **Normal-like** – rare, resembles healthy breast tissue\n",
    "\n",
    "In this section, we’ll see how gene mutations vary across these subtypes."
   ]
  },
  {
   "cell_type": "markdown",
   "id": "22d2ab3f",
   "metadata": {},
   "source": [
    "We’ll begin by looking at **TP53**, which is often referred to as the “*guardian of the genome.*” This gene plays a critical role in regulating cell growth and initiating repair when DNA damage is detected.\n",
    "\n",
    "When TP53 is mutated, these protective functions become disrupted. Thus, damaged cells can begin to grow and divide unchecked. This loss of control is a hallmark of more aggressive forms of cancer, which is why TP53 mutations are so frequently observed in cancer patients.\n",
    "\n",
    "We encourage you to learn more about TP53 [here!](https://medlineplus.gov/genetics/gene/tp53/)"
   ]
  },
  {
   "cell_type": "markdown",
   "id": "a4edd285",
   "metadata": {},
   "source": [
    "#### Bar Charts"
   ]
  },
  {
   "cell_type": "markdown",
   "id": "87f8db30",
   "metadata": {},
   "source": [
    "Run the cell below. Please do not modify any of the lines—this cell has been pre-written to generate a specific visualization you’ll use to answer the following questions."
   ]
  },
  {
   "cell_type": "code",
   "execution_count": null,
   "id": "16b3bc92",
   "metadata": {},
   "outputs": [],
   "source": [
    "mutation = 'tp53_mut'\n",
    "\n",
    "mutation_by_subtype = eda_df.groupby('pam50_+_claudin-low_subtype')[mutation].mean().sort_values(ascending=False)\n",
    "\n",
    "plt.figure(figsize=(10,6))\n",
    "sns.barplot(x=mutation_by_subtype.index, y=mutation_by_subtype.values)\n",
    "plt.title('TP53 Mutation Frequency Across PAM50 Subtypes')\n",
    "plt.ylabel('Proportion Mutated')\n",
    "plt.xlabel('PAM50 Subtype')\n",
    "plt.xticks(rotation=45)\n",
    "plt.grid(axis='y')\n",
    "plt.show()"
   ]
  },
  {
   "cell_type": "markdown",
   "id": "6d674489",
   "metadata": {},
   "source": [
    "Based on the chart above, do your best to answer the following questions: \n",
    "\n",
    "*Hint: TP53 mutations are often found in more **aggressive** cancers.*"
   ]
  },
  {
   "cell_type": "markdown",
   "id": "3eeb4994",
   "metadata": {
    "deletable": false,
    "editable": false
   },
   "source": [
    "<!-- BEGIN QUESTION -->\n",
    "\n",
    "**Question 2.1.** Which cancer subtype shows the highest frequency of TP53 mutation? Which shows the lowest?"
   ]
  },
  {
   "cell_type": "markdown",
   "id": "0c5ae393",
   "metadata": {
    "tags": [
     "otter_answer_cell"
    ]
   },
   "source": [
    "_Type your answer here, replacing this text._"
   ]
  },
  {
   "cell_type": "markdown",
   "id": "3781f3ff",
   "metadata": {
    "deletable": false,
    "editable": false
   },
   "source": [
    "<!-- END QUESTION -->\n",
    "\n",
    "<!-- BEGIN QUESTION -->\n",
    "\n",
    "**Question 2.2.** TP53 mutations are highly frequent in some breast cancer subtypes but almost absent in others. Why do you think TP53 mutations might be more common in certain subtypes? What does this suggest about the biology of these cancers?"
   ]
  },
  {
   "cell_type": "markdown",
   "id": "eb10cb3c",
   "metadata": {
    "tags": [
     "otter_answer_cell"
    ]
   },
   "source": [
    "_Type your answer here, replacing this text._"
   ]
  },
  {
   "cell_type": "markdown",
   "id": "a4c899e4",
   "metadata": {
    "deletable": false,
    "editable": false
   },
   "source": [
    "<!-- END QUESTION -->\n",
    "\n",
    "<!-- BEGIN QUESTION -->\n",
    "\n",
    "**Question 2.3.** Based on the plot alone, can we conclude that if TP53 mutation exists, it causes a subtype to be more aggressive? Why or why not?"
   ]
  },
  {
   "cell_type": "markdown",
   "id": "f6108c2f",
   "metadata": {
    "tags": [
     "otter_answer_cell"
    ]
   },
   "source": [
    "_Type your answer here, replacing this text._"
   ]
  },
  {
   "cell_type": "markdown",
   "id": "04b26d16",
   "metadata": {
    "deletable": false,
    "editable": false
   },
   "source": [
    "<!-- END QUESTION -->\n",
    "\n",
    "#### Histograms"
   ]
  },
  {
   "cell_type": "markdown",
   "id": "2a81090b",
   "metadata": {},
   "source": [
    "Run the cell below. Please do not modify any of the lines—this cell has been pre-written to generate a specific visualization you’ll use to answer the following questions."
   ]
  },
  {
   "cell_type": "code",
   "execution_count": null,
   "id": "98544884",
   "metadata": {},
   "outputs": [],
   "source": [
    "plt.figure(figsize=(10,6))\n",
    "sns.histplot(data=eda_df, x='tumor_size', hue='tp53_mut', bins=30, palette=['#1f77b4', '#d62728'], stat='density', common_norm=False)\n",
    "plt.title('Distribution of Tumor Size by TP53 Mutation Status')\n",
    "plt.xlabel('Tumor Size (mm)')\n",
    "plt.ylabel('Density')\n",
    "plt.legend(title='TP53 Mutated', labels=['No', 'Yes'])\n",
    "plt.grid(axis='y')\n",
    "plt.show()"
   ]
  },
  {
   "cell_type": "markdown",
   "id": "f3aac642",
   "metadata": {
    "deletable": false,
    "editable": false
   },
   "source": [
    "<!-- BEGIN QUESTION -->\n",
    "\n",
    "**Question 2.4.** Compare the shapes of the overlaid distributions. Among all patients *with* breast cancer, do patients with TP53 mutations tend to have larger tumors?"
   ]
  },
  {
   "cell_type": "markdown",
   "id": "c0a01ba5",
   "metadata": {
    "tags": [
     "otter_answer_cell"
    ]
   },
   "source": [
    "_Type your answer here, replacing this text._"
   ]
  },
  {
   "cell_type": "markdown",
   "id": "2cdb715d",
   "metadata": {
    "deletable": false,
    "editable": false
   },
   "source": [
    "<!-- END QUESTION -->\n",
    "\n",
    "Run the cell below. Please do not modify any of the lines—this cell has been pre-written to generate a specific visualization you’ll use to answer the following questions."
   ]
  },
  {
   "cell_type": "code",
   "execution_count": null,
   "id": "cbcbcea3",
   "metadata": {},
   "outputs": [],
   "source": [
    "plt.figure(figsize=(10,6))\n",
    "sns.histplot(data=eda_df, x='overall_survival_months', hue='tp53_mut', bins=30, palette=['#1f77b4', '#d62728'], stat='density', common_norm=False)\n",
    "plt.title('Distribution of Survival Time by TP53 Mutation Status')\n",
    "plt.xlabel('Overall Survival (Months)')\n",
    "plt.ylabel('Density')\n",
    "plt.legend(title='TP53 Mutated', labels=['No', 'Yes'])\n",
    "plt.grid(axis='y')\n",
    "plt.show()"
   ]
  },
  {
   "cell_type": "markdown",
   "id": "5d813977",
   "metadata": {
    "deletable": false,
    "editable": false
   },
   "source": [
    "<!-- BEGIN QUESTION -->\n",
    "\n",
    "**Question 2.5.** Which group seems to have longer average overall survival? Note key parts from the graph when writing your response."
   ]
  },
  {
   "cell_type": "markdown",
   "id": "1b07a902",
   "metadata": {
    "tags": [
     "otter_answer_cell"
    ]
   },
   "source": [
    "_Type your answer here, replacing this text._"
   ]
  },
  {
   "cell_type": "markdown",
   "id": "fda6ba48",
   "metadata": {
    "deletable": false,
    "editable": false
   },
   "source": [
    "<!-- END QUESTION -->\n",
    "\n",
    "#### Heat Map"
   ]
  },
  {
   "cell_type": "markdown",
   "id": "c0d1bce3",
   "metadata": {},
   "source": [
    "The heatmap below displays the *proportion of patients* within each breast cancer subtype who carry a mutations in the various genes. This plot shows **how frequently** each gene is mutated **within each subtype**.  \n",
    "\n",
    "- Each row corresponds to a gene (e.g., TP53, PIK3CA)\n",
    "\n",
    "- Each column corresponds to a cancer subtypes (e.g., Basal, Luminal A)\n",
    "\n",
    "- Each value in a particular cell corresponds to the proportion of patients **with that mutation, among those in the subtype**\n",
    "  - For example: A value of `0.33` for **AKT1 in NC** means that **33% of NC-like patients** have an AKT1 mutation.\n",
    "\n",
    "**Important Note:** These are **not correlations** between genes.  "
   ]
  },
  {
   "cell_type": "markdown",
   "id": "264a6247",
   "metadata": {},
   "source": [
    "Run the cell below. Please do not modify any of the lines—this cell has been pre-written to generate a specific visualization you’ll use to answer the following questions."
   ]
  },
  {
   "cell_type": "code",
   "execution_count": null,
   "id": "22ef3dfb",
   "metadata": {},
   "outputs": [],
   "source": [
    "# List of mutation columns you want to include (binary: 0 = no mutation, 1 = mutated)\n",
    "selected_mutations = [\n",
    "    'tp53_mut', 'pik3ca_mut', 'brca1_mut', 'brca2_mut',\n",
    "    'pten_mut', 'cdh1_mut', 'akt1_mut', 'rb1_mut',\n",
    "    'gata3_mut', 'map2k4_mut'\n",
    "]\n",
    "\n",
    "# Group by cancer subtype and compute the mean (i.e. mutation rate) for each gene\n",
    "mutation_subtype_matrix = eda_df.groupby('pam50_+_claudin-low_subtype')[selected_mutations].mean().T\n",
    "\n",
    "# Optional: Make row labels cleaner\n",
    "mutation_subtype_matrix.index = [gene.upper().replace('_MUT', '') for gene in mutation_subtype_matrix.index]\n",
    "\n",
    "sns.heatmap(mutation_subtype_matrix, annot=True, cmap='YlOrRd', linewidths=0.5)\n",
    "plt.title('Mutation Frequencies Across Subtypes')\n",
    "plt.ylabel('Gene')\n",
    "plt.xlabel('Cancer Subtype')\n",
    "plt.xticks(rotation=45)\n",
    "plt.yticks(rotation=0)\n",
    "plt.tight_layout()\n",
    "plt.show()"
   ]
  },
  {
   "cell_type": "markdown",
   "id": "e7ae8f90",
   "metadata": {
    "deletable": false,
    "editable": false
   },
   "source": [
    "<!-- BEGIN QUESTION -->\n",
    "\n",
    "**Question 2.6.** Which gene is mutated most often across all subtypes? Be sure to caculate the average mutaton frequency across all substypes when providing your answer."
   ]
  },
  {
   "cell_type": "markdown",
   "id": "1a193e24",
   "metadata": {
    "tags": [
     "otter_answer_cell"
    ]
   },
   "source": [
    "_Type your answer here, replacing this text._"
   ]
  },
  {
   "cell_type": "markdown",
   "id": "1e4eb27e",
   "metadata": {
    "deletable": false,
    "editable": false
   },
   "source": [
    "<!-- END QUESTION -->\n",
    "\n",
    "<!-- BEGIN QUESTION -->\n",
    "\n",
    "**Question 2.7.** TP53 mutation is very common in Basal-like tumors but rare in Luminal A. Why could this be the case?"
   ]
  },
  {
   "cell_type": "markdown",
   "id": "b4849c68",
   "metadata": {
    "tags": [
     "otter_answer_cell"
    ]
   },
   "source": [
    "_Type your answer here, replacing this text._"
   ]
  },
  {
   "cell_type": "markdown",
   "id": "aabed671",
   "metadata": {
    "deletable": false,
    "editable": false
   },
   "source": [
    "<!-- END QUESTION -->\n",
    "\n",
    "<!-- BEGIN QUESTION -->\n",
    "\n",
    "**Question 2.8.** Are there genes that are highly specific to one or two subtypes? Provide at least two examples."
   ]
  },
  {
   "cell_type": "markdown",
   "id": "1131430b",
   "metadata": {
    "tags": [
     "otter_answer_cell"
    ]
   },
   "source": [
    "_Type your answer here, replacing this text._"
   ]
  },
  {
   "cell_type": "markdown",
   "id": "afeda8ff",
   "metadata": {
    "deletable": false,
    "editable": false
   },
   "source": [
    "<!-- END QUESTION -->\n",
    "\n",
    "<!-- BEGIN QUESTION -->\n",
    "\n",
    "**Question 2.9.** Are there genes that are rarely mutated in any subtype?"
   ]
  },
  {
   "cell_type": "markdown",
   "id": "46b94c6b",
   "metadata": {
    "tags": [
     "otter_answer_cell"
    ]
   },
   "source": [
    "_Type your answer here, replacing this text._"
   ]
  },
  {
   "cell_type": "markdown",
   "id": "018003e4",
   "metadata": {
    "deletable": false,
    "editable": false
   },
   "source": [
    "<!-- END QUESTION -->\n",
    "\n",
    "<hr style=\"border: 2px solid #003262\">\n",
    "<hr style=\"border: 2px solid #C9B676\">"
   ]
  },
  {
   "cell_type": "markdown",
   "id": "69067b33",
   "metadata": {},
   "source": [
    "## Congratulations! \n",
    "\n",
    "Cookie 🍪 congratulates you on finishing the Cancer & Mutations notebook! \n",
    "\n",
    "<img src=\"cookie.png\" style=\"width: 20%;\">\n",
    "\n",
    "In this notebook, we\n",
    "\n",
    "- Explored cancer mutation data to uncover how specific gene mutations, such as TP53, BRCA1/2, and PIK3CA, vary across different cancer subtypes\n",
    "\n",
    "- Explored how these mutations might relate to tumor size and patient survival\n",
    "\n",
    "- Utilized visual tools like heatmaps and histograms, to identify patterns in mutation frequency, and began to connect genetic changes to clinical outcomes\n",
    "\n",
    "We hope you had fun learning throughout this notebook! If you're curious to explore some of these topics further, we encourage you to explore how statistical testing can be used to assess the significance of the patterns we observed. You might also try your hand at time-to-event models such as survival analysis, even incorporating clinical features such as treatment type or patient age. This is just the tip of the iceberg when it comes to the world of genomics! \n",
    "\n",
    "Below are some opportunities to explore further: \n",
    "\n",
    "- **El Camino College Research Club**: Participate in hands-on projects like DNA barcoding and species identification. Feel free to reach out to Professor McClelland to learn more! \n",
    "\n",
    "- [**Mathematics, Engineering, Science Achievement (MESA) Program**](https://www.elcamino.edu/support/resources/mesa/): Offers access to STEM internships, research opportunities, and academic support\n",
    "\n",
    "- [**Honors Transfer Program (HTP)**](https://www.elcamino.edu/support/resources/honors-transfer/index.php): Engage in research projects and present findings at honors conferences!\n",
    "\n",
    "- **Internships through the Life Sciences Department**: Opportunities such as the SEA Lab internship focus on marine biology, environmental studies, and conservation!\n",
    "\n",
    "- **The [Lundquist Institute](https://lundquist.org/)**: Located near El Camino College, this institute offers programs where students can gain firsthand experience in scientific research environments"
   ]
  },
  {
   "cell_type": "markdown",
   "id": "cfa11bdb",
   "metadata": {
    "deletable": false,
    "editable": false
   },
   "source": [
    "## Submission\n",
    "\n",
    "Make sure you have run all cells in your notebook in order before running the cell below, so that all images/graphs appear in the output. The cell below will generate a zip file for you to submit. **Please save before exporting your notebook as a PDF!**"
   ]
  }
 ],
 "metadata": {
  "kernelspec": {
   "display_name": "ecc-bio",
   "language": "python",
   "name": "python3"
  },
  "language_info": {
   "codemirror_mode": {
    "name": "ipython",
    "version": 3
   },
   "file_extension": ".py",
   "mimetype": "text/x-python",
   "name": "python",
   "nbconvert_exporter": "python",
   "pygments_lexer": "ipython3",
   "version": "3.9.21"
  },
  "otter": {
   "OK_FORMAT": true,
   "tests": {}
  }
 },
 "nbformat": 4,
 "nbformat_minor": 5
}
