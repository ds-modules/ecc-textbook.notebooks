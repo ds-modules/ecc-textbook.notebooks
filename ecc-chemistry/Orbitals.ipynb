{
 "cells": [
  {
   "cell_type": "markdown",
   "metadata": {},
   "source": [
    "##  Chemistry Module - Visualizing Atomic Orbitals Using Programming\n",
    "\n",
    "**Estimated Time:** 15-30 minutes <br>\n",
    "**Notebook Developed By:** Lan Dinh <br>\n",
    "\n",
    "Welcome! This notebook will help you understand and visualize atomic orbitals using Python programming. By the end of this lesson, you will be able to plot wave functions of different orbitals and gain insights into their shapes and properties.\n",
    "\n",
    "One source for this notebook is:  \n",
    "https://weisscharlesj.github.io/SciCompforChemists/notebooks/chapter_03/chap_03_notebook.html\n",
    "\n",
    "**Note: To run a cell, first move your cursor over it and click once. After that, press `Ctrl + Enter` on your keyboard. Remember to run the cells sequentially from top to bottm of this notebook to avoid errors.**\n"
   ]
  },
  {
   "cell_type": "markdown",
   "metadata": {},
   "source": [
    "### Learning Outcomes\n",
    "By the end of this notebook, you will:\n",
    "- Calculate and visualize the radial wavefunctions $R_{nl}(r)$ for hyrogen orbitals 1s, 2s, 3s, 2p, 3p, and  3d.\n",
    "- Visualize and compare the angular shapes of $s$, $p_{x}$, $d_{xy}$, and $d_{z^2}$ orbitals in polar coordinates.\n",
    "  \n",
    "### Table of Contents\n",
    "1. Context Background <br>\n",
    "2. Radial Wavefunctions<br>\n",
    "2.1. Mathematical Definitions<br>\n",
    "2.2.  Python Implementation<br>\n",
    "3. Angular Wavefuncions in Polar Coordinates <br>\n",
    "3.1. Mathematical Definitions<br>\n",
    "3.2.  Python Implementation<br>"
   ]
  },
  {
   "cell_type": "markdown",
   "metadata": {},
   "source": [
    "------------------\n",
    "## Run the cell below to import all our required materials for this notebook!"
   ]
  },
  {
   "cell_type": "code",
   "execution_count": null,
   "metadata": {},
   "outputs": [],
   "source": [
    "import matplotlib.pyplot as plt\n",
    "import math\n",
    "import numpy as np\n",
    "from ipywidgets import interact, widgets\n",
    "%matplotlib inline  "
   ]
  },
  {
   "cell_type": "markdown",
   "metadata": {},
   "source": [
    "## 1. Context Background\n",
    "\n",
    "Atomic orbitals are fundamental concepts in quantum chemistry and atomic physics, describing the regions in an atom where electrons are most likely to be found. Understanding the shapes and properties of these orbitals is crucial for comprehending chemical bonding, electron configurations, and the behavior of atoms in various chemical reactions.\n",
    "\n",
    "Traditional methods of teaching atomic orbitals often rely on static images and mathematical equations, which can be abstract and challenging for students to visualize and grasp. However, with the advent of programming and computational tools, we can create dynamic visualizations that bring these abstract concepts to life.\n",
    "\n",
    "This module aims to leverage the power of Python programming to visualize atomic orbitals, making the learning process more interactive and engaging. By combining theoretical principles with practical coding exercises, students can gain a deeper understanding of the spatial distributions and characteristics of different orbitals."
   ]
  },
  {
   "cell_type": "markdown",
   "metadata": {},
   "source": [
    "## 2. Radial Wavefunctions"
   ]
  },
  {
   "cell_type": "markdown",
   "metadata": {},
   "source": [
    "<!-- The 3s atomic orbital of hydrogen is a specific region around the nucleus where there is a high probability of finding an electron. This region is defined by two key quantum numbers: the principal quantum number ($𝑛=3$) and the angular momentum quantum number ($l=0$). These quantum numbers give us information about the size and shape of the orbital.\n",
    "\n",
    " ### 2.1. 3s Orbital Wave Function\n",
    "A wave function, denoted as $\\psi$, is a mathematical equation that describes the behavior and location of an electron in an atom. For the 3s orbital, the wave function is written as  $\\psi_{3s}$. This function tells us how the electron's probability of being found at a certain distance from the nucleus changes as we move away from the nucleus.\n",
    "The following equation defines the wave function ($\\psi$) for the 3s atomic orbital of hydrogen with respect to atomic radius ($r$) in Bohrs ($a_0$).\n",
    "\n",
    "$$ \\psi_{3s} = \\frac{2}{27}\\sqrt{3}(2r^{2/9} - 2r + 3)e^{-r/3} $$\n",
    "\n",
    "Here:\n",
    "\n",
    "- $r$ is the distance from the nucleus.\n",
    "\n",
    "- The expression inside the parentheses $ \\frac{2r^2}{9} - 2r + 3 $ shows how the probability changes with distance.\n",
    "\n",
    "- The exponential term $e^{-\\frac{r}{3}}$ shows how the probability decreases as we move farther from the nucleus. -->"
   ]
  },
  {
   "cell_type": "markdown",
   "metadata": {},
   "source": [
    "### 2.1. Radial Wavefunctions: Mathematical Definitions"
   ]
  },
  {
   "cell_type": "markdown",
   "metadata": {},
   "source": [
    "#### Constants\n",
    "The following constants are used in the calculations:\n",
    "- **$a_0 = 52.92 \\, \\mathrm{pm}$**: The Bohr radius, representing the average distance of an electron in the ground state of hydrogen.\n",
    "- **$Z = 1$**: The atomic number of hydrogen, which has one proton in the nucleus.\n",
    "\n",
    "#### Radial Wavefunctions\n",
    "The radial wavefunctions $R_{nl}(r)$ describe the radial part of the wavefunction for hydrogen orbitals. These functions depend on the principal quantum number $n$, orbital angular momentum quantum number $l$, and the distance $r$ from the nucleus.\n",
    "\n",
    "#### General Formula\n",
    "Each radial wavefunction has the general form:\n",
    "$$\n",
    "R_{nl}(r) = f(r, Z, a_0) \\cdot e^{-\\sigma / 2},\n",
    "$$\n",
    "where:\n",
    "- **$\\sigma = \\frac{2Zr}{n a_0}$**: A dimensionless parameter scaling with the distance $r$.\n",
    "- **$f(r, Z, a_0)$**: A polynomial factor specific to each orbital.\n",
    "- **$e^{-\\sigma / 2}$**: Exponential decay, representing the decrease in wavefunction amplitude as distance increases.\n",
    "\n",
    "#### Specific Radial Wavefunctions\n",
    "The following are the specific radial wavefunctions for hydrogen orbitals:\n",
    "\n",
    "- **$1s$ Orbital**\n",
    "$$\n",
    "R_{1s}(r) = 2 \\left( \\frac{Z}{a_0} \\right)^{3/2} e^{-\\sigma / 2},\n",
    "$$\n",
    "where $\\sigma = \\frac{2Zr}{a_0}$.\n",
    "\n",
    "- **$2s$ Orbital**\n",
    "$$\n",
    "R_{2s}(r) = \\frac{1}{2\\sqrt{2}} \\left( \\frac{Z}{a_0} \\right)^{3/2} (2 - \\sigma) e^{-\\sigma / 2},\n",
    "$$\n",
    "where $\\sigma = \\frac{Zr}{a_0}$.\n",
    "\n",
    "- **$3s$ Orbital**\n",
    "$$\n",
    "R_{3s}(r) = \\frac{1}{9\\sqrt{3}} \\left( \\frac{Z}{a_0} \\right)^{3/2} (6 - 6\\sigma + \\sigma^2) e^{-\\sigma / 2},\n",
    "$$\n",
    "where $\\sigma = \\frac{2Zr}{3a_0}$.\n",
    "\n",
    "- **$2p$ Orbital**\n",
    "$$\n",
    "R_{2p}(r) = \\frac{1}{2\\sqrt{6}} \\left( \\frac{Z}{a_0} \\right)^{3/2} \\sigma e^{-\\sigma / 2},\n",
    "$$\n",
    "where $\\sigma = \\frac{Zr}{a_0}$.\n",
    "\n",
    "- **$3p$ Orbital**\n",
    "$$\n",
    "R_{3p}(r) = \\frac{1}{9\\sqrt{6}} \\left( \\frac{Z}{a_0} \\right)^{3/2} \\sigma (4 - \\sigma) e^{-\\sigma / 2},\n",
    "$$\n",
    "where $\\sigma = \\frac{2Zr}{3a_0}$.\n",
    "\n",
    "- **$3d$ Orbital**\n",
    "$$\n",
    "R_{3d}(r) = \\frac{1}{9\\sqrt{30}} \\left( \\frac{Z}{a_0} \\right)^{3/2} \\sigma^2 e^{-\\sigma / 2},\n",
    "$$\n",
    "where $\\sigma = \\frac{2Zr}{3a_0}$.\n"
   ]
  },
  {
   "cell_type": "markdown",
   "metadata": {},
   "source": [
    "### 2.2. Radial Wavefunctions: Python \n",
    "Now, let's translate the mathematical formulas into Python code. The code cell below implements the radial wavefunctions for each orbital using the equations presented earlier.\n",
    "\n",
    "Each function corresponds to the formula provided above (e.g., radial_1s for $R_{1s}(r)$) and calculates the value of the radial wavefunction at a given distance r. \n",
    "\n",
    "Run the cell below to define these functions"
   ]
  },
  {
   "cell_type": "code",
   "execution_count": null,
   "metadata": {},
   "outputs": [],
   "source": [
    "## Run this cell\n",
    "\n",
    "# Constants\n",
    "a0 = 52.92  # Bohr radius in pm\n",
    "Z = 1  # Atomic number of hydrogen\n",
    "\n",
    "# Radial wavefunctions\n",
    "def radial_1s(r):\n",
    "    sigma = 2 * Z * r / a0\n",
    "    return 2 * (Z / a0)**1.5 * np.exp(-sigma / 2)\n",
    "\n",
    "def radial_2s(r):\n",
    "    sigma = Z * r / a0\n",
    "    return (1 / (2 * np.sqrt(2))) * (Z / a0)**1.5 * (2 - sigma) * np.exp(-sigma / 2)\n",
    "\n",
    "def radial_3s(r):\n",
    "    sigma = 2 * Z * r / (3 * a0)\n",
    "    return (1 / (9 * np.sqrt(3))) * (Z / a0)**1.5 * (6 - 6 * sigma + sigma**2) * np.exp(-sigma / 2)\n",
    "\n",
    "def radial_2p(r):\n",
    "    sigma = Z * r / a0\n",
    "    return (1 / (2 * np.sqrt(6))) * (Z / a0)**1.5 * sigma * np.exp(-sigma / 2)\n",
    "\n",
    "def radial_3p(r):\n",
    "    sigma = 2 * Z * r / (3 * a0)\n",
    "    return (1 / (9 * np.sqrt(6))) * (Z / a0)**1.5 * sigma * (4 - sigma) * np.exp(-sigma / 2)\n",
    "\n",
    "def radial_3d(r):\n",
    "    sigma = 2 * Z * r / (3 * a0)\n",
    "    return (1 / (9 * np.sqrt(30))) * (Z / a0)**1.5 * sigma**2 * np.exp(-sigma / 2)"
   ]
  },
  {
   "cell_type": "markdown",
   "metadata": {},
   "source": [
    "<div class=\" alert alert-info\">\n",
    "    \n",
    "## **What Does This Code Do?**\n",
    "\n",
    "This code calculates mathematical functions called **radial wavefunctions** for the hydrogen atom. These functions describe the shape of an electron's wave in different energy levels around a hydrogen atom.\n",
    "\n",
    "Imagine an electron’s position as a \"cloud\" around the nucleus of the atom. These functions help us calculate:\n",
    "\n",
    "- How far the electron is likely to be from the nucleus.\n",
    "- What shape the \"cloud\" will have for different electron orbitals.\n",
    "  \n",
    "The goal is to use math to represent the electron cloud and understand its structure.\n",
    "</div>"
   ]
  },
  {
   "cell_type": "code",
   "execution_count": null,
   "metadata": {},
   "outputs": [],
   "source": [
    "## Run this cell\n",
    "# Distance array (in pm)\n",
    "r1 = np.linspace(0, 2000, 500)  # Range from 0 to 2000 pm\n",
    "\n",
    "# Compute radial wavefunctions\n",
    "R_1s = radial_1s(r1)\n",
    "R_2s = radial_2s(r1)\n",
    "R_3s = radial_3s(r1)\n",
    "R_2p = radial_2p(r1)\n",
    "R_3p = radial_3p(r1)\n",
    "R_3d = radial_3d(r1)"
   ]
  },
  {
   "cell_type": "markdown",
   "metadata": {},
   "source": [
    "<div class=\" alert alert-info\">\n",
    "    \n",
    "## **What the Code Does**\n",
    "- `np.linspace(0, 2000, 500)`: Creates an array of 50 values, evenly spaced from 0 to 2000 pm.\n",
    "- Radial Functions (`radial_1s`, etc.): Calculate the wavefunction value for each distance r in the **array**.\n",
    "- Result Variables: `R_1s`, `R_2s`, etc., store the output of the calculations for the respective orbitals.\n",
    "</div>"
   ]
  },
  {
   "cell_type": "markdown",
   "metadata": {},
   "source": [
    "Now, let's explore and visualize each radial wavefunction individually. Run the cell below and use the dropdown menu to select and visualize different orbital levels."
   ]
  },
  {
   "cell_type": "code",
   "execution_count": null,
   "metadata": {},
   "outputs": [],
   "source": [
    "## Run this cell\n",
    "# Compute radial wavefunctions\n",
    "radial_functions = {\n",
    "    \"1s\": radial_1s(r1),\n",
    "    \"2s\": radial_2s(r1),\n",
    "    \"3s\": radial_3s(r1),\n",
    "    \"2p\": radial_2p(r1),\n",
    "    \"3p\": radial_3p(r1),\n",
    "    \"3d\": radial_3d(r1)\n",
    "}\n",
    "# Function to plot a radial wavefunction\n",
    "def plot_radial(orbital):\n",
    "    plt.figure(figsize=(8, 6))\n",
    "    plt.plot(r3, radial_functions[orbital], 'go-')\n",
    "    plt.title(f\"Radial Wavefunction: {orbital} Orbital\")\n",
    "    plt.xlabel(\"Distance from Nucleus (pm)\")\n",
    "    plt.ylabel(\"Radial Wavefunction $R_{nl}(r)$\")\n",
    "    plt.grid()\n",
    "    plt.show()\n",
    "\n",
    "# Create an interactive dropdown menu\n",
    "interact(plot_radial, orbital=widgets.Dropdown(options=radial_functions.keys(), description=\"Orbital:\"));"
   ]
  },
  {
   "cell_type": "markdown",
   "metadata": {},
   "source": [
    "Let's visualize all the radial wavefunctions together in a single plot for comparison."
   ]
  },
  {
   "cell_type": "code",
   "execution_count": null,
   "metadata": {},
   "outputs": [],
   "source": [
    "## Run this cell\n",
    "r2 = np.linspace(0, 2000, 500)\n",
    "# Compute radial wavefunctions\n",
    "R_1s = radial_1s(r2)\n",
    "R_2s = radial_2s(r2)\n",
    "R_3s = radial_3s(r2)\n",
    "R_2p = radial_2p(r2)\n",
    "R_3p = radial_3p(r2)\n",
    "R_3d = radial_3d(r2)\n",
    "\n",
    "# Plot radial wavefunctions\n",
    "plt.figure(figsize=(20, 10))\n",
    "plt.plot(r2, R_1s, label=\"1s\")\n",
    "plt.plot(r2, R_2s, label=\"2s\")\n",
    "plt.plot(r2, R_3s, label=\"3s\")\n",
    "plt.plot(r2, R_2p, label=\"2p\")\n",
    "plt.plot(r2, R_3p, label=\"3p\")\n",
    "plt.plot(r2, R_3d, label=\"3d\")\n",
    "plt.xlabel(\"Distance r (pm)\")\n",
    "plt.ylabel(\"Radial Wavefunction $R_{nl}(r)$\")\n",
    "plt.title(\"Hydrogen Atom Radial Wavefunctions\")\n",
    "plt.legend()\n",
    "plt.grid()\n",
    "plt.show()"
   ]
  },
  {
   "cell_type": "markdown",
   "metadata": {},
   "source": [
    "# 3. Angular Wavefuncions in Polar Coordinates"
   ]
  },
  {
   "cell_type": "markdown",
   "metadata": {},
   "source": [
    "### 3.1. Angular Wavefuncions in Polar Coordinates: Mathematical Definitions"
   ]
  },
  {
   "cell_type": "markdown",
   "metadata": {},
   "source": [
    "The angular wavefunctions $Y_{lm}(\\theta, \\phi)$ describe the angular dependence of the wavefunction for hydrogen orbitals. These depend on the angular momentum quantum numbers $l$ and $m_l$, and the spherical coordinates $\\theta$ (polar angle) and $\\phi$ (azimuthal angle).\n",
    "\n",
    "#### Angular Wavefunctions\n",
    "The following are the angular wavefunctions for selected hydrogen orbitals:\n",
    "\n",
    "- **$s$ Orbital**\n",
    "$$\n",
    "Y_s(\\theta, \\phi) = \\frac{1}{\\sqrt{4\\pi}}\n",
    "$$\n",
    "The $s$ orbital is spherically symmetric, meaning its angular component is independent of $\\theta$ and $\\phi$.\n",
    "\n",
    "- **$p_x$ Orbital**\n",
    "$$\n",
    "Y_{p_x}(\\theta, \\phi) = \\sqrt{\\frac{3}{4\\pi}} \\sin\\theta \\cos\\phi\n",
    "$$\n",
    "The $p_x$ orbital has a directional dependence, with lobes along the $x$-axis determined by $\\sin\\theta$ and $\\cos\\phi$.\n",
    "\n",
    "- **$d_{xy}$ Orbital**\n",
    "$$\n",
    "Y_{d_{xy}}(\\theta, \\phi) = \\sqrt{\\frac{15}{16\\pi}} \\sin^2\\theta \\sin(2\\phi)\n",
    "$$\n",
    "The $d_{xy}$ orbital exhibits a cloverleaf shape in the $xy$-plane, influenced by $\\sin^2\\theta$ and $\\sin(2\\phi)$.\n",
    "\n",
    "- **$d_{z^2}$ Orbital**\n",
    "$$\n",
    "Y_{d_{z^2}}(\\theta, \\phi) = \\sqrt{\\frac{5}{16\\pi}} \\left( 3\\cos^2\\theta - 1 \\right)\n",
    "$$\n",
    "The $d_{z^2}$ orbital has a unique shape with a \"donut-like\" region around the $z$-axis, determined by $\\cos^2\\theta$.\n",
    "\n",
    "#### Conversion to Cartesian Coordinates\n",
    "To plot these angular wavefunctions in three dimensions, the spherical coordinates $(r, \\theta, \\phi)$ are converted to Cartesian coordinates $(x, y, z)$ using the following equations:\n",
    "\n",
    "- **$x$-coordinate**\n",
    "$$\n",
    "x = r \\sin\\theta \\cos\\phi\n",
    "$$\n",
    "\n",
    "- **$y$-coordinate**\n",
    "$$\n",
    "y = r \\sin\\theta \\sin\\phi\n",
    "$$\n",
    "\n",
    "- **$z$-coordinate**\n",
    "$$\n",
    "z = r \\cos\\theta\n",
    "$$\n",
    "\n",
    "### Summary\n",
    "- **Angular wavefunctions** define the shape and orientation of orbitals.\n",
    "- **Cartesian conversion** allows visualization in 3D space by transforming spherical coordinates to Cartesian coordinates.\n"
   ]
  },
  {
   "cell_type": "markdown",
   "metadata": {},
   "source": [
    "### 3.2. Angular Wavefuncions in Polar Coordinates: Python Implementation"
   ]
  },
  {
   "cell_type": "code",
   "execution_count": null,
   "metadata": {},
   "outputs": [],
   "source": [
    "# Define spherical harmonics\n",
    "def angular_s(theta, phi):\n",
    "    \"\"\"Angular part of the s orbital\"\"\"\n",
    "    return 1 / np.sqrt(4 * np.pi)\n",
    "\n",
    "def angular_px(theta, phi):\n",
    "    \"\"\"Angular part of the p_x orbital\"\"\"\n",
    "    return np.sqrt(3 / (4 * np.pi)) * np.sin(theta) * np.cos(phi)\n",
    "\n",
    "def angular_dxy(theta, phi):\n",
    "    \"\"\"Angular part of the d_xy orbital\"\"\"\n",
    "    return np.sqrt(15 / (16 * np.pi)) * np.sin(theta)**2 * np.sin(2 * phi)\n",
    "\n",
    "def angular_dz2(theta, phi):\n",
    "    \"\"\"Angular part of the d_z^2 orbital\"\"\"\n",
    "    return np.sqrt(5 / (16 * np.pi)) * (3 * np.cos(theta)**2 - 1)\n",
    "\n",
    "# Convert to Cartesian coordinates for plotting\n",
    "def to_cartesian(r, theta, phi):\n",
    "    x = r * np.sin(theta) * np.cos(phi)\n",
    "    y = r * np.sin(theta) * np.sin(phi)\n",
    "    z = r * np.cos(theta)\n",
    "    return x, y, z"
   ]
  },
  {
   "cell_type": "markdown",
   "metadata": {},
   "source": [
    "<div class=\" alert alert-info\">\n",
    "    \n",
    "## **What Does This Code Do?**\n",
    "\n",
    "This code calculates the **angular wavefunctions** of hydrogen atom orbitals, which describe the shape and orientation of the \"electron cloud\" around the nucleus. These wavefunctions depend on the angles $\\theta$ (polar) and $\\phi$ (azimuthal), and they help us determine the specific patterns or lobes of electron probability in 3D space.\n",
    "\n",
    "Think of the electron cloud as a 3D shape around the nucleus, where these angular wavefunctions determine:\n",
    "- How the electron cloud spreads in different directions.\n",
    "- The specific symmetries and shapes of orbitals like $s$, $p_x$, $d_{xy}$, and $d_{z^2}$.\n",
    "\n",
    "The code also includes a conversion function to transform these angular patterns into Cartesian coordinates $(x, y, z)$, which are essential for plotting the shapes of orbitals in 3D space.\n",
    "</div>"
   ]
  },
  {
   "cell_type": "code",
   "execution_count": null,
   "metadata": {},
   "outputs": [],
   "source": [
    "## Run this cell\n",
    "# Define theta (0 to pi) and phi (0 to 2pi)\n",
    "theta = np.linspace(0, np.pi, 100)  # polar angle\n",
    "phi = np.linspace(0, 2 * np.pi, 100)  # azimuthal angle\n",
    "theta, phi = np.meshgrid(theta, phi)"
   ]
  },
  {
   "cell_type": "markdown",
   "metadata": {},
   "source": [
    "<div class=\" alert alert-info\">\n",
    "    \n",
    "## **What The Code Does**\n",
    "-`theta`(Polar Angle): Ranges from 0 (north pole) to $\\pi$ (south pole). This controls the \"vertical\" spread of the orbital.\n",
    "- `phi` (Azimuthal Angle): Ranges from 0 to 2 $\\pi$, covering a full circle around the z-axis. This controls the \"horizontal\" rotation of the orbital.\n",
    "- `np.meshgrid`: Creates a grid of $\\theta$ and $\\phi$, so the wavefunctions can be evaluated at all combinations of these angles.\n",
    "</div>"
   ]
  },
  {
   "cell_type": "code",
   "execution_count": null,
   "metadata": {},
   "outputs": [],
   "source": [
    "# Define the colormap logic\n",
    "def custom_colormap(x, y):\n",
    "    \"\"\"Custom color mapping: red for negative x, blue for positive y.\"\"\"\n",
    "    colors = np.zeros((x.shape[0], x.shape[1], 4)) \n",
    "    colors[..., 0] = (x < 0).astype(float)  # Red for negative x\n",
    "    colors[..., 2] = (x > 0).astype(float)  # Blue for positive y\n",
    "    colors[..., 3] = 0.7  # Alpha (transparency)\n",
    "    return colors\n",
    "\n",
    "# Angular functions and plotting\n",
    "orbitals = {\n",
    "    \"s\": angular_s(theta, phi),\n",
    "    \"p_x\": angular_px(theta, phi),\n",
    "    \"d_xy\": angular_dxy(theta, phi),\n",
    "    \"d_z^2\": angular_dz2(theta, phi),\n",
    "}\n",
    "\n",
    "# Plot each orbital in 3D\n",
    "for name, angular_func in orbitals.items():\n",
    "    # Compute |Y|^2 (absolute value squared for visualization)\n",
    "    r3 = np.abs(angular_func)**2\n",
    "    x, y, z = to_cartesian(r3, theta, phi)\n",
    "    \n",
    "    # Create custom color map based on x and y values\n",
    "    colors = custom_colormap(x, y)\n",
    "    \n",
    "    # Plot in 3D\n",
    "    fig = plt.figure(figsize=(8, 6))\n",
    "    ax = fig.add_subplot(111, projection='3d')\n",
    "    ax.plot_surface(x, y, z, facecolors=colors, rstride=5, cstride=5, alpha=0.7)\n",
    "    ax.set_title(f\"Angular Function: {name} Orbital\")\n",
    "    ax.set_xlabel(\"X\")\n",
    "    ax.set_ylabel(\"Y\")\n",
    "    ax.set_zlabel(\"Z\")\n",
    "    plt.show()\n"
   ]
  },
  {
   "cell_type": "markdown",
   "metadata": {},
   "source": [
    "-------------\n",
    "# Congratulations! You Have Completed the Notebook!<a id='0'></a>"
   ]
  }
 ],
 "metadata": {
  "kernelspec": {
   "display_name": "Python 3 (ipykernel)",
   "language": "python",
   "name": "python3"
  },
  "language_info": {
   "codemirror_mode": {
    "name": "ipython",
    "version": 3
   },
   "file_extension": ".py",
   "mimetype": "text/x-python",
   "name": "python",
   "nbconvert_exporter": "python",
   "pygments_lexer": "ipython3",
   "version": "3.11.10"
  }
 },
 "nbformat": 4,
 "nbformat_minor": 4
}
