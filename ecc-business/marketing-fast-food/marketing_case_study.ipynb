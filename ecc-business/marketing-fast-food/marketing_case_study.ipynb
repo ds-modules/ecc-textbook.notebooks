{
 "cells": [
  {
   "cell_type": "markdown",
   "metadata": {},
   "source": [
    "# Introduction to Jupyter Notebooks and Marketing Analytics\n",
    "\n",
    "Welcome to a Jupyter Notebook! **Notebooks** are documents that support interactive computing in which code is interwoven with text, visualizations, and more.\n",
    "\n",
    "The way notebooks are formatted encourages **exploration**, allowing users to iteratively update code and document the results. In use cases such as **data exploration and communication**, notebooks excel. Science (and computational work in general) has become quite sophisticated: models are built upon experiments that are conducted on large swaths of data, methods and results are abstracted away into symbols, and papers are full of technical jargon. *A static document like a paper might not be sufficient to both effectively communicate a new discovery and allow someone else to discover it for themselves*.\n",
    "\n",
    "### Why Use Notebooks?\n",
    "Notebooks are used for _literate programming_, a programming paradigm introduced by [Donald Knuth](https://en.wikipedia.org/wiki/Donald_Knuth) in 1984, in which a programming language is accompanied with **plain, explanatory language**.\n",
    "\n",
    "This approach to programming treats software as works of literature ([Knuth](http://www.literateprogramming.com/knuthweb.pdf), \"Literate Programming\"), supporting users to have a strong conceptual map of what is happening in the code.\n",
    "\n",
    "In addition to code and natural language, notebooks can include diagrams, visualizations, and rich media, making them useful in any discipline. They are also popular in education as a tool for engaging students at various skill levels with scaffolded and diverse lessons. "
   ]
  },
  {
   "cell_type": "code",
   "execution_count": 1,
   "metadata": {},
   "outputs": [
    {
     "name": "stdout",
     "output_type": "stream",
     "text": [
      "Hello World!\n"
     ]
    }
   ],
   "source": [
    "print(\"Hello World!\") # Run the cell by using one of the methods we mentioned above!"
   ]
  },
  {
   "cell_type": "markdown",
   "metadata": {},
   "source": [
    "## Editing the Notebook\n",
    "\n",
    "You can change the text in a markdown cell by clicking it twice. Text in markdown cells is written in [**Markdown**](https://daringfireball.net/projects/markdown/), a formatting language for plain text, so you may see some funky symbols should you try and edit a markdown cell we've already written. Once you've made changes to a markdown cell, you can exit editing mode by running the cell the same way you'd run a code cell. **Try double-clicking this text to see what some markdown formatting looks like**."
   ]
  },
  {
   "cell_type": "markdown",
   "metadata": {},
   "source": [
    "### Manipulating Cells\n",
    "\n",
    "Cells can be added or deleted anywhere in a notebook. You can add cells by pressing the plus sign icon in the menu bar, to the right of the save icon. This will add (by default) a code cell immediately below your current highlighted cell.\n",
    "\n",
    "To convert a cell to markdown, you can press 'Cell' in the menu bar, select 'Cell Type', and finally pick the desired option. This works the other way around too!\n",
    "\n",
    "To delete a cell, simply press the scissors icon in the menu bar. A common fear is deleting a cell that you needed -- but don't worry! This can be undone using 'Edit' > 'Undo Delete Cells'! If you accidentally delete content in a cell, you can use `Ctrl` + `Z` to undo.\n",
    "\n",
    "\n",
    "### Saving and Loading\n",
    "\n",
    "Your notebook will automatically save your text and code edits, as well as any results of your code cells. However, you can also manually save the notebook in its current state by using `Ctrl` + `S`, clicking the floppy disk icon in the toolbar at the top of the page, or by going to the 'File' menu and selecting 'Save and Checkpoint'.\n",
    "\n",
    "Next time you open your notebook, it will look the same as when you last saved it!\n",
    "\n",
    "Let's get started. Run the cell below to import all necessary libraries for this assignment!"
   ]
  },
  {
   "cell_type": "code",
   "execution_count": 2,
   "metadata": {},
   "outputs": [],
   "source": [
    "from IPython.display import display\n",
    "import pandas as pd\n",
    "import plotly.express as px\n",
    "import seaborn as sns\n",
    "import matplotlib.pyplot as plt\n",
    "from ipywidgets import *\n",
    "\n",
    "def display_data(df, keyword):\n",
    "    x = pd.to_datetime(df['Week'])\n",
    "    y = df[keyword].astype(\"int64\")\n",
    "    sns.lineplot(x=x, y=y)\n",
    "    plt.ylim((min(y), 100))\n",
    "\n",
    "def state_name_to_abbreviation(state_name):\n",
    "    state_abbreviations = {\n",
    "        'Alabama': 'AL', 'Alaska': 'AK', 'Arizona': 'AZ', 'Arkansas': 'AR',\n",
    "        'California': 'CA', 'Colorado': 'CO', 'Connecticut': 'CT', 'Delaware': 'DE',\n",
    "        'Florida': 'FL', 'Georgia': 'GA', 'Hawaii': 'HI', 'Idaho': 'ID',\n",
    "        'Illinois': 'IL', 'Indiana': 'IN', 'Iowa': 'IA', 'Kansas': 'KS',\n",
    "        'Kentucky': 'KY', 'Louisiana': 'LA', 'Maine': 'ME', 'Maryland': 'MD',\n",
    "        'Massachusetts': 'MA', 'Michigan': 'MI', 'Minnesota': 'MN', 'Mississippi': 'MS',\n",
    "        'Missouri': 'MO', 'Montana': 'MT', 'Nebraska': 'NE', 'Nevada': 'NV',\n",
    "        'New Hampshire': 'NH', 'New Jersey': 'NJ', 'New Mexico': 'NM', 'New York': 'NY',\n",
    "        'North Carolina': 'NC', 'North Dakota': 'ND', 'Ohio': 'OH', 'Oklahoma': 'OK',\n",
    "        'Oregon': 'OR', 'Pennsylvania': 'PA', 'Rhode Island': 'RI', 'South Carolina': 'SC',\n",
    "        'South Dakota': 'SD', 'Tennessee': 'TN', 'Texas': 'TX', 'Utah': 'UT',\n",
    "        'Vermont': 'VT', 'Virginia': 'VA', 'Washington': 'WA', 'West Virginia': 'WV',\n",
    "        'Wisconsin': 'WI', 'Wyoming': 'WY', 'District of Columbia': 'DC'\n",
    "    }\n",
    "    return state_abbreviations.get(state_name, None)"
   ]
  },
  {
   "cell_type": "markdown",
   "metadata": {},
   "source": [
    "## Case Study: Fast Food Frenzy\n",
    "\n",
    "*Authored by Suparna Kompalli, James Geronimo*\n",
    "\n",
    "Today we are going to do a deeper dive into **The 4 P's of Marketing** and **Search Engine Optimization (SEO)**. \n",
    "\n",
    "Search Engine Optimization (SEO) analytics play a critical role in the success of modern marketing campaigns. By analyzing data such as keyword performance, search trends, website traffic, and user behavior, businesses can optimize their online content to appear more prominently in search engine results. This ensures that advertisements and promotional efforts are not only high in quality but also strategically designed to reach the right audience at the right time—maximizing visibility, engagement, and conversions.\n",
    "\n",
    "The 4 P’s of Marketing—product, price, placement, and promotion—are the key building blocks of any solid marketing strategy. They help businesses figure out what they’re selling, how much to charge, where to make it available, and how to let people know about it. When used together, these four elements help companies connect with their target customers in a way that feels thoughtful, strategic, and effective. Whether you're launching a new product or improving an existing one, the 4 P’s guide decisions that keep the brand relevant and competitive.\n",
    "\n",
    "Let's do a quick warm up! What is the most important part of any marketing strategy? *the customer* \n",
    "\n",
    "To properly market anything, you'll need to have an understanding of your customer. \n",
    "\n",
    "As you know there are multiple factors that impact **consumer decision making.** These include:\n",
    "- Price of the product\n",
    "- Frequent purchase\n",
    "- Length of time to research or available time to research\n",
    "- Impulse buys\n",
    "- Long term or temporary involvement\n",
    "\n",
    "**Question 1:** If you were trying to sell apples on instagram what might be some keywords you'd want to include as hastags in your advertisements?\n",
    "\n",
    "*Run the cell below to fill in your answer.*"
   ]
  },
  {
   "cell_type": "code",
   "execution_count": 3,
   "metadata": {},
   "outputs": [
    {
     "data": {
      "application/vnd.jupyter.widget-view+json": {
       "model_id": "9701a661a04941c3bd09a7d90927195a",
       "version_major": 2,
       "version_minor": 0
      },
      "text/plain": [
       "Textarea(value='', placeholder='Your answer here')"
      ]
     },
     "execution_count": 3,
     "metadata": {},
     "output_type": "execute_result"
    }
   ],
   "source": [
    "widgets.Textarea(placeholder = 'Your answer here')"
   ]
  },
  {
   "cell_type": "markdown",
   "metadata": {},
   "source": [
    "\n",
    "### Your Task:\n",
    "\n",
    "You were hired to lead the marketing team at *Cluck & Co.,* a new fast food chain that has only one item on the menu: a chicken wrap. \n",
    "\n",
    "It’s a bold, flavorful item aimed at attracting Gen Z and millennial foodies who love spice, portability, and value. Leadership has asked your team to develop a marketing campaign for a regional test launch, and they want a strategy that’s both digitally savvy and grounded in classic marketing principles.\n",
    "\n",
    "In this case study, we will walk you through building out the marketing strategy for Cluck & Co.\n",
    "\n",
    "\n",
    "### Section 1: Product\n",
    "\n",
    "**Product:** what you’re selling. Whether it's a physical good, a service, or a digital product. The key is to understand what problem your product solves and how it meets the needs or wants of your target audience.\n",
    "- What features or benefits does it offer? How is it different from competitors?\n",
    "- What branding and design choices are involved?\n",
    "\n",
    "\n",
    "**Question 1.1:** Right now, our product seems a little *boring,* especially the name. What would you rename the **chicken wrap** to make it more enticing?\n",
    "\n",
    "*Run the cell below to fill in your answer.*"
   ]
  },
  {
   "cell_type": "code",
   "execution_count": 4,
   "metadata": {},
   "outputs": [
    {
     "data": {
      "application/vnd.jupyter.widget-view+json": {
       "model_id": "eed3448d6d254b0caea9c4a315b4a243",
       "version_major": 2,
       "version_minor": 0
      },
      "text/plain": [
       "Textarea(value='', placeholder='Your answer here')"
      ]
     },
     "execution_count": 4,
     "metadata": {},
     "output_type": "execute_result"
    }
   ],
   "source": [
    "widgets.Textarea(placeholder = 'Your answer here')"
   ]
  },
  {
   "cell_type": "markdown",
   "metadata": {},
   "source": [
    "**Question 1.2:** We studied the concept of a **Total Product Offer** that consists of peripheral components to the product that provide more value to the customer than just the core product itself. We used the example of the iPhone, where customers buy the iPhone for more than just its core functions of calling, texting, and using apps. Consumers buy the iPhone for its total product offer that includes peripheral components such as accessories (iWatch or Ear Pods), interpretability across Apple devices, community of users, badge value of having an iPhone, Facetime, use of the Genius Bar at Apple stores and others. \n",
    "\n",
    "In the case of **Cluck and Co.'s chicken wrap**, consumers should buy it for more than the functionailty it serves as food--all restaurants fill this need. Why should customers eat at Cluck & Co? Design **TWO** peripheral componets of the chicken wrap's **Total Product Offer** that Cluck & Co. can highlight in the product or campaign. Why will these additions make the chicken wrap more desirable?\n"
   ]
  },
  {
   "cell_type": "code",
   "execution_count": 5,
   "metadata": {},
   "outputs": [
    {
     "data": {
      "application/vnd.jupyter.widget-view+json": {
       "model_id": "6e3be999f3984e779175ae44cbcb06aa",
       "version_major": 2,
       "version_minor": 0
      },
      "text/plain": [
       "Textarea(value='', placeholder='Your answer here')"
      ]
     },
     "execution_count": 5,
     "metadata": {},
     "output_type": "execute_result"
    }
   ],
   "source": [
    "widgets.Textarea(placeholder = 'Your answer here')"
   ]
  },
  {
   "cell_type": "markdown",
   "metadata": {},
   "source": [
    "### Section 2: Price\n",
    "\n",
    "**Price:** how much you charge for your product. Price affects not only your profit margins but also how your product is perceived in the market.\n",
    "\n",
    "\n",
    "**Question 2.1:** The pricing of Cluck & Co. is mid-tier: it's more expensive than McDonalds, and competitive with brands like Raising Cane's and Chick-fil-a. How does this pricing tier reflect the perceived value?"
   ]
  },
  {
   "cell_type": "code",
   "execution_count": 6,
   "metadata": {},
   "outputs": [
    {
     "data": {
      "application/vnd.jupyter.widget-view+json": {
       "model_id": "3ad24bca16a048719eb66cd711b3aa33",
       "version_major": 2,
       "version_minor": 0
      },
      "text/plain": [
       "Textarea(value='', placeholder='Your answer here')"
      ]
     },
     "execution_count": 6,
     "metadata": {},
     "output_type": "execute_result"
    }
   ],
   "source": [
    "widgets.Textarea(placeholder = 'Your answer here')"
   ]
  },
  {
   "cell_type": "markdown",
   "metadata": {},
   "source": [
    "**Question 2.2:** What role does price play in your digital advertising and promotions?"
   ]
  },
  {
   "cell_type": "code",
   "execution_count": 7,
   "metadata": {},
   "outputs": [
    {
     "data": {
      "application/vnd.jupyter.widget-view+json": {
       "model_id": "29cc7c3b490c4a59807c00f28426f9eb",
       "version_major": 2,
       "version_minor": 0
      },
      "text/plain": [
       "Textarea(value='', placeholder='Your answer here')"
      ]
     },
     "execution_count": 7,
     "metadata": {},
     "output_type": "execute_result"
    }
   ],
   "source": [
    "widgets.Textarea(placeholder = 'Your answer here')"
   ]
  },
  {
   "cell_type": "markdown",
   "metadata": {},
   "source": [
    "### Section 3: Placement\n",
    "\n",
    "**Placement:** where and how your product is distributed and made available to customers. It’s all about getting the product to the right place at the right time.\n",
    "- Are you selling online? in physical stores?\n",
    "- Where does your target market usually shop?"
   ]
  },
  {
   "cell_type": "markdown",
   "metadata": {},
   "source": [
    "When we think about placement we also want to consider geolocation. Let's take a look at where popular chicken only fast food chains are located. Run the cell below to load an *interactive* graph. "
   ]
  },
  {
   "cell_type": "code",
   "execution_count": 14,
   "metadata": {},
   "outputs": [
    {
     "data": {
      "application/vnd.plotly.v1+json": {
       "config": {
        "plotlyServerURL": "https://plot.ly"
       },
       "data": [
        {
         "geo": "geo",
         "hovertemplate": "name=Taco John's<br>latitude=%{lat}<br>longitude=%{lon}<extra></extra>",
         "lat": {
          "bdata": "wjQMHxFzR0AmcVZETVZGQJLLf0i/IUdAIVuWr8sARkCbrFEP0VRGQNxGA3gLFEhAEtpyLsW1RUBHWipvR4RGQHOiXYWUp0RAE5uPa0N7RkDD9ShcjwpGQIpZL4ZyWkdAdk8eFmqFRkDZzvdT4/1CQJf/kH77akVAeZPfopPbRUAKou4DkAZFQO3YCMTrUkVAoMN8eQEGRkBvRzgteEFFQKMeotEdQEVAZF3cRgM4RECZ8Ev9vElEQBYTm49rr0RA76mc9pTmRUAg0m9fB+ZFQH9qvHST4ENAstZQai8IRUAgJAuYwEFFQFD8GHPXrkNAaXQHsTPVQkC1T8djBpJEQL5Nf/YjkUVAfZbnwd29REANb9bgfdlEQJVIopdRCEZAqbwd4bT8RkDidf2C3QhFQCy8y0V8a0dAsFWCxeGAREBWR450BrZFQOP6d33mCEZAX10VqMW6RkBz8iIT8HFGQB6M2CeA1EZAYp6VtOINRkDiI2JKJB1FQO9VKxN+L0ZA6Q5iZwozRkCrz9VW7NdEQGrecYqOyEZANxrAWyDRRkC6awn5oFNEQP1qDhDMiUZAx2gdVU2cRkDIluXrMhZGQF/v/nivkkVA8bioFhEjRkAZfgDq90FEQF8ktOVc3kJACk0SS8rTRUDSUQ5mE8JHQOQs7GmHIz9ArMWnABjnRkBIG0esxY9FQKa4quy78kdAnzws1JpqR0Bo+oKci2ZDQLKACdy6o0ZAH7qgvmVmR0Aep+hILvtCQG8Sg8DKoURAsARSYteYRkDAd5s3TnZHQIL917lpXUJAsacd/pr0R0C6LCY2HwtDQA==",
          "dtype": "f8"
         },
         "legendgroup": "Taco John's",
         "locationmode": "USA-states",
         "lon": {
          "bdata": "seHplbKsWMBBKsWOxopWwNC4cCAkJ1jA38DkRpFHWMBmMbH5uPZZwFUwKqkT6FnAgy9MpgrIV8AVHcnlPzZXwDwUBfpEZFrAm+eIfJcvV8AwTKYKRtFZwFbvcDs0HVfAXynLEMdGV8D129eBc+ZVwFr1udqKQVbATn0geeeBWMBW1GAahj1awFSp2QOtzFfAWyVYHM7qVsB381SH3KpWwHztmSUBilfAHPD5YYTYWMC+MJkqGJlYwISB597DY1fA6Ih8l1LPVsB9rrZif9VYwMgHPZtVs1fAB0XzABa3V8DWOQZkrxtXwPMC7KNTQ1nAzEBl/PvcV8BjRQ2mYfpXwPEuF/Gd7FzAQbeXNEZrV8D1nV+UoEFXwLEzhc5rTlfAnZ0MjpKVV8A1JO6x9KtWwLNBJhk5N1jAEfxvJTv+VsA6lKEqpt1ZwKfK94xEzFnA96+sNCmdWMCfH0YIj0dYwCqQ2Vn0QljAAU2EDU/NWcAWNZiG4UFWwOXuc3y0jVjAZ9e9FYngWcAsK01KQXFXwOVEuwopZVfAY3/ZPXlYVsBJLv8h/fZXwP6arFEPQVfATI47pYNbV8CHinH+JoJXwA1xrIvbTFfAgQncupsaVsBgZR4NKGlZwCswZHWrO1bAuTe/YaJVV8Bjl6jeGtJbwDW0AdiAcFjAmN2Th4UeW8AD7KNTV8pXwEDeq1YmRFjALbKd76c0WMAYH7/nAmdYwAaBlUOLQFfAINJvXwcIV8BFgT6RJ+FVwCvB4nDm9VfAlxx3SgdPV8BSfecXJYBYwEVj7e9sKFbAba0vEtpCWMAs1JrmHXtYwA==",
          "dtype": "f8"
         },
         "marker": {
          "color": "#636efa",
          "symbol": "circle"
         },
         "mode": "markers",
         "name": "Taco John's",
         "showlegend": true,
         "type": "scattergeo"
        },
        {
         "geo": "geo",
         "hovertemplate": "name=Whataburger<br>latitude=%{lat}<br>longitude=%{lon}<extra></extra>",
         "lat": {
          "bdata": "v0hoy7nEPkAQejarPmc9QByZR/5gOD5A/Knx0k0qPkAsDmd+NY89QHUCmggbXj1AJ8KGp1e6PUDB/1ayY9s7QF70FaQZgz9AEHo2qz43QEBQOLu1TIBAQL5MFCF14z1AGXYYk/6+PUDmriXkg2ZAQMRCrWneMTpASRCugELZPUDufD81XkpAQPkx5q4lHDpANQwfEVMqOkCw/s9hvhhCQBLCo40jJj9AJh5QNuUKPEA+0AoMWUVAQPphhPBogz1AF4IclDCDO0CeXinLEGc6QFYOLbKdZ0BAvQD76NTNP0B1zeSbbV5AQH+kiAyrMDpAKcsQx7owOkC0VrQ5zjE6QO2ePCzUOjpAgVt381S3PUBIv30dOLc+QM78ag4QBD5AZVOu8C4XP0Ayj/zBwNM7QC6thsQ9Fj5A0XmNXaK6P0DGv8+4cGRAQBKifEELc0BAN2xblNkoOkB1H4DUJl49QJ9ZEqCmDj5AN+Dzwwg5PkDk27sGfbVAQPqzHykiSz5ASDMWTWdnQEDRP8HFip5BQOC+DpwzEjpA+ptQiIB7OkA17zhFR6o9QNPe4AuTiT1AFVJ+Uu3nP0BXPzbJj2JAQBeARunSpz1Aea9amfATPkDDSC9q9wlCQMnIWdjTXj5Amu0KfbDIPUB5dY4B2dM9QI/66xUWxD9AfuTWpNvOPUBPQBNhw7M9QILix5i7vj9AKxiV1Al8QED1uG+1TpA9QJP/yd+9Wz1ACTiEKjVTQEBQN1DgnXRAQAEwnkFDB0JAHo1D/S60QEBUOlj/53g+QBRcrKjBcEBA5QrvchEvPkC+nxov3QQ+QJB0WY6IKj5AaTo7GRx9PUALmSuDamNAQO2BVmDIgj1AChFwCFWaPkAIA8+9h3M9QMf0hCUekD1AoBnEB3a8PUBFR3L5DzE6QANbJVgcPj5AE9+saEOZPkA=",
          "dtype": "f8"
         },
         "legendgroup": "Whataburger",
         "locationmode": "USA-states",
         "lon": {
          "bdata": "Kld4l4uaV8DJsIo3Mq1YwC/APjp1dVjA6rKY2HxyWMD/lZUmpfBXwJFEL6NYvlfAlKRrJt+EWMBfJLTlXGhYwDIge737S1jAsmMjEK9tV8C6EoHqH05YwHrf+Noz5VfAUmUYd4O+V8AGEhQ/xqRVwGB2Tx4WkljAMC/APjrgV8DvycNCrUlYwIlBYOXQSljA3c1THXJrWMCze/KwUItXwCBj7lpCxFXAwmnBi75CWMCgNxWpMChXwKUxWkdVmVjAqdkDrcB2WMBxrIvbaMBYwATnjCjthVjAQznRrkKMV8Az+WabG2lYwJq2f2WlbVjA9nr3x3trWMBgkV8/xIdYwJT2Bl+YlFjAwCZr1EOKWMDVsrW+SORXwPOrOUAwd1jAMJ5BQ/9uWMAOFeP8TURYwIKo+wCkdFjAlSu8y0WWWsAxCKwcWlhYwAM/qmG/YljAv4I0Y9F4WMALRiV1AopYwGK+vAD7slfAtRX7y+7jV8CGIXL6eiFawPqbUIiAb1jApn7eVKRaWMDqWnufqqpawC6QoPgxTljA3nahuU5xWMD83qY/+8FXwKTfvg6cx1fALA38qIaZV8ATm49rQ0ZYwIMT0a+t4FfAC12JQPXgV8AB4Niz5/lXwDp2UInrZlTAH7qgvmXmV8CzJEBNLX9YwA1yF2GKnVrAJsed0sHKV8CCc0aU9tJXwCgK9Ik8lVrAtB8pIsMmWMDbwYh9AuxXwAJIbeLkoljAD9HoDmItWMDQuHAgJDFYwOuQm+EGjFfAtrkxPWHxW8BrfZHQls1VwK6BrRIsOFjA/wkuVtQEV8CvfJbnweFXwNiZf0pucljA/yH99nWcWMCxpNx9jlJYwIQSZtr+y1fAKH6MuWvHVcAlkuhlFMVXwBVXlX1X0lfAaCWt+IbeV8DMtWgB2o5YwJUrvMtFZlTAiteKcJJaWMA=",
          "dtype": "f8"
         },
         "marker": {
          "color": "#EF553B",
          "symbol": "circle"
         },
         "mode": "markers",
         "name": "Whataburger",
         "showlegend": true,
         "type": "scattergeo"
        },
        {
         "geo": "geo",
         "hovertemplate": "name=Chick-fil-A<br>latitude=%{lat}<br>longitude=%{lon}<extra></extra>",
         "lat": {
          "bdata": "jliLTwHYPkAWNZiG4R9BQJ/Ik6RrSkNAJLn8h/QbREAAHebLC9RBQKOvIM1Y+ENA41MAjGeUQ0Clg/V/DrNCQI47pYP120NAiQj/ImgiQ0C8y0V8JyRFQLUy4Zf6WUVAk+NO6WBlQ0CBCdy6mwNEQMXm49pQFUJAYVRSJ6CxQ0A429yYnnBDQNSCF30FnUJAMCqpE9DkO0DBU8iVel4+QKmDvB5MGEJA8bxUbMxBQkCyDkdX6YxDQMdLN4lBmERAp7OTwVF2REAJG55eKVNEQC0mNh/XbkVAymyQSUZuP0BNvtnmxkBDQH9qvHSTVEFACfmgZ7OwQUArGJXUCbhBQDarPldbMUVADvPlBdgfQEBJGSK7U3ZDQDNQGf8+n0NAg6YlVkaNQUBEi2zn+yVBQDc10HzO/0BApn7eVKRmQ0DNqzqrBSBDQEkRGVbxrkJAzJcXYB85RUA/jBAebYRDQJpcjIF1wEFAd0oH6/+YQECyYyMQr/9AQBnnb0IhzkBAjErqBDTlQEASpb3BF4Y9QKMBvAUSjEZADXGsi9sgREBR9wFIbc5AQE9AE2HDE0NAzse1oWJcRUDZd0XwvwFBQE3bv7LS0ENA7BLVWwMDPkBIv30dODNDQJy/CYUIQEBAdjdPdcjVREB0tRX7y85GQBUdyeU/ZEBA8zy4O2tPQEBh4Ln3cKVCQH7+e/DaWUVAnMQgsHKUREDgnBGlvdFAQJS9pZwvfjxAyhr1EI36QEArEhPU8C1AQFd4l4v4YkNAdArys5FvPkCx+iMMA5xDQJTBUfLqPENACTiEKjUtQ0AG9S1zuqw+QFESEmkb7UBA1QloImxgQUArobskzm5AQMN/uoEC80BAya8fYoPPQEDXEvJBz8ZAQCv8Gd6snT9AclDCTNsHQkA7qpog6ppAQNv4E5UNqUNA6Nms+lytQUCHp1fKMoxAQO84RUdygUFAHPD5YYQgPEBuxJPdzEA8QHsuU5Pgx0BAmDRG66hiPkBTBaOSOnlFQHEbDeAtuEBAUTHO34RKQ0C8y0V8J0ZEQLWJk/sdzkFA4+E9B5a/Q0A=",
          "dtype": "f8"
         },
         "legendgroup": "Chick-fil-A",
         "locationmode": "USA-states",
         "lon": {
          "bdata": "7dPxmIHUVMCvd3+8VylUwEFl/PuMD1fAJZLoZRRZVcB+b9Of/TRWwNWVz/I8aFPACW05l+KKU8DZPXlYqCFTwKmfNxWpllXA7rH0oQtjU8ChEAGHUOlRwAOV8e8z3FHAKQXdXtJmU8AKEXAIVcZSwGmpvB3hoFXAfAqA8QwgVcDwbfqzH0dTwNLj9zb9/VPApb3BFyaPVMC0AkNWt+tVwBNJ9DKKEVTAoRABh1DUVcByF2GKchFVwHsUrkfh/lvAV3iXi/j4W8BH5pE/GPxbwCHNWDSda1XA845TdCQdWcDeAgmKH5VWwC1gArfunlXAknpP5bR7U8DQs1n1uSZUwMQI4dHG/VXAY0UNpmG2W8DmkudQf65XwJzc71AUJlXAR+hn6nVFU8B4uYjvxPZUwETBjClYgFXA5WGh1jRnWMBYj/tW62dVwKW9wRcmy1PAMUJ4tHEWWMCm1ZC4x/BXwL7BFyZTv1TAb7vQXKfhVcBc5nRZTIBVwEesxacAklXAsp3vp8bvVMDChqdXyqZYwA8LtaZ5W1fAYcPTK2XpW8A3pics8XRVwLbz/dR4dVXAvqQxWkcbVcCEgefew0lUwE91yM1wtVPAaXQHsTN3WMDjjcwjf+RSwG5MT1jiA1fASNxj6UOTUcDc14FzRqBewJyiI7n8+1PA2QjE6/rrVMC0yHa+n0pUwKpJ8IY03FHALspskEn8V8BZ+zvboxZcwGNFDaZhXVTAhXgDULUDVcB2cRsN4IpVwBn/PuPCS1PAxAd2/BcQVcDQKjOl9TZTwGkAb4EEW1PAKQXdXtJoVMAS91j60AdWwFqEYitoDVXA+zpwzogaV8AAdJgvL/JTwJP98zRgE1XAjniymxn5W8AT8kHPZhFVwFUTRN0HDlXAxvmbUIj2V8ANcayL2/5TwJ57D5cceFPAJ4Oj5NXDXcAhAg6hSgdYwERpb/CFTVXAIzKs4o2XVMDRdHYyOFRUwKMDkrBvoVXAR8mrcwzEVsBq3nGKjgBWwABvgQTFB1XAG0zD8BFVU8Cc24R7ZZVSwCkF3V7SY1jAFtukorEpU8A=",
          "dtype": "f8"
         },
         "marker": {
          "color": "#00cc96",
          "symbol": "circle"
         },
         "mode": "markers",
         "name": "Chick-fil-A",
         "showlegend": true,
         "type": "scattergeo"
        },
        {
         "geo": "geo",
         "hovertemplate": "name=Waffle House<br>latitude=%{lat}<br>longitude=%{lon}<extra></extra>",
         "lat": {
          "bdata": "kX77OnAiQEDXo3A9CsdBQJmesMQDHkRAv30dOGdsQUA9m1Wfq/1AQJVliGNdHEFA5Ga4AZ/3QECL/tDMk/NAQFrwoq8guUFAw2M/i6VEQEC1TlyOV1RDQDcawFsg2UNAD5wzorTvQ0BmiGNd3O5DQGaEtwch2ENAUU60q5AGQkA+6Nms+nxAQIv9ZffkeUBAUiegibB3QUAAV7JjI/RBQAhyUMJMV0BAfqoKDcSmPUDJHTaRmZc+QFJgAUwZcD5AKqkT0ERIPkDfpj/7kbJBQMX+snvymEBAwoanV8oKQUCqYFRSJxRDQCydD88SdkFADAIrhxahQ0AOvjCZKkhEQOKsiJroPz5AB0KygAl4QUAF+69z0+ZCQGdEaW/w9UBAy7vqAfP6QECAgosVNexBQJ4JTRJLaj5AyqZc4V3KQEDi6ZWyDPVBQAN4CyQobkBAWyTtRh/dQ0DtYS8UsOtAQHsUrkfhLj5AMiB7vftLRECmCkYldVpAQOhpwCDpu0BAhugQOBKMOkDJ5T+k3z4+QMx/SL99lUNATdwqiIEMQUCR0JZzKcRAQP32deCc8UBA3QvMCkXkQ0A3VIzzN21BQGk6OxkcdT5APx2PGagaQUAofoy5a+lBQD9vKlJhvEJAkGtDxThvQEBIp658ln9AQBCyLJj4AUFA/Uy9bhHMQUCPcFrwoj9AQN4FSgos2kBAdcdim1SsQkDvc4FtMmtCQGYxsfm4nkFAmzkktVCCQUBJS+XtCHNAQPmKrSGqxUBADeAtkKCwQ0CRLGACtxZBQA==",
          "dtype": "f8"
         },
         "legendgroup": "Waffle House",
         "locationmode": "USA-states",
         "lon": {
          "bdata": "Ka4q+66IVsAW+8vuyUNTwJS8OseASFPA9ihcj8KVVMACmggbnkZUwOC+DpwzJlTAQuxMofNEVMBuUWaDTABVwILn3sMlW1jA7unqjsUpV8CIhVrTvEhVwPs6cM6IBlXAm1Wfq60IVcAf9GxWfQZVwI/66xUWDlXAk8ZoHVWpVcBj7lpCPgRUwLyWkA96ClTAx4LCoEyAVMDdzVMdcglVwH78pUV9XVjA8KSFyyrCV8D1geSdQ8tVwL9GkiBchVbAIo51cRvhVcDuJY3ROmRYwJ88LNSaJlTAsi5uowE8VMA9YYkHlG1VwNO84xQdf1TAnu+nxkszVcATRN0HIAtVwCfaVUj5cFbAQ/8EFyuEVMAHQUerWtpTwFr1udqKDVXAkEqxo3ENVcARGVbxRpxVwA3+fjFbxFbA65Cb4QYYVcB3EDtT6LRVwBUdyeU/VFjAGZC93v2PVcA2A1yQLRRVwCsTfqmfaVXAqz5XW7HVUsBd3EYDeEdYwE1J1uHohFTABTQRNjxzVMB1kxgEVmZUwL2pSIWxn1fAsOdrlssAVcCkUuxoHK1VwKMBvAUSFFXAk3NiD+3/VMBeukkMAp1UwJ6Y9WIovVbAnDHMCdoQVMBGlPYGX/RTwM8UOq+xYVPALexph78AVMBSCrq9pAtUwO9054nnRFTA3j1A9+U2VMDl7QinBUFVwI8YPbfQClXArYVZaOfOU8Dw+H+gn95VwOaWVkPiOlTA/g3aq499VMCuR+F6FB5YwEBbCQjmJFXA3pOHhVo3WsA5X+y9+DNVwA==",
          "dtype": "f8"
         },
         "marker": {
          "color": "#ab63fa",
          "symbol": "circle"
         },
         "mode": "markers",
         "name": "Waffle House",
         "showlegend": true,
         "type": "scattergeo"
        },
        {
         "geo": "geo",
         "hovertemplate": "name=In-N-Out Burger<br>latitude=%{lat}<br>longitude=%{lon}<extra></extra>",
         "lat": {
          "bdata": "RL+2fvpNQkD4/DBCeJhEQBxClZo9XENAuAa2SrAAQ0DkMQOV8ZtBQCQLmMCtb0NAwHYwYp82QUDHuriNBuxAQF9egH105EJAw7tcxHfmQECph2h0B8FAQIgQV87etUJATioaa3/pQEA=",
          "dtype": "f8"
         },
         "legendgroup": "In-N-Out Burger",
         "locationmode": "USA-states",
         "lon": {
          "bdata": "3h6EgHx1XsDNkgA1tf5bwM6N6QlLNV7Aa2CrBIt1XsBxj6UPXYJcwOHurN12U17ATIi5pGpXXcAFoidlUmJdwFVq9kArkl7AdxVSflIIXMBTkQpjCxFcwCJRaFn3hV7AyR6hZkiFXcA=",
          "dtype": "f8"
         },
         "marker": {
          "color": "#FFA15A",
          "symbol": "circle"
         },
         "mode": "markers",
         "name": "In-N-Out Burger",
         "showlegend": true,
         "type": "scattergeo"
        }
       ],
       "layout": {
        "geo": {
         "center": {},
         "domain": {
          "x": [
           0,
           1
          ],
          "y": [
           0,
           1
          ]
         },
         "scope": "usa"
        },
        "legend": {
         "title": {
          "text": "name"
         },
         "tracegroupgap": 0
        },
        "template": {
         "data": {
          "bar": [
           {
            "error_x": {
             "color": "#2a3f5f"
            },
            "error_y": {
             "color": "#2a3f5f"
            },
            "marker": {
             "line": {
              "color": "#E5ECF6",
              "width": 0.5
             },
             "pattern": {
              "fillmode": "overlay",
              "size": 10,
              "solidity": 0.2
             }
            },
            "type": "bar"
           }
          ],
          "barpolar": [
           {
            "marker": {
             "line": {
              "color": "#E5ECF6",
              "width": 0.5
             },
             "pattern": {
              "fillmode": "overlay",
              "size": 10,
              "solidity": 0.2
             }
            },
            "type": "barpolar"
           }
          ],
          "carpet": [
           {
            "aaxis": {
             "endlinecolor": "#2a3f5f",
             "gridcolor": "white",
             "linecolor": "white",
             "minorgridcolor": "white",
             "startlinecolor": "#2a3f5f"
            },
            "baxis": {
             "endlinecolor": "#2a3f5f",
             "gridcolor": "white",
             "linecolor": "white",
             "minorgridcolor": "white",
             "startlinecolor": "#2a3f5f"
            },
            "type": "carpet"
           }
          ],
          "choropleth": [
           {
            "colorbar": {
             "outlinewidth": 0,
             "ticks": ""
            },
            "type": "choropleth"
           }
          ],
          "contour": [
           {
            "colorbar": {
             "outlinewidth": 0,
             "ticks": ""
            },
            "colorscale": [
             [
              0,
              "#0d0887"
             ],
             [
              0.1111111111111111,
              "#46039f"
             ],
             [
              0.2222222222222222,
              "#7201a8"
             ],
             [
              0.3333333333333333,
              "#9c179e"
             ],
             [
              0.4444444444444444,
              "#bd3786"
             ],
             [
              0.5555555555555556,
              "#d8576b"
             ],
             [
              0.6666666666666666,
              "#ed7953"
             ],
             [
              0.7777777777777778,
              "#fb9f3a"
             ],
             [
              0.8888888888888888,
              "#fdca26"
             ],
             [
              1,
              "#f0f921"
             ]
            ],
            "type": "contour"
           }
          ],
          "contourcarpet": [
           {
            "colorbar": {
             "outlinewidth": 0,
             "ticks": ""
            },
            "type": "contourcarpet"
           }
          ],
          "heatmap": [
           {
            "colorbar": {
             "outlinewidth": 0,
             "ticks": ""
            },
            "colorscale": [
             [
              0,
              "#0d0887"
             ],
             [
              0.1111111111111111,
              "#46039f"
             ],
             [
              0.2222222222222222,
              "#7201a8"
             ],
             [
              0.3333333333333333,
              "#9c179e"
             ],
             [
              0.4444444444444444,
              "#bd3786"
             ],
             [
              0.5555555555555556,
              "#d8576b"
             ],
             [
              0.6666666666666666,
              "#ed7953"
             ],
             [
              0.7777777777777778,
              "#fb9f3a"
             ],
             [
              0.8888888888888888,
              "#fdca26"
             ],
             [
              1,
              "#f0f921"
             ]
            ],
            "type": "heatmap"
           }
          ],
          "histogram": [
           {
            "marker": {
             "pattern": {
              "fillmode": "overlay",
              "size": 10,
              "solidity": 0.2
             }
            },
            "type": "histogram"
           }
          ],
          "histogram2d": [
           {
            "colorbar": {
             "outlinewidth": 0,
             "ticks": ""
            },
            "colorscale": [
             [
              0,
              "#0d0887"
             ],
             [
              0.1111111111111111,
              "#46039f"
             ],
             [
              0.2222222222222222,
              "#7201a8"
             ],
             [
              0.3333333333333333,
              "#9c179e"
             ],
             [
              0.4444444444444444,
              "#bd3786"
             ],
             [
              0.5555555555555556,
              "#d8576b"
             ],
             [
              0.6666666666666666,
              "#ed7953"
             ],
             [
              0.7777777777777778,
              "#fb9f3a"
             ],
             [
              0.8888888888888888,
              "#fdca26"
             ],
             [
              1,
              "#f0f921"
             ]
            ],
            "type": "histogram2d"
           }
          ],
          "histogram2dcontour": [
           {
            "colorbar": {
             "outlinewidth": 0,
             "ticks": ""
            },
            "colorscale": [
             [
              0,
              "#0d0887"
             ],
             [
              0.1111111111111111,
              "#46039f"
             ],
             [
              0.2222222222222222,
              "#7201a8"
             ],
             [
              0.3333333333333333,
              "#9c179e"
             ],
             [
              0.4444444444444444,
              "#bd3786"
             ],
             [
              0.5555555555555556,
              "#d8576b"
             ],
             [
              0.6666666666666666,
              "#ed7953"
             ],
             [
              0.7777777777777778,
              "#fb9f3a"
             ],
             [
              0.8888888888888888,
              "#fdca26"
             ],
             [
              1,
              "#f0f921"
             ]
            ],
            "type": "histogram2dcontour"
           }
          ],
          "mesh3d": [
           {
            "colorbar": {
             "outlinewidth": 0,
             "ticks": ""
            },
            "type": "mesh3d"
           }
          ],
          "parcoords": [
           {
            "line": {
             "colorbar": {
              "outlinewidth": 0,
              "ticks": ""
             }
            },
            "type": "parcoords"
           }
          ],
          "pie": [
           {
            "automargin": true,
            "type": "pie"
           }
          ],
          "scatter": [
           {
            "fillpattern": {
             "fillmode": "overlay",
             "size": 10,
             "solidity": 0.2
            },
            "type": "scatter"
           }
          ],
          "scatter3d": [
           {
            "line": {
             "colorbar": {
              "outlinewidth": 0,
              "ticks": ""
             }
            },
            "marker": {
             "colorbar": {
              "outlinewidth": 0,
              "ticks": ""
             }
            },
            "type": "scatter3d"
           }
          ],
          "scattercarpet": [
           {
            "marker": {
             "colorbar": {
              "outlinewidth": 0,
              "ticks": ""
             }
            },
            "type": "scattercarpet"
           }
          ],
          "scattergeo": [
           {
            "marker": {
             "colorbar": {
              "outlinewidth": 0,
              "ticks": ""
             }
            },
            "type": "scattergeo"
           }
          ],
          "scattergl": [
           {
            "marker": {
             "colorbar": {
              "outlinewidth": 0,
              "ticks": ""
             }
            },
            "type": "scattergl"
           }
          ],
          "scattermap": [
           {
            "marker": {
             "colorbar": {
              "outlinewidth": 0,
              "ticks": ""
             }
            },
            "type": "scattermap"
           }
          ],
          "scattermapbox": [
           {
            "marker": {
             "colorbar": {
              "outlinewidth": 0,
              "ticks": ""
             }
            },
            "type": "scattermapbox"
           }
          ],
          "scatterpolar": [
           {
            "marker": {
             "colorbar": {
              "outlinewidth": 0,
              "ticks": ""
             }
            },
            "type": "scatterpolar"
           }
          ],
          "scatterpolargl": [
           {
            "marker": {
             "colorbar": {
              "outlinewidth": 0,
              "ticks": ""
             }
            },
            "type": "scatterpolargl"
           }
          ],
          "scatterternary": [
           {
            "marker": {
             "colorbar": {
              "outlinewidth": 0,
              "ticks": ""
             }
            },
            "type": "scatterternary"
           }
          ],
          "surface": [
           {
            "colorbar": {
             "outlinewidth": 0,
             "ticks": ""
            },
            "colorscale": [
             [
              0,
              "#0d0887"
             ],
             [
              0.1111111111111111,
              "#46039f"
             ],
             [
              0.2222222222222222,
              "#7201a8"
             ],
             [
              0.3333333333333333,
              "#9c179e"
             ],
             [
              0.4444444444444444,
              "#bd3786"
             ],
             [
              0.5555555555555556,
              "#d8576b"
             ],
             [
              0.6666666666666666,
              "#ed7953"
             ],
             [
              0.7777777777777778,
              "#fb9f3a"
             ],
             [
              0.8888888888888888,
              "#fdca26"
             ],
             [
              1,
              "#f0f921"
             ]
            ],
            "type": "surface"
           }
          ],
          "table": [
           {
            "cells": {
             "fill": {
              "color": "#EBF0F8"
             },
             "line": {
              "color": "white"
             }
            },
            "header": {
             "fill": {
              "color": "#C8D4E3"
             },
             "line": {
              "color": "white"
             }
            },
            "type": "table"
           }
          ]
         },
         "layout": {
          "annotationdefaults": {
           "arrowcolor": "#2a3f5f",
           "arrowhead": 0,
           "arrowwidth": 1
          },
          "autotypenumbers": "strict",
          "coloraxis": {
           "colorbar": {
            "outlinewidth": 0,
            "ticks": ""
           }
          },
          "colorscale": {
           "diverging": [
            [
             0,
             "#8e0152"
            ],
            [
             0.1,
             "#c51b7d"
            ],
            [
             0.2,
             "#de77ae"
            ],
            [
             0.3,
             "#f1b6da"
            ],
            [
             0.4,
             "#fde0ef"
            ],
            [
             0.5,
             "#f7f7f7"
            ],
            [
             0.6,
             "#e6f5d0"
            ],
            [
             0.7,
             "#b8e186"
            ],
            [
             0.8,
             "#7fbc41"
            ],
            [
             0.9,
             "#4d9221"
            ],
            [
             1,
             "#276419"
            ]
           ],
           "sequential": [
            [
             0,
             "#0d0887"
            ],
            [
             0.1111111111111111,
             "#46039f"
            ],
            [
             0.2222222222222222,
             "#7201a8"
            ],
            [
             0.3333333333333333,
             "#9c179e"
            ],
            [
             0.4444444444444444,
             "#bd3786"
            ],
            [
             0.5555555555555556,
             "#d8576b"
            ],
            [
             0.6666666666666666,
             "#ed7953"
            ],
            [
             0.7777777777777778,
             "#fb9f3a"
            ],
            [
             0.8888888888888888,
             "#fdca26"
            ],
            [
             1,
             "#f0f921"
            ]
           ],
           "sequentialminus": [
            [
             0,
             "#0d0887"
            ],
            [
             0.1111111111111111,
             "#46039f"
            ],
            [
             0.2222222222222222,
             "#7201a8"
            ],
            [
             0.3333333333333333,
             "#9c179e"
            ],
            [
             0.4444444444444444,
             "#bd3786"
            ],
            [
             0.5555555555555556,
             "#d8576b"
            ],
            [
             0.6666666666666666,
             "#ed7953"
            ],
            [
             0.7777777777777778,
             "#fb9f3a"
            ],
            [
             0.8888888888888888,
             "#fdca26"
            ],
            [
             1,
             "#f0f921"
            ]
           ]
          },
          "colorway": [
           "#636efa",
           "#EF553B",
           "#00cc96",
           "#ab63fa",
           "#FFA15A",
           "#19d3f3",
           "#FF6692",
           "#B6E880",
           "#FF97FF",
           "#FECB52"
          ],
          "font": {
           "color": "#2a3f5f"
          },
          "geo": {
           "bgcolor": "white",
           "lakecolor": "white",
           "landcolor": "#E5ECF6",
           "showlakes": true,
           "showland": true,
           "subunitcolor": "white"
          },
          "hoverlabel": {
           "align": "left"
          },
          "hovermode": "closest",
          "mapbox": {
           "style": "light"
          },
          "paper_bgcolor": "white",
          "plot_bgcolor": "#E5ECF6",
          "polar": {
           "angularaxis": {
            "gridcolor": "white",
            "linecolor": "white",
            "ticks": ""
           },
           "bgcolor": "#E5ECF6",
           "radialaxis": {
            "gridcolor": "white",
            "linecolor": "white",
            "ticks": ""
           }
          },
          "scene": {
           "xaxis": {
            "backgroundcolor": "#E5ECF6",
            "gridcolor": "white",
            "gridwidth": 2,
            "linecolor": "white",
            "showbackground": true,
            "ticks": "",
            "zerolinecolor": "white"
           },
           "yaxis": {
            "backgroundcolor": "#E5ECF6",
            "gridcolor": "white",
            "gridwidth": 2,
            "linecolor": "white",
            "showbackground": true,
            "ticks": "",
            "zerolinecolor": "white"
           },
           "zaxis": {
            "backgroundcolor": "#E5ECF6",
            "gridcolor": "white",
            "gridwidth": 2,
            "linecolor": "white",
            "showbackground": true,
            "ticks": "",
            "zerolinecolor": "white"
           }
          },
          "shapedefaults": {
           "line": {
            "color": "#2a3f5f"
           }
          },
          "ternary": {
           "aaxis": {
            "gridcolor": "white",
            "linecolor": "white",
            "ticks": ""
           },
           "baxis": {
            "gridcolor": "white",
            "linecolor": "white",
            "ticks": ""
           },
           "bgcolor": "#E5ECF6",
           "caxis": {
            "gridcolor": "white",
            "linecolor": "white",
            "ticks": ""
           }
          },
          "title": {
           "x": 0.05
          },
          "xaxis": {
           "automargin": true,
           "gridcolor": "white",
           "linecolor": "white",
           "ticks": "",
           "title": {
            "standoff": 15
           },
           "zerolinecolor": "white",
           "zerolinewidth": 2
          },
          "yaxis": {
           "automargin": true,
           "gridcolor": "white",
           "linecolor": "white",
           "ticks": "",
           "title": {
            "standoff": 15
           },
           "zerolinecolor": "white",
           "zerolinewidth": 2
          }
         }
        },
        "title": {
         "text": "Regional Fast Food Chains Across the US"
        }
       }
      }
     },
     "metadata": {},
     "output_type": "display_data"
    }
   ],
   "source": [
    "restaurants = pd.read_csv('FastFoodRestaurants.csv')[['name', 'city', 'latitude', 'longitude', 'province', 'country']]\n",
    "regional_chains = ['Waffle House', 'In-N-Out Burger', \"Taco John's\", \"Whataburger\", \"Chick-fil-A\"]\n",
    "regional_restaurants = restaurants[restaurants['name'].isin(regional_chains)]\n",
    "\n",
    "px.scatter_geo(regional_restaurants, lat = 'latitude', lon = 'longitude', color = 'name',\n",
    "             locationmode='USA-states', scope = 'usa', title = 'Regional Fast Food Chains Across the US')"
   ]
  },
  {
   "cell_type": "markdown",
   "metadata": {},
   "source": [
    "Location can help create a strong brand identity. Help Cluck & Co. decide what region to open their first stores. \n",
    "\n",
    "We will be visualizing Google Trends data to futher our search. This is a *free* tool you can access [here](https://trends.google.com/trends/) to explore the usage of search terms over time and by location. Feel free to try it out on your own time!"
   ]
  },
  {
   "cell_type": "code",
   "execution_count": 15,
   "metadata": {},
   "outputs": [
    {
     "data": {
      "application/vnd.plotly.v1+json": {
       "config": {
        "plotlyServerURL": "https://plot.ly"
       },
       "data": [
        {
         "coloraxis": "coloraxis",
         "customdata": {
          "bdata": "U05cOzwmVj87ME04QzVfQjUnSzRCMU8uZDtWLlw/Vk9MKEMySDZLMkc9W0svHVJARSldMFU0UjFNP1g0TjBSMUszW0FRSVw4TDtXZFxYXTxLNlM+Xj9VNls8XDxCK1YrTUtcP0szXjs+M1c3Ti5WNzUvUDlXZFwuXCxQRDMrSjhLJkU7UjlPPjwmTy1OOlgxRjNkRTIkUC5SN1o3VUtRRE9FXDlAJE4wT0pbRD00UUk9KFIqQ0ddK0ExTTU2J043WExZM04+XCovLlIy",
          "dtype": "i1",
          "shape": "51, 4"
         },
         "geo": "geo",
         "hovertemplate": "<b>%{hovertext}</b><br><br>state_abbr=%{location}<br>chicken wrap=%{z}<br>chicken tenders=%{customdata[1]}<br>chicken=%{customdata[2]}<br>fried chicken=%{customdata[3]}<extra></extra>",
         "hovertext": [
          "Alabama",
          "Alaska",
          "Arizona",
          "Arkansas",
          "California",
          "Colorado",
          "Connecticut",
          "Delaware",
          "District of Columbia",
          "Florida",
          "Georgia",
          "Hawaii",
          "Idaho",
          "Illinois",
          "Indiana",
          "Iowa",
          "Kansas",
          "Kentucky",
          "Louisiana",
          "Maine",
          "Maryland",
          "Massachusetts",
          "Michigan",
          "Minnesota",
          "Mississippi",
          "Missouri",
          "Montana",
          "Nebraska",
          "Nevada",
          "New Hampshire",
          "New Jersey",
          "New Mexico",
          "New York",
          "North Carolina",
          "North Dakota",
          "Ohio",
          "Oklahoma",
          "Oregon",
          "Pennsylvania",
          "Rhode Island",
          "South Carolina",
          "South Dakota",
          "Tennessee",
          "Texas",
          "Utah",
          "Vermont",
          "Virginia",
          "Washington",
          "West Virginia",
          "Wisconsin",
          "Wyoming"
         ],
         "locationmode": "USA-states",
         "locations": [
          "AL",
          "AK",
          "AZ",
          "AR",
          "CA",
          "CO",
          "CT",
          "DE",
          "DC",
          "FL",
          "GA",
          "HI",
          "ID",
          "IL",
          "IN",
          "IA",
          "KS",
          "KY",
          "LA",
          "ME",
          "MD",
          "MA",
          "MI",
          "MN",
          "MS",
          "MO",
          "MT",
          "NE",
          "NV",
          "NH",
          "NJ",
          "NM",
          "NY",
          "NC",
          "ND",
          "OH",
          "OK",
          "OR",
          "PA",
          "RI",
          "SC",
          "SD",
          "TN",
          "TX",
          "UT",
          "VT",
          "VA",
          "WA",
          "WV",
          "WI",
          "WY"
         ],
         "name": "",
         "type": "choropleth",
         "z": {
          "bdata": "Uzw7QzVCZFxMSEcvRVVNTktRTFxLXltCTUs+TjVXXDNLUjxORjJSVU9ATz09Q0E2WE4v",
          "dtype": "i1"
         }
        }
       ],
       "layout": {
        "coloraxis": {
         "colorbar": {
          "title": {
           "text": "chicken wrap"
          }
         },
         "colorscale": [
          [
           0,
           "#0d0887"
          ],
          [
           0.1111111111111111,
           "#46039f"
          ],
          [
           0.2222222222222222,
           "#7201a8"
          ],
          [
           0.3333333333333333,
           "#9c179e"
          ],
          [
           0.4444444444444444,
           "#bd3786"
          ],
          [
           0.5555555555555556,
           "#d8576b"
          ],
          [
           0.6666666666666666,
           "#ed7953"
          ],
          [
           0.7777777777777778,
           "#fb9f3a"
          ],
          [
           0.8888888888888888,
           "#fdca26"
          ],
          [
           1,
           "#f0f921"
          ]
         ]
        },
        "geo": {
         "center": {},
         "domain": {
          "x": [
           0,
           1
          ],
          "y": [
           0,
           1
          ]
         },
         "scope": "usa"
        },
        "legend": {
         "tracegroupgap": 0
        },
        "margin": {
         "b": 0,
         "l": 0,
         "r": 0,
         "t": 30
        },
        "template": {
         "data": {
          "bar": [
           {
            "error_x": {
             "color": "#2a3f5f"
            },
            "error_y": {
             "color": "#2a3f5f"
            },
            "marker": {
             "line": {
              "color": "#E5ECF6",
              "width": 0.5
             },
             "pattern": {
              "fillmode": "overlay",
              "size": 10,
              "solidity": 0.2
             }
            },
            "type": "bar"
           }
          ],
          "barpolar": [
           {
            "marker": {
             "line": {
              "color": "#E5ECF6",
              "width": 0.5
             },
             "pattern": {
              "fillmode": "overlay",
              "size": 10,
              "solidity": 0.2
             }
            },
            "type": "barpolar"
           }
          ],
          "carpet": [
           {
            "aaxis": {
             "endlinecolor": "#2a3f5f",
             "gridcolor": "white",
             "linecolor": "white",
             "minorgridcolor": "white",
             "startlinecolor": "#2a3f5f"
            },
            "baxis": {
             "endlinecolor": "#2a3f5f",
             "gridcolor": "white",
             "linecolor": "white",
             "minorgridcolor": "white",
             "startlinecolor": "#2a3f5f"
            },
            "type": "carpet"
           }
          ],
          "choropleth": [
           {
            "colorbar": {
             "outlinewidth": 0,
             "ticks": ""
            },
            "type": "choropleth"
           }
          ],
          "contour": [
           {
            "colorbar": {
             "outlinewidth": 0,
             "ticks": ""
            },
            "colorscale": [
             [
              0,
              "#0d0887"
             ],
             [
              0.1111111111111111,
              "#46039f"
             ],
             [
              0.2222222222222222,
              "#7201a8"
             ],
             [
              0.3333333333333333,
              "#9c179e"
             ],
             [
              0.4444444444444444,
              "#bd3786"
             ],
             [
              0.5555555555555556,
              "#d8576b"
             ],
             [
              0.6666666666666666,
              "#ed7953"
             ],
             [
              0.7777777777777778,
              "#fb9f3a"
             ],
             [
              0.8888888888888888,
              "#fdca26"
             ],
             [
              1,
              "#f0f921"
             ]
            ],
            "type": "contour"
           }
          ],
          "contourcarpet": [
           {
            "colorbar": {
             "outlinewidth": 0,
             "ticks": ""
            },
            "type": "contourcarpet"
           }
          ],
          "heatmap": [
           {
            "colorbar": {
             "outlinewidth": 0,
             "ticks": ""
            },
            "colorscale": [
             [
              0,
              "#0d0887"
             ],
             [
              0.1111111111111111,
              "#46039f"
             ],
             [
              0.2222222222222222,
              "#7201a8"
             ],
             [
              0.3333333333333333,
              "#9c179e"
             ],
             [
              0.4444444444444444,
              "#bd3786"
             ],
             [
              0.5555555555555556,
              "#d8576b"
             ],
             [
              0.6666666666666666,
              "#ed7953"
             ],
             [
              0.7777777777777778,
              "#fb9f3a"
             ],
             [
              0.8888888888888888,
              "#fdca26"
             ],
             [
              1,
              "#f0f921"
             ]
            ],
            "type": "heatmap"
           }
          ],
          "histogram": [
           {
            "marker": {
             "pattern": {
              "fillmode": "overlay",
              "size": 10,
              "solidity": 0.2
             }
            },
            "type": "histogram"
           }
          ],
          "histogram2d": [
           {
            "colorbar": {
             "outlinewidth": 0,
             "ticks": ""
            },
            "colorscale": [
             [
              0,
              "#0d0887"
             ],
             [
              0.1111111111111111,
              "#46039f"
             ],
             [
              0.2222222222222222,
              "#7201a8"
             ],
             [
              0.3333333333333333,
              "#9c179e"
             ],
             [
              0.4444444444444444,
              "#bd3786"
             ],
             [
              0.5555555555555556,
              "#d8576b"
             ],
             [
              0.6666666666666666,
              "#ed7953"
             ],
             [
              0.7777777777777778,
              "#fb9f3a"
             ],
             [
              0.8888888888888888,
              "#fdca26"
             ],
             [
              1,
              "#f0f921"
             ]
            ],
            "type": "histogram2d"
           }
          ],
          "histogram2dcontour": [
           {
            "colorbar": {
             "outlinewidth": 0,
             "ticks": ""
            },
            "colorscale": [
             [
              0,
              "#0d0887"
             ],
             [
              0.1111111111111111,
              "#46039f"
             ],
             [
              0.2222222222222222,
              "#7201a8"
             ],
             [
              0.3333333333333333,
              "#9c179e"
             ],
             [
              0.4444444444444444,
              "#bd3786"
             ],
             [
              0.5555555555555556,
              "#d8576b"
             ],
             [
              0.6666666666666666,
              "#ed7953"
             ],
             [
              0.7777777777777778,
              "#fb9f3a"
             ],
             [
              0.8888888888888888,
              "#fdca26"
             ],
             [
              1,
              "#f0f921"
             ]
            ],
            "type": "histogram2dcontour"
           }
          ],
          "mesh3d": [
           {
            "colorbar": {
             "outlinewidth": 0,
             "ticks": ""
            },
            "type": "mesh3d"
           }
          ],
          "parcoords": [
           {
            "line": {
             "colorbar": {
              "outlinewidth": 0,
              "ticks": ""
             }
            },
            "type": "parcoords"
           }
          ],
          "pie": [
           {
            "automargin": true,
            "type": "pie"
           }
          ],
          "scatter": [
           {
            "fillpattern": {
             "fillmode": "overlay",
             "size": 10,
             "solidity": 0.2
            },
            "type": "scatter"
           }
          ],
          "scatter3d": [
           {
            "line": {
             "colorbar": {
              "outlinewidth": 0,
              "ticks": ""
             }
            },
            "marker": {
             "colorbar": {
              "outlinewidth": 0,
              "ticks": ""
             }
            },
            "type": "scatter3d"
           }
          ],
          "scattercarpet": [
           {
            "marker": {
             "colorbar": {
              "outlinewidth": 0,
              "ticks": ""
             }
            },
            "type": "scattercarpet"
           }
          ],
          "scattergeo": [
           {
            "marker": {
             "colorbar": {
              "outlinewidth": 0,
              "ticks": ""
             }
            },
            "type": "scattergeo"
           }
          ],
          "scattergl": [
           {
            "marker": {
             "colorbar": {
              "outlinewidth": 0,
              "ticks": ""
             }
            },
            "type": "scattergl"
           }
          ],
          "scattermap": [
           {
            "marker": {
             "colorbar": {
              "outlinewidth": 0,
              "ticks": ""
             }
            },
            "type": "scattermap"
           }
          ],
          "scattermapbox": [
           {
            "marker": {
             "colorbar": {
              "outlinewidth": 0,
              "ticks": ""
             }
            },
            "type": "scattermapbox"
           }
          ],
          "scatterpolar": [
           {
            "marker": {
             "colorbar": {
              "outlinewidth": 0,
              "ticks": ""
             }
            },
            "type": "scatterpolar"
           }
          ],
          "scatterpolargl": [
           {
            "marker": {
             "colorbar": {
              "outlinewidth": 0,
              "ticks": ""
             }
            },
            "type": "scatterpolargl"
           }
          ],
          "scatterternary": [
           {
            "marker": {
             "colorbar": {
              "outlinewidth": 0,
              "ticks": ""
             }
            },
            "type": "scatterternary"
           }
          ],
          "surface": [
           {
            "colorbar": {
             "outlinewidth": 0,
             "ticks": ""
            },
            "colorscale": [
             [
              0,
              "#0d0887"
             ],
             [
              0.1111111111111111,
              "#46039f"
             ],
             [
              0.2222222222222222,
              "#7201a8"
             ],
             [
              0.3333333333333333,
              "#9c179e"
             ],
             [
              0.4444444444444444,
              "#bd3786"
             ],
             [
              0.5555555555555556,
              "#d8576b"
             ],
             [
              0.6666666666666666,
              "#ed7953"
             ],
             [
              0.7777777777777778,
              "#fb9f3a"
             ],
             [
              0.8888888888888888,
              "#fdca26"
             ],
             [
              1,
              "#f0f921"
             ]
            ],
            "type": "surface"
           }
          ],
          "table": [
           {
            "cells": {
             "fill": {
              "color": "#EBF0F8"
             },
             "line": {
              "color": "white"
             }
            },
            "header": {
             "fill": {
              "color": "#C8D4E3"
             },
             "line": {
              "color": "white"
             }
            },
            "type": "table"
           }
          ]
         },
         "layout": {
          "annotationdefaults": {
           "arrowcolor": "#2a3f5f",
           "arrowhead": 0,
           "arrowwidth": 1
          },
          "autotypenumbers": "strict",
          "coloraxis": {
           "colorbar": {
            "outlinewidth": 0,
            "ticks": ""
           }
          },
          "colorscale": {
           "diverging": [
            [
             0,
             "#8e0152"
            ],
            [
             0.1,
             "#c51b7d"
            ],
            [
             0.2,
             "#de77ae"
            ],
            [
             0.3,
             "#f1b6da"
            ],
            [
             0.4,
             "#fde0ef"
            ],
            [
             0.5,
             "#f7f7f7"
            ],
            [
             0.6,
             "#e6f5d0"
            ],
            [
             0.7,
             "#b8e186"
            ],
            [
             0.8,
             "#7fbc41"
            ],
            [
             0.9,
             "#4d9221"
            ],
            [
             1,
             "#276419"
            ]
           ],
           "sequential": [
            [
             0,
             "#0d0887"
            ],
            [
             0.1111111111111111,
             "#46039f"
            ],
            [
             0.2222222222222222,
             "#7201a8"
            ],
            [
             0.3333333333333333,
             "#9c179e"
            ],
            [
             0.4444444444444444,
             "#bd3786"
            ],
            [
             0.5555555555555556,
             "#d8576b"
            ],
            [
             0.6666666666666666,
             "#ed7953"
            ],
            [
             0.7777777777777778,
             "#fb9f3a"
            ],
            [
             0.8888888888888888,
             "#fdca26"
            ],
            [
             1,
             "#f0f921"
            ]
           ],
           "sequentialminus": [
            [
             0,
             "#0d0887"
            ],
            [
             0.1111111111111111,
             "#46039f"
            ],
            [
             0.2222222222222222,
             "#7201a8"
            ],
            [
             0.3333333333333333,
             "#9c179e"
            ],
            [
             0.4444444444444444,
             "#bd3786"
            ],
            [
             0.5555555555555556,
             "#d8576b"
            ],
            [
             0.6666666666666666,
             "#ed7953"
            ],
            [
             0.7777777777777778,
             "#fb9f3a"
            ],
            [
             0.8888888888888888,
             "#fdca26"
            ],
            [
             1,
             "#f0f921"
            ]
           ]
          },
          "colorway": [
           "#636efa",
           "#EF553B",
           "#00cc96",
           "#ab63fa",
           "#FFA15A",
           "#19d3f3",
           "#FF6692",
           "#B6E880",
           "#FF97FF",
           "#FECB52"
          ],
          "font": {
           "color": "#2a3f5f"
          },
          "geo": {
           "bgcolor": "white",
           "lakecolor": "white",
           "landcolor": "#E5ECF6",
           "showlakes": true,
           "showland": true,
           "subunitcolor": "white"
          },
          "hoverlabel": {
           "align": "left"
          },
          "hovermode": "closest",
          "mapbox": {
           "style": "light"
          },
          "paper_bgcolor": "white",
          "plot_bgcolor": "#E5ECF6",
          "polar": {
           "angularaxis": {
            "gridcolor": "white",
            "linecolor": "white",
            "ticks": ""
           },
           "bgcolor": "#E5ECF6",
           "radialaxis": {
            "gridcolor": "white",
            "linecolor": "white",
            "ticks": ""
           }
          },
          "scene": {
           "xaxis": {
            "backgroundcolor": "#E5ECF6",
            "gridcolor": "white",
            "gridwidth": 2,
            "linecolor": "white",
            "showbackground": true,
            "ticks": "",
            "zerolinecolor": "white"
           },
           "yaxis": {
            "backgroundcolor": "#E5ECF6",
            "gridcolor": "white",
            "gridwidth": 2,
            "linecolor": "white",
            "showbackground": true,
            "ticks": "",
            "zerolinecolor": "white"
           },
           "zaxis": {
            "backgroundcolor": "#E5ECF6",
            "gridcolor": "white",
            "gridwidth": 2,
            "linecolor": "white",
            "showbackground": true,
            "ticks": "",
            "zerolinecolor": "white"
           }
          },
          "shapedefaults": {
           "line": {
            "color": "#2a3f5f"
           }
          },
          "ternary": {
           "aaxis": {
            "gridcolor": "white",
            "linecolor": "white",
            "ticks": ""
           },
           "baxis": {
            "gridcolor": "white",
            "linecolor": "white",
            "ticks": ""
           },
           "bgcolor": "#E5ECF6",
           "caxis": {
            "gridcolor": "white",
            "linecolor": "white",
            "ticks": ""
           }
          },
          "title": {
           "x": 0.05
          },
          "xaxis": {
           "automargin": true,
           "gridcolor": "white",
           "linecolor": "white",
           "ticks": "",
           "title": {
            "standoff": 15
           },
           "zerolinecolor": "white",
           "zerolinewidth": 2
          },
          "yaxis": {
           "automargin": true,
           "gridcolor": "white",
           "linecolor": "white",
           "ticks": "",
           "title": {
            "standoff": 15
           },
           "zerolinecolor": "white",
           "zerolinewidth": 2
          }
         }
        },
        "title": {
         "text": "Chicken Wrap Popularity by State"
        }
       }
      }
     },
     "metadata": {},
     "output_type": "display_data"
    }
   ],
   "source": [
    "df = pd.read_csv('chicken_by_subregion.csv')\n",
    "df[\"state_abbr\"] = df[\"Region\"].apply(state_name_to_abbreviation)\n",
    "\n",
    "fig = px.choropleth(\n",
    "    df, locations=\"state_abbr\", locationmode=\"USA-states\",\n",
    "    color=\"chicken wrap\", ## replace 'chicken wrap' in this line to change the visual below!\n",
    "    scope=\"usa\", hover_name=\"Region\", hover_data={\"chicken wrap\": True, \"chicken tenders\": True, \"chicken\": True, \"fried chicken\": True})\n",
    "\n",
    "fig.update_layout(\n",
    "    title_text=\"Chicken Wrap Popularity by State\",\n",
    "    margin={\"r\":0,\"t\":30,\"l\":0,\"b\":0})\n",
    "\n",
    "fig.show()"
   ]
  },
  {
   "cell_type": "markdown",
   "metadata": {},
   "source": [
    "The numbers in each state toolbox represents in which location your term was most popular during the specified time frame. A value of 100 is the location with the most popularity as a fraction of total searches in that location. A value of 50 means that the term is *half as popular*. A score of 0 means there was not enough data for this term.\n",
    "\n",
    "Note: A higher value means a higher proportion of all queries, not a higher absolute query count. So a tiny country where 80% of the queries are for \"bananas\" will get twice the score of a giant country where only 40% of the queries are for \"bananas\".\n",
    "\n",
    "*You can color the map by the term **'chicken wrap'**, **'chicken tenders'**, **'fried chicken'**, or just **'chicken'**. \n",
    "Follow the comment in the code above and run the cell again to modify the visualization.*\n",
    "\n",
    "**Question 3.1:** Cluck & Co. has the funding to open a location in **MAX THREE** states. Where should they choose? Why?"
   ]
  },
  {
   "cell_type": "code",
   "execution_count": 8,
   "metadata": {},
   "outputs": [
    {
     "data": {
      "application/vnd.jupyter.widget-view+json": {
       "model_id": "c6c9ee404f1948b2b8cd584a7fa2e325",
       "version_major": 2,
       "version_minor": 0
      },
      "text/plain": [
       "Textarea(value='', placeholder='Your response here')"
      ]
     },
     "execution_count": 8,
     "metadata": {},
     "output_type": "execute_result"
    }
   ],
   "source": [
    "widgets.Textarea(placeholder='Your response here')"
   ]
  },
  {
   "cell_type": "markdown",
   "metadata": {},
   "source": [
    "The above graph uses pre-selected keywords. Now it's time to choose your own!\n",
    "\n",
    "**Question 3.2:** Using the [Google Trends](https://trends.google.com/trends/) website we explored above, what are THREE distinct keywords/search terms that you would use to market the chicken wrap? Be sure to discuss usage over time, geographic popularity, and related search queries. "
   ]
  },
  {
   "cell_type": "code",
   "execution_count": 12,
   "metadata": {},
   "outputs": [
    {
     "data": {
      "application/vnd.jupyter.widget-view+json": {
       "model_id": "0eb55a1b1bc847f79b6b891790f1149a",
       "version_major": 2,
       "version_minor": 0
      },
      "text/plain": [
       "Textarea(value='', placeholder='Your response here')"
      ]
     },
     "execution_count": 12,
     "metadata": {},
     "output_type": "execute_result"
    }
   ],
   "source": [
    "widgets.Textarea(placeholder='Your response here')"
   ]
  },
  {
   "cell_type": "markdown",
   "metadata": {},
   "source": [
    "### Section 4: Promotion\n",
    "\n",
    "**Promotion:** how you communicate the value of your product to your audience. It’s all about increasing awareness and persuading people to buy.\n",
    "- What advertising channels do you use (TV, social media, influencer marketing, etc.)?\n",
    "- What’s your messaging and tone?\n",
    "\n",
    "\n",
    "##### The Promotion Mix (a.k.a. How You Get the Word Out)\n",
    "When a company is trying to promote a product they usually don’t rely on just one method. Instead, they use a promotion mix, which is a combination of different strategies to grab attention, create interest, and encourage people to take action. There are four main parts of the promotion mix: advertising, personal selling, public relations, and sales promotion.\n",
    "\n",
    "- **Advertising** is paid communication that’s shared through mass media—things like TV commercials, social media ads, etc.\n",
    "- **Personal selling** describes real, face-to-face interaction like someone giving out samples, answering questions at a food truck, or even chatting with customers in-store.\n",
    "- **Public relations (PR)** is about building an image and maintaining strong relationships with the public.\n",
    "- **Sales promotion** is about limited-time deals and special offers that encourage people to act fast.\n",
    "\n",
    "**Question 4.1:** The key to a strong marketing campaign is figuring out which mix of these strategies works best for your target audience. Cluck & Co. only has the funding to select **TWO** of the above elements for their **promotional mix** at the moment. Which two should they focus on and why?\n",
    "\n",
    "*Hint: consider target market’s size, geographic or demographic influences, characteristics of the product (good, service, idea) and how the product is consumed, the price of the product (Intensive, Selective, Exclusive)"
   ]
  },
  {
   "cell_type": "code",
   "execution_count": 9,
   "metadata": {},
   "outputs": [
    {
     "data": {
      "application/vnd.jupyter.widget-view+json": {
       "model_id": "5b87f950aba74e8dad4e631f2ba0c64a",
       "version_major": 2,
       "version_minor": 0
      },
      "text/plain": [
       "Textarea(value='', placeholder='Your response here')"
      ]
     },
     "execution_count": 9,
     "metadata": {},
     "output_type": "execute_result"
    }
   ],
   "source": [
    "widgets.Textarea(placeholder='Your response here')"
   ]
  },
  {
   "cell_type": "markdown",
   "metadata": {},
   "source": [
    "**Question 4.2:** Today we focused a lot on keyword searches, but customers derive information and opinions from many different sources. How successfully marketers use promotion to maintain positive relationships depends on some extent on the quantity and quality of information the organization receives.\n",
    "\n",
    "What are some impactful **promotional channels** that Cluck & Co. can use to increase their presence? What are some other sources of information that would help inform a sucessful marketing campaign? "
   ]
  },
  {
   "cell_type": "code",
   "execution_count": 10,
   "metadata": {},
   "outputs": [
    {
     "data": {
      "application/vnd.jupyter.widget-view+json": {
       "model_id": "24549b4ce8554bada70623edddbf96cc",
       "version_major": 2,
       "version_minor": 0
      },
      "text/plain": [
       "Textarea(value='', placeholder='Your response here')"
      ]
     },
     "execution_count": 10,
     "metadata": {},
     "output_type": "execute_result"
    }
   ],
   "source": [
    "widgets.Textarea(placeholder='Your response here')"
   ]
  },
  {
   "cell_type": "markdown",
   "metadata": {},
   "source": [
    "###  Targeting Strategies\n",
    "\n",
    "In marketing, there are three general targeting strategies: \n",
    "- The **undifferentiated strategy** involves offering one product or message to the entire market, treating all consumers as having the same needs. This approach aims for mass appeal and broad reach, like Coca-Cola promoting its classic drink to everyone. \n",
    "- The **concentrated strategy** focuses on a single, specific market segment. This is a niche approach where a company directs all its efforts toward serving one group exceptionally well, such as Rolex targeting only high-end luxury watch buyers. \n",
    "- The **differentiated strategy** targets multiple segments of the market by tailoring different products or marketing messages for each group. This allows a company to connect with diverse customer needs—like how Nike markets uniquely to runners, basketball players, and casual sneaker fans.\n",
    "\n",
    "**Question 4.3:** Explain how each targeting strategy could be helpful or not helpful to Cluck & Co. Which targeting strategy would be most helpful to Cluck & Co.?"
   ]
  },
  {
   "cell_type": "code",
   "execution_count": 11,
   "metadata": {},
   "outputs": [
    {
     "data": {
      "application/vnd.jupyter.widget-view+json": {
       "model_id": "c43914278f68434699897da5ff1b8e93",
       "version_major": 2,
       "version_minor": 0
      },
      "text/plain": [
       "Textarea(value='', placeholder='Your response here')"
      ]
     },
     "execution_count": 11,
     "metadata": {},
     "output_type": "execute_result"
    }
   ],
   "source": [
    "widgets.Textarea(placeholder='Your response here')"
   ]
  },
  {
   "cell_type": "markdown",
   "metadata": {},
   "source": [
    "**Congratulations!!** You've successfully built out the marketing campaign for Cluck & Co."
   ]
  }
 ],
 "metadata": {
  "kernelspec": {
   "display_name": "venv",
   "language": "python",
   "name": "python3"
  },
  "language_info": {
   "codemirror_mode": {
    "name": "ipython",
    "version": 3
   },
   "file_extension": ".py",
   "mimetype": "text/x-python",
   "name": "python",
   "nbconvert_exporter": "python",
   "pygments_lexer": "ipython3",
   "version": "3.9.6"
  },
  "orig_nbformat": 4
 },
 "nbformat": 4,
 "nbformat_minor": 2
}
