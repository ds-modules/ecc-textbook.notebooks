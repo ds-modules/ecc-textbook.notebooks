{
 "cells": [
  {
   "cell_type": "markdown",
   "id": "3de7b5f6-bade-4ba8-bd3f-06fab6fc6601",
   "metadata": {},
   "source": [
    "# U.S. Small Business Association"
   ]
  },
  {
   "cell_type": "markdown",
   "id": "6f8bd69b-9323-4e3f-a951-f7153db1ee2b",
   "metadata": {},
   "source": [
    "**Estimated Time**: 60 Minutes <br>\n",
    "**Developers**: James Geronimo, Suparna Kompalli"
   ]
  },
  {
   "cell_type": "markdown",
   "id": "7a643ebe-0619-4475-8dcb-e8c29aa77d75",
   "metadata": {},
   "source": [
    "> Run the cell below before running any other code cells!"
   ]
  },
  {
   "cell_type": "code",
   "execution_count": null,
   "id": "ffeef4bc-23a0-4bc5-8871-b9cefbbfcaa7",
   "metadata": {},
   "outputs": [],
   "source": [
    "from utils import *"
   ]
  },
  {
   "cell_type": "markdown",
   "id": "04492205-9240-43a2-bb21-8bf1cd6dcdc3",
   "metadata": {},
   "source": [
    "### Table of Contents\n",
    "1. Background\n",
    "2. About the Data\n",
    "3. Inspecting the Data\n",
    "4. Top States by SBA-Approved Loan Amounts\n",
    "5. Top Cities by SBA-Approved Loan Amounts\n",
    "6. Top Industries by SBA-Approved Loan Amounts\n",
    "7. SBA Loan Counts and Proportions\n",
    "8. Spotlight on Los Angeles"
   ]
  },
  {
   "cell_type": "markdown",
   "id": "42b90923-e32d-46af-909a-52da9d828b77",
   "metadata": {},
   "source": [
    "---"
   ]
  },
  {
   "cell_type": "markdown",
   "id": "e2d569e4-b8bf-4b93-8dde-2e546d7e5ec8",
   "metadata": {},
   "source": [
    "## 1. Background\n",
    "\n",
    "Small businesses serve as a core component of innovation, employment, and community development in the United States. Since its founding in 1953, the **U.S. Small Business Administration (SBA)** has played a critical role in expanding access to capital by offering loan guarantees to small enterprises that may struggle to obtain funding through traditional credit markets.\n",
    "\n",
    "The importance of supporting small businesses goes beyond economics — it fosters entrepreneurship, reduces unemployment, and strengthens local economies. However, these loans are not without risk; defaults and charge-offs are also part of the picture, especially in volatile or highly competitive industries."
   ]
  },
  {
   "cell_type": "markdown",
   "id": "8fd466cf-71f5-4d83-ac12-da4c7a535d5d",
   "metadata": {},
   "source": [
    "**Question 1.1**: What small business(es) in your local community hold importance in your everyday life?"
   ]
  },
  {
   "cell_type": "markdown",
   "id": "2721b399-ce5a-4e32-a54c-2d3e6fc0bf4f",
   "metadata": {},
   "source": [
    "*Your Answer Here*"
   ]
  },
  {
   "cell_type": "markdown",
   "id": "4224dfe7-5a7a-4899-92aa-3bd4b7816fc7",
   "metadata": {},
   "source": [
    "**Question 1.2**: If you were to start your own small business, what would it specialize in and why?"
   ]
  },
  {
   "cell_type": "markdown",
   "id": "3ecb4aee-3057-444e-a02c-bb9b99271780",
   "metadata": {},
   "source": [
    "*Your Answer Here*"
   ]
  },
  {
   "cell_type": "markdown",
   "id": "663784c0-778e-4369-b9e5-62d7ea4062f7",
   "metadata": {},
   "source": [
    "---"
   ]
  },
  {
   "cell_type": "markdown",
   "id": "3ebc1de7-6c95-426f-a19c-a2e8cfdb83bb",
   "metadata": {},
   "source": [
    "## 2. About the Data\n",
    "\n",
    "In this notebook, we will analyze a comprehensive dataset from the SBA, originally sourced from Kaggle: \n",
    "\n",
    "> [Should This Loan Be Approved or Denied?](https://www.kaggle.com/datasets/mirbektoktogaraev/should-this-loan-be-approved-or-denied)\n",
    "\n",
    "The dataset contains **899,164 SBA loan records** and includes detailed information about:\n",
    "\n",
    "- Borrowers: business name, city, state, number of employees, franchise status\n",
    "- Financials: approved loan amount, disbursed funds, charged-off amount\n",
    "- Loan characteristics: approval year, loan term, revolving credit flag, LowDoc status\n",
    "- Industry codes: using the NAICS classification system\n",
    "- Job creation and retention estimates\n",
    "\n",
    "This dataset provides a comprehensive view into the **geographic, demographic, and financial dimensions** of small business lending in the U.S. It offers a unique opportunity to explore a variety of questions regarding SBA-backed funding, successful industries, and loan approval trends.\n",
    "\n",
    "Throughout this notebook, we will use **data visualizations, descriptive statistics**, and interactive tools to uncover insights about how and where SBA loans are distributed — and what that might say about the broader startup ecosystem.\n",
    "\n",
    "For further academic insight, see the associated article by Li, Mickel, and Taylor (2018):  \n",
    "\n",
    "> [\"Should This Loan Be Approved or Denied?\" A Large Dataset with Class Assignment Guidelines](https://www.tandfonline.com/doi/full/10.1080/10691898.2018.1434342)"
   ]
  },
  {
   "cell_type": "markdown",
   "id": "f212f42f-b009-464a-ac11-85b77e1dd0e8",
   "metadata": {},
   "source": [
    "**Question 2**: Skim through the introduction of the paper linked above. What was the main purpose for the construction of the SBA's dataset?"
   ]
  },
  {
   "cell_type": "markdown",
   "id": "ed3a2be7-beab-462a-b840-7c648be81056",
   "metadata": {},
   "source": [
    "*Your Answer Here*"
   ]
  },
  {
   "cell_type": "markdown",
   "id": "c558e66b-f6bc-418b-9bf9-939713e78476",
   "metadata": {},
   "source": [
    "---"
   ]
  },
  {
   "cell_type": "markdown",
   "id": "06728c9a-a507-4aca-9360-90e0d9951084",
   "metadata": {},
   "source": [
    "## 3. Inspecting the Data\n",
    "\n",
    "We begin by importing the SBA loan dataset and displaying a `DataFrame` in the cell below.\n",
    "\n",
    "To get a feel for the structure and contents of the dataset, we are showing the first 5 rows of the data in chunks of 9 columns at a time. This allows us to explore the **attributes associated with each loan**. For example, we can look into loan identifiers and business info, bank and loan approval information, and disbursement and financial data. Also, we've provided a data dictionary below:\n",
    "\n",
    "### Data Dictionary\n",
    "\n",
    "| Variable Name       | Description                                                                 |\n",
    "|---------------------|-----------------------------------------------------------------------------|\n",
    "| LoanNr_ChkDgt       | Identifier (Primary key)                                                    |\n",
    "| Name                | Borrower name                                                               |\n",
    "| City                | Borrower city                                                               |\n",
    "| State               | Borrower state                                                              |\n",
    "| Zip                 | Borrower zip code                                                           |\n",
    "| Bank                | Bank name                                                                   |\n",
    "| BankState           | Bank state                                                                  |\n",
    "| NAICS               | North American Industry Classification System code                          |\n",
    "| ApprovalDate        | Date SBA commitment was issued                                              |\n",
    "| ApprovalFY          | Fiscal year of SBA commitment                                               |\n",
    "| Term                | Loan term in months                                                         |\n",
    "| NoEmp               | Number of business employees                                                |\n",
    "| NewExist            | 1 = Existing business, 2 = New business                                     |\n",
    "| CreateJob           | Number of jobs created                                                      |\n",
    "| RetainedJob         | Number of jobs retained                                                     |\n",
    "| FranchiseCode       | Franchise code (00000 or 00001 = No franchise)                              |\n",
    "| UrbanRural          | 1 = Urban, 2 = Rural, 0 = Undefined                                         |\n",
    "| RevLineCr           | Revolving line of credit (Y = Yes, N = No)                                  |\n",
    "| LowDoc              | LowDoc Loan Program (Y = Yes, N = No)                                       |\n",
    "| ChgOffDate          | Date when the loan was charged off (defaulted)                              |\n",
    "| DisbursementDate    | Date when the loan was disbursed                                            |\n",
    "| DisbursementGross   | Amount disbursed                                                            |\n",
    "| BalanceGross        | Gross amount still outstanding                                              |\n",
    "| MIS_Status          | Loan status (`CHGOFF` = charged off, `PIF` = paid in full)                  |\n",
    "| ChgOffPrinGr        | Principal amount charged off                                                |\n",
    "| GrAppv              | Gross amount of loan approved by the bank                                   |\n",
    "| SBA_Appv            | SBA’s guaranteed portion of the approved loan                               |\n",
    "\n",
    "\n",
    "This initial inspection is important for identifying which columns will be most useful in answering questions about geographic, financial, and industry-based trends in startup funding."
   ]
  },
  {
   "cell_type": "code",
   "execution_count": null,
   "id": "bdbaf89c-681d-4544-adb1-3850d6dc25c2",
   "metadata": {},
   "outputs": [],
   "source": [
    "initial_inspection()"
   ]
  },
  {
   "cell_type": "markdown",
   "id": "b69bc5bc-8139-429a-aacf-736e7f5880e7",
   "metadata": {},
   "source": [
    "**Question 3**: How might using a data dictionary be useful when looking through our dataset?"
   ]
  },
  {
   "cell_type": "markdown",
   "id": "be432512-9b40-4b97-9ac3-4f3a1e705178",
   "metadata": {},
   "source": [
    "*Your Answer Here*"
   ]
  },
  {
   "cell_type": "markdown",
   "id": "22f9798f-ca80-401e-8a28-6cbcb45965ac",
   "metadata": {},
   "source": [
    "## 4. Top States by SBA-Approved Loan Amounts\n",
    "\n",
    "In this section, we investigate how SBA-approved funding is distributed geographically across U.S. states. Using a horizontal bar chart, we highlight the **top 15 states** by total approved loan volume.\n",
    "\n",
    "The visualization uses a **green color gradient** to emphasize differences in loan volume, making it easier to compare across states.\n",
    "\n",
    "This type of visualization helps reveal regional disparities in startup funding support. It also raises key analytical questions for further exploration:\n",
    "- Are these funding trends proportional to state population?\n",
    "- Do certain industries in these states receive preferential lending?\n",
    "- Could local economic development policies be influencing loan approvals?\n",
    "\n",
    "This sets the stage for deeper geographic or industry-specific analysis.\n"
   ]
  },
  {
   "cell_type": "code",
   "execution_count": null,
   "id": "aad1edee-86a0-47c1-8634-94d3b706d8a2",
   "metadata": {},
   "outputs": [],
   "source": [
    "top_states_by_amount()"
   ]
  },
  {
   "cell_type": "markdown",
   "id": "408689bc-86bf-447e-922f-d2471bc56290",
   "metadata": {},
   "source": [
    "**Question 4.1**: What are the top states in this plot? Why might this be the case?"
   ]
  },
  {
   "cell_type": "markdown",
   "id": "d4a96650-de11-41ff-897a-6f260f66f6ce",
   "metadata": {},
   "source": [
    "*Your Answer Here*"
   ]
  },
  {
   "cell_type": "markdown",
   "id": "3b0cfba2-b09f-4658-bea7-5ce491efd2f4",
   "metadata": {},
   "source": [
    "**Question 4.2**: What states did you expect to be higher (or lower) on this list?"
   ]
  },
  {
   "cell_type": "markdown",
   "id": "03be5f77-dde5-4e63-a4e1-5cae4204fd36",
   "metadata": {},
   "source": [
    "*Your Answer Here*"
   ]
  },
  {
   "cell_type": "markdown",
   "id": "dfecbc2f-9725-40f7-a18d-b46fb3103871",
   "metadata": {},
   "source": [
    "---"
   ]
  },
  {
   "cell_type": "markdown",
   "id": "dea0feeb-83e0-4570-b634-5c61f48d7906",
   "metadata": {},
   "source": [
    "## 5. Top Cities by SBA-Approved Loan Amount\n",
    "\n",
    "In this section, we drill down from states to individual cities to see where SBA-backed loans are most heavily concentrated. \n",
    "\n",
    "Down below, we plot the **top 20 cities** by total SBA-guaranteed approval amount, coloring bars by the state for additional geographic context."
   ]
  },
  {
   "cell_type": "code",
   "execution_count": null,
   "id": "b754ee6b-8d58-44d4-8867-c24d08362bbb",
   "metadata": {
    "scrolled": true
   },
   "outputs": [],
   "source": [
    "top_cities_by_amount()"
   ]
  },
  {
   "cell_type": "markdown",
   "id": "a786ab3d-b22b-4df9-ab33-a0de7ede2458",
   "metadata": {},
   "source": [
    "**Question 5.1**: Which three cities top this chart, and what factors (industry makeup, population, policies) might explain their high SBA-approved volumes?"
   ]
  },
  {
   "cell_type": "markdown",
   "id": "ed707789-4784-4402-8ecc-6524972366a4",
   "metadata": {},
   "source": [
    "*Your Answer Here*"
   ]
  },
  {
   "cell_type": "markdown",
   "id": "542458b7-d4df-4860-b6c1-412ea890b8bf",
   "metadata": {},
   "source": [
    "**Question 5.2**: Do any states appear more than once among the top 20 cities? What might that tell you about how SBA funding is distributed within those states?"
   ]
  },
  {
   "cell_type": "markdown",
   "id": "f4a0f705-f6eb-4395-bf3e-a664744ad8ad",
   "metadata": {},
   "source": [
    "*Your Answer Here*"
   ]
  },
  {
   "cell_type": "markdown",
   "id": "5f866654-1a83-4841-8e04-097c8ee5b50f",
   "metadata": {},
   "source": [
    "**Question 5.3**: How does the city-level picture compare to the state-level chart from Section 4? Do the same places dominate, or do we see different hotspots emerge?"
   ]
  },
  {
   "cell_type": "markdown",
   "id": "560172d2-eef9-4d0e-bae0-6d05438ab454",
   "metadata": {},
   "source": [
    "*Your Answer Here*"
   ]
  },
  {
   "cell_type": "markdown",
   "id": "8ef28a99-0ae8-4719-91ea-b8e0cee4a702",
   "metadata": {},
   "source": [
    "---"
   ]
  },
  {
   "cell_type": "markdown",
   "id": "d2891d42-a33e-4809-bbf9-06a6d650b9ed",
   "metadata": {},
   "source": [
    "## 6. Top Industries by SBA-Approved Loan Amount\n",
    "\n",
    "Having examined SBA-approved funding across **geography** (states in Section 4, cities in Section 5), we now turn to the **industry-level** to understand which economic sectors receive the most support. By grouping North American Industry Classification System (NAICS) codes by their first two digits, we aggregate individual industries into broader sectors (e.g., “72” = Accommodation & Food Services, “44” = Retail Trade). This enables us to compare sectors on a level playing field and uncover where SBA guarantees are most heavily concentrated.\n",
    "\n",
    "Below, we have provided the **NAICS Sector Descriptions** table for you to reference the codes with their corresponding industries."
   ]
  },
  {
   "cell_type": "markdown",
   "id": "a33ba4c4-9ce1-4faf-bc74-ee2bb2728dec",
   "metadata": {},
   "source": [
    "| NAICS Code | Sector Description                                                               |\n",
    "|------------|-----------------------------------------------------------------------------------|\n",
    "| 11         | Agriculture, forestry, fishing and hunting                                       |\n",
    "| 21         | Mining, quarrying, and oil and gas extraction                                    |\n",
    "| 22         | Utilities                                                                         |\n",
    "| 23         | Construction                                                                      |\n",
    "| 31–33      | Manufacturing                                                                     |\n",
    "| 42         | Wholesale trade                                                                   |\n",
    "| 44–45      | Retail trade                                                                      |\n",
    "| 48–49      | Transportation and warehousing                                                    |\n",
    "| 51         | Information                                                                       |\n",
    "| 52         | Finance and insurance                                                             |\n",
    "| 53         | Real estate and rental and leasing                                                |\n",
    "| 54         | Professional, scientific, and technical services                                  |\n",
    "| 55         | Management of companies and enterprises                                           |\n",
    "| 56         | Administrative and support and waste management and remediation services         |\n",
    "| 61         | Educational services                                                              |\n",
    "| 62         | Health care and social assistance                                                 |\n",
    "| 71         | Arts, entertainment, and recreation                                               |\n",
    "| 72         | Accommodation and food services                                                   |\n",
    "| 81         | Other services (except public administration)                                     |\n",
    "| 92         | Public administration                                                             |\n"
   ]
  },
  {
   "cell_type": "markdown",
   "id": "d4f0c0c5-a497-4714-8667-5097e01862b7",
   "metadata": {},
   "source": [
    "The chart generated below presents a horizontal bar plot of total SBA-approved loan amounts by NAICS sector code. The length and color intensity of each bar correspond to the scale of funding. These insights can help highlight sectoral priorities in small business financing, inform risk assessments, and guide entrepreneurs toward areas with robust SBA backing.\n"
   ]
  },
  {
   "cell_type": "code",
   "execution_count": null,
   "id": "a2fa8996-5fea-40dc-9617-867efee66398",
   "metadata": {
    "scrolled": true
   },
   "outputs": [],
   "source": [
    "top_industries_by_amount()"
   ]
  },
  {
   "cell_type": "markdown",
   "id": "ac07a61c-7585-4aff-ac6d-78ea5ffd4f20",
   "metadata": {},
   "source": [
    "**Question 6.1**: Which NAICS sector tops this chart, and why might it receive such high SBA support?"
   ]
  },
  {
   "cell_type": "markdown",
   "id": "bf9dbc23-9c0b-440b-9f9c-cf6646a2a00d",
   "metadata": {},
   "source": [
    "*Your Answer Here*"
   ]
  },
  {
   "cell_type": "markdown",
   "id": "39ef0f1d-7ecf-4c3a-8497-aab4a070d236",
   "metadata": {},
   "source": [
    "**Question 6.2**: Do any sectors surprise you with unexpectedly high or low funding levels? What factors might explain these outliers?  "
   ]
  },
  {
   "cell_type": "markdown",
   "id": "d0421730-5562-432b-b773-97ce9da5f1d8",
   "metadata": {},
   "source": [
    "*Your Answer Here*"
   ]
  },
  {
   "cell_type": "markdown",
   "id": "e65a0abf-c0fe-441a-b38f-88f9b3d50395",
   "metadata": {},
   "source": [
    "**Question 6.3**: How do the industry-level patterns compare to the geographic trends we saw earlier? Are certain sectors clustered in particular states or cities? "
   ]
  },
  {
   "cell_type": "markdown",
   "id": "323b2bfd-b184-45bf-82e1-e69a346a9a65",
   "metadata": {},
   "source": [
    "*Your Answer Here*"
   ]
  },
  {
   "cell_type": "markdown",
   "id": "7bbd745a-eb72-4d5d-8299-c72d4bc2f177",
   "metadata": {},
   "source": [
    "---"
   ]
  },
  {
   "cell_type": "markdown",
   "id": "b8682b54-feb7-450d-9b97-06c69f4f7fc8",
   "metadata": {},
   "source": [
    "## 7. SBA Loan Counts and Proportions\n",
    "\n",
    "Up to now, we’ve focused on **total dollar‐value metrics**—total SBA-approved amounts by state, city, and industry. In this section, we examine two complementary views of SBA activity:\n",
    "\n",
    "1. **Loan Count per State**: Shows the total number of SBA loans issued in each state, highlighting where the SBA is most active.\n",
    "2. **Average SBA-Approved Amount per Loan**: Calculates the mean guaranteed loan amount per loan for each state, revealing where individual loans tend to be larger or smaller.\n",
    "\n",
    "By comparing these two [choropleth](https://en.wikipedia.org/wiki/Choropleth_map) maps, we can see whether states with high loan volume also have high average loan sizes, or other trends are present."
   ]
  },
  {
   "cell_type": "code",
   "execution_count": null,
   "id": "c5f6cd92-7f16-4e17-a495-9f65fb48aac4",
   "metadata": {},
   "outputs": [],
   "source": [
    "loan_count_per_state()"
   ]
  },
  {
   "cell_type": "code",
   "execution_count": null,
   "id": "19190bef-d4b8-4246-859d-435af5a89f5e",
   "metadata": {},
   "outputs": [],
   "source": [
    "avg_amount_per_loan_by_state()"
   ]
  },
  {
   "cell_type": "markdown",
   "id": "2385edee-9688-415f-9697-d5c5290b6726",
   "metadata": {},
   "source": [
    "**Question 7.1**: Which states have the highest loan counts, and do they also exhibit high average loan amounts? Does this differ from what we saw in Section 4?"
   ]
  },
  {
   "cell_type": "markdown",
   "id": "79831d72-e506-4c9b-b278-c549badf0e83",
   "metadata": {},
   "source": [
    "*Your Answer Here*"
   ]
  },
  {
   "cell_type": "markdown",
   "id": "c3ce4974-75f6-4787-b696-03f7b3a9f65b",
   "metadata": {},
   "source": [
    "**Question 7.2**: Identify any states with a high number of loans but a low average loan size (or vice versa). What might this indicate about small-business lending patterns in those states?"
   ]
  },
  {
   "cell_type": "markdown",
   "id": "fd2a185f-59c4-4e1b-a5d7-0cf274ada379",
   "metadata": {},
   "source": [
    "*Your Answer Here*"
   ]
  },
  {
   "cell_type": "markdown",
   "id": "2145d064-6c6c-4cc9-b7d7-bcb333e4bcbb",
   "metadata": {},
   "source": [
    "## 8. Spotlight on Los Angeles\n",
    "\n",
    "In this section, we zero in on **Los Angeles, CA**, one of the country’s largest and most diverse startup ecosystems. First, we filter all SBA loans to those issued in Los Angeles and compute a concise **summary table** showing:\n",
    "- **Total number of loans** backed by the SBA  \n",
    "- **Total and average SBA-guaranteed amount** per loan  \n",
    "- **Total jobs created** and **retained** by these businesses  \n",
    "\n",
    "Next, we parse through the approval dates and plot a **year-over-year line chart** of total SBA-approved dollars, revealing how funding in LA has evolved over time."
   ]
  },
  {
   "cell_type": "code",
   "execution_count": null,
   "id": "1d868005-71f5-4b9e-bd49-894881a26391",
   "metadata": {},
   "outputs": [],
   "source": [
    "los_angeles_summary()"
   ]
  },
  {
   "cell_type": "code",
   "execution_count": null,
   "id": "c681189f-bb19-44cd-ac31-a9232598fa0a",
   "metadata": {},
   "outputs": [],
   "source": [
    "annual_sba_approved_amount_la()"
   ]
  },
  {
   "cell_type": "markdown",
   "id": "18b4d3af-daa6-4d5c-8a0c-7d394c3c8b17",
   "metadata": {},
   "source": [
    "**Question 8.1**: Based on the summary table, which metric surprised you most, and what might explain that result in the context of LA’s economy?  "
   ]
  },
  {
   "cell_type": "markdown",
   "id": "85895a96-6e25-4aa6-b275-4dbf84cd33c5",
   "metadata": {},
   "source": [
    "*Your Answer Here*"
   ]
  },
  {
   "cell_type": "markdown",
   "id": "462c3f5e-cdbf-41d2-9561-2de572aa8154",
   "metadata": {},
   "source": [
    "**Question 8.2**: Examine the annual line chart—identify any sharp increases or declines. What local or national events (like policy changes or economic events) could correlate with those inflection points?  "
   ]
  },
  {
   "cell_type": "markdown",
   "id": "85e40349-a7b2-465c-9c3e-09a411548e2b",
   "metadata": {},
   "source": [
    "*Your Answer Here*"
   ]
  },
  {
   "cell_type": "markdown",
   "id": "84a3ab93-662f-4e86-9e71-2f02b8d9e258",
   "metadata": {},
   "source": [
    "---"
   ]
  },
  {
   "cell_type": "markdown",
   "id": "a324b570-73be-447a-b0de-8e48ab5981aa",
   "metadata": {},
   "source": [
    "### ✅ Congrats! You've completed the SBA loan exploration notebook! 🎉"
   ]
  }
 ],
 "metadata": {
  "kernelspec": {
   "display_name": "Python 3",
   "language": "python",
   "name": "python3"
  },
  "language_info": {
   "codemirror_mode": {
    "name": "ipython",
    "version": 3
   },
   "file_extension": ".py",
   "mimetype": "text/x-python",
   "name": "python",
   "nbconvert_exporter": "python",
   "pygments_lexer": "ipython3",
   "version": "3.12.7"
  }
 },
 "nbformat": 4,
 "nbformat_minor": 5
}
