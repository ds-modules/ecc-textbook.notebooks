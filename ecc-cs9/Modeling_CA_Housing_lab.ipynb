{
  "nbformat": 4,
  "nbformat_minor": 0,
  "metadata": {
    "colab": {
      "provenance": []
    },
    "kernelspec": {
      "name": "python3",
      "display_name": "Python 3"
    },
    "language_info": {
      "name": "python"
    }
  },
  "cells": [
    {
      "cell_type": "markdown",
      "source": [
        "# Lab: Linear Regression Modeling and Sklearn\n",
        "\n",
        "In this lab, we will walk through the process of:\n",
        "1. Use Linear Regression for numerical prediction tasks, such as estimating housing prices. Understand Linear Regression as a supervised learning approach and discuss why it is an appropriate choice for this task.\n",
        "2. Define and understand the loss and risk functions associated with Linear Regression, focusing on Root Mean Squared Error (RMSE).\n",
        "3. Begin with a constant model as a baseline, then introduce a simple linear model using `scikit-learn` package. Interpret the coefficients and compare the performance of these two models. Progress to multiple linear regression. Compare all three models, discussing training and test errors, and make observations on model performance. Introduce and explain concepts of underfitting and overfitting.\n",
        "4. Experiment with feature selection and document your observations.\n"
      ],
      "metadata": {
        "id": "jHf3y_y3wLxa"
      }
    },
    {
      "cell_type": "code",
      "source": [
        "# Run this cell to import important packages for this lab\n",
        "import numpy as np\n",
        "import pandas as pd\n",
        "import matplotlib.pyplot as plt\n",
        "import seaborn as sns\n",
        "\n",
        "import plotly.express as px\n",
        "import plotly.graph_objects as go"
      ],
      "metadata": {
        "id": "Rx-CFAp6ZOaN"
      },
      "execution_count": null,
      "outputs": []
    },
    {
      "cell_type": "markdown",
      "source": [
        "-------------------------------------------\n",
        "## 1. Introduction\n",
        "For this lab, we will use a toy dataset to predict housing prices in California with data provided by `sklearn.datasets` package. There are more interesting datasets in the package if you want to explore them during your free time!"
      ],
      "metadata": {
        "id": "PJS5mj5IE3UQ"
      }
    },
    {
      "cell_type": "markdown",
      "source": [
        "Run the following cell to load data."
      ],
      "metadata": {
        "id": "tmr7DhISFkWz"
      }
    },
    {
      "cell_type": "code",
      "source": [
        "# Run this cell\n",
        "from sklearn.datasets import fetch_california_housing\n",
        "california_housing = fetch_california_housing(as_frame=True)"
      ],
      "metadata": {
        "id": "WIDyXosteKnM"
      },
      "execution_count": null,
      "outputs": []
    },
    {
      "cell_type": "markdown",
      "source": [
        "Some methods we can use to explore this dataset:\n",
        "- `data`: The independent variables/features (X)\n",
        "- `target`: the response vector (Y)\n",
        "- `feature_names`: The column names\n",
        "- `DESCR`: A full description of the data, and\n",
        "- `frame`: full DataFrame with `data` and `target`\n",
        "\n",
        "For more information, refer to this [document](https://scikit-learn.org/1.0/modules/generated/sklearn.datasets.fetch_california_housing.html#sklearn.datasets.fetch_california_housing)"
      ],
      "metadata": {
        "id": "hkmnaHB8Gkel"
      }
    },
    {
      "cell_type": "markdown",
      "source": [
        "Now, we use `DESCR` method to undertand what each columns represents. Run the cell below."
      ],
      "metadata": {
        "id": "1heT3rFMH6w9"
      }
    },
    {
      "cell_type": "code",
      "source": [
        "# Run this cell\n",
        "print(california_housing.DESCR)"
      ],
      "metadata": {
        "id": "RlMNKP8KGiSM"
      },
      "execution_count": null,
      "outputs": []
    },
    {
      "cell_type": "markdown",
      "source": [
        "**Question**: What is the granularity of this dataset? Specifically, what does each row represent?"
      ],
      "metadata": {
        "id": "rqus_k8rz4d5"
      }
    },
    {
      "cell_type": "markdown",
      "source": [
        "*Type your answer here, replacing this text.*"
      ],
      "metadata": {
        "id": "egUWk8PWPK6K"
      }
    },
    {
      "cell_type": "markdown",
      "source": [
        "Let's store our full DataFrame as `california_housing`"
      ],
      "metadata": {
        "id": "FCS1hGoZIcud"
      }
    },
    {
      "cell_type": "code",
      "source": [
        "# Run this cell\n",
        "california_housing = california_housing.frame\n",
        "california_housing.head()"
      ],
      "metadata": {
        "id": "heqB5DOjeSDv"
      },
      "execution_count": null,
      "outputs": []
    },
    {
      "cell_type": "markdown",
      "source": [
        "**Question**:\n",
        "What is the target variable we aim to predict? What are the input features? Identify at least two features that you believe would be useful for this prediction task, and explain why they would add value."
      ],
      "metadata": {
        "id": "TeHvyw-gLeZc"
      }
    },
    {
      "cell_type": "markdown",
      "source": [
        "*Type your answer here, replacing this text.*"
      ],
      "metadata": {
        "id": "N693weYTPNlm"
      }
    },
    {
      "cell_type": "markdown",
      "source": [
        "------------------------------------------------------------\n",
        "### 2. Data Overview\n",
        "First, we have to understand what our data look like before picking a model."
      ],
      "metadata": {
        "id": "ECNm8I1aVnr4"
      }
    },
    {
      "cell_type": "markdown",
      "source": [
        "**Question 2**:\n",
        "Fill in '...' below in the cell to plot the histogram of the response variable (Y), which is `MedHouseVal`. You can either use `seaborn` or `matplotlib.pyplot` package. Make sure to have a clear title and labels for each axis"
      ],
      "metadata": {
        "id": "8ydzl0XOXjXR"
      }
    },
    {
      "cell_type": "code",
      "source": [
        "# TO-DO: Plot the histogram of MedHouseVal\n",
        "# Plot the distribution of response variable\n",
        "..."
      ],
      "metadata": {
        "id": "LqCkyFbhYGC7"
      },
      "execution_count": null,
      "outputs": []
    },
    {
      "cell_type": "markdown",
      "source": [
        "**Question 3**: To add more information, fill in the code below to produce statistical summary for the response variable."
      ],
      "metadata": {
        "id": "o8-uS3m5YTma"
      }
    },
    {
      "cell_type": "code",
      "source": [
        "# TO-DO: Produce statistical summary for MedHouseVal\n",
        "# Hint: using a pandas function on a column of `california_housing` DataFrame.\n",
        "# Can you think of which column and which function to use?\n",
        "statistical_summary = california_housing[...]...\n",
        "statistical_summary"
      ],
      "metadata": {
        "id": "Q9XZiwmKYinP"
      },
      "execution_count": null,
      "outputs": []
    },
    {
      "cell_type": "markdown",
      "source": [
        "**Question 4**: After reviewing the statistical summary and the histogram, what patterns or trends do you notice? Do you observe any unusual or unexpected values?\""
      ],
      "metadata": {
        "id": "qfgqgvpYZOJI"
      }
    },
    {
      "cell_type": "markdown",
      "source": [
        "*Type your answer here, replacing this text.*"
      ],
      "metadata": {
        "id": "kz6WjYFePQmi"
      }
    },
    {
      "cell_type": "markdown",
      "source": [
        "**Question 5**: Create a visualization of the distribution for one of the features in the dataset. What do you observe about the distribution of this variable?"
      ],
      "metadata": {
        "id": "mF56uwBVaz_L"
      }
    },
    {
      "cell_type": "code",
      "source": [
        "# TO-DO: Visualize a distribution of another variable\n",
        "..."
      ],
      "metadata": {
        "id": "aCgzez4cbS4G"
      },
      "execution_count": null,
      "outputs": []
    },
    {
      "cell_type": "markdown",
      "source": [
        "-------------------------------------------------------------------\n",
        "### 3. Modeling Process\n",
        "As a reminder, when we're building a model, there are a few key steps we follow to ensure it makes reliable predictions. Here is the process:\n",
        "- Define a model\n",
        "- Choose a loss function and calculate the average loss (risk) on our dataset\n",
        "- Find the best value of $\\theta$, known as $\\hat{\\theta}$, that minimizes the loss. There can be multiple such $\\theta$ values (not covered in this lab).\n",
        "- Evaluate the model performance\n"
      ],
      "metadata": {
        "id": "D0ugxv7a2ze8"
      }
    },
    {
      "cell_type": "markdown",
      "source": [
        "#### Define a Model\n",
        "In this lab, we'll use Linear Regression to predict the median house value for California districts. Linear Regression is a suitable choice because it’s a powerful, interpretable method for modeling relationships between variables, especially when our goal is to predict a continuous numeric outcome, like housing prices. It allows us to see how each factor, such as median income or average number of rooms, contributes to the target prediction.\n",
        "\n",
        "The general form of a Linear Regression model can be written as:\n",
        "\n",
        "$$\n",
        "y = \\theta_0 + \\theta_1 x_1 + \\theta_2 x_2 + \\dots + \\theta_n x_n\n",
        "$$\n",
        "\n",
        "where:\n",
        "- $ y $ is the target variable (in this case, median house value),\n",
        "- $ \\theta_0 $ is the intercept,\n",
        "- $ \\theta_1, \\theta_2, \\dots, \\theta_n $ are the coefficients for each predictor variable $ x_1, x_2, \\dots, x_n $,\n",
        "\n",
        "\n"
      ],
      "metadata": {
        "id": "RqwITS5gV1a9"
      }
    },
    {
      "cell_type": "markdown",
      "source": [
        "Before building our models, we’ll split our dataset into a training set and a test set. For the first half of the lab, we’ll focus on the training set to train our model and evaluate its risk (or error)."
      ],
      "metadata": {
        "id": "mLpPhQgw15Y4"
      }
    },
    {
      "cell_type": "code",
      "source": [
        "# Run this cell; no TO-DO\n",
        "# Spliting train and test\n",
        "from sklearn.model_selection import train_test_split\n",
        "train, test = train_test_split(california_housing, test_size=0.2, random_state=42)"
      ],
      "metadata": {
        "id": "HfPPivE0qQwn"
      },
      "execution_count": null,
      "outputs": []
    },
    {
      "cell_type": "markdown",
      "source": [
        "#### Choose Risk Function and Evaluate Model Performance\n",
        "The next step is to define our risk function, which represents the average loss over all data points in our dataset. For Linear Regression, we typically use Root Mean Squared Error (RMSE) as the loss function, which provides a measure of the model's prediction error in the same units as the target variable.\n",
        "\n",
        "In mathematical terms, the RMSE can be written as:\n",
        "\n",
        "$$\n",
        "\\text{RMSE} = \\sqrt{\\frac{1}{N} \\sum_{i=1}^{N} (y_i - \\hat{y}_i)^2}\n",
        "$$\n",
        "\n",
        "where:\n",
        "- $ N $ is the number of data points,\n",
        "- $ y_i $ is the actual value of the target variable for the $ i $-th data point,\n",
        "- $ \\hat{y}_i $ is the predicted value for the $ i $-th data point.\n",
        "\n",
        "This function helps us quantify the average difference between predicted and actual values, making it a useful metric to assess the accuracy of our Linear Regression model.\n",
        "\n",
        "\n",
        "\n",
        "\n"
      ],
      "metadata": {
        "id": "mVT7jCNyWBFl"
      }
    },
    {
      "cell_type": "markdown",
      "source": [
        "**Question**: Write a Python function to calculate the Root Mean Squared Error (RMSE), which takes y_true (actual values) and y_pred (predicted values) as inputs and returns a single RMSE value.\n",
        "\n",
        "*Hint: Use a numpy function on arrays for efficient computation instead of a for loop.*"
      ],
      "metadata": {
        "id": "fh1-853cqUbt"
      }
    },
    {
      "cell_type": "code",
      "source": [
        "def rmse(y_true, y_pred):\n",
        "  \"\"\"\n",
        "  Calculate the Root Mean Squared Error (RMSE) between actual and predicted values.\n",
        "\n",
        "  Parameters:\n",
        "  y_true (array-like): Actual values.\n",
        "  y_pred (array-like): Predicted values.\n",
        "\n",
        "  Returns:\n",
        "  float: The RMSE value, representing the average deviation of predictions from actual values.\n",
        "  \"\"\"\n",
        "  return ..."
      ],
      "metadata": {
        "id": "7mTtN8VSqh_S"
      },
      "execution_count": null,
      "outputs": []
    },
    {
      "cell_type": "markdown",
      "source": [
        "##### 1. Constant Model: $y = \\theta_0$"
      ],
      "metadata": {
        "id": "u2Q97Q0Nqocl"
      }
    },
    {
      "cell_type": "markdown",
      "source": [
        "We start with the simplest model, called the constant model, which predicts the same value for every data point. In this case, we use the average `MedHouseVal` as our prediction. Why? Because using the average as a baseline provides a simple reference point, giving us a measure of overall central tendency. This helps us understand how much our more complex models improve over simply guessing the average value for all predictions."
      ],
      "metadata": {
        "id": "jzi3cn7n38AU"
      }
    },
    {
      "cell_type": "markdown",
      "source": [
        "**Question**: store this constant model to variable `constant_model`. Make sure to use `train` data to take average on column `MedHouseVal`"
      ],
      "metadata": {
        "id": "Qn2znjG4q5M8"
      }
    },
    {
      "cell_type": "code",
      "source": [
        "# TO-DO: calculate average `MedHouseVal`\n",
        "constant_model = train[...]...\n",
        "constant_model"
      ],
      "metadata": {
        "id": "fuWBus6wrF7R"
      },
      "execution_count": null,
      "outputs": []
    },
    {
      "cell_type": "markdown",
      "source": [
        "Next, we’ll visualize the constant model alongside our training data. This will help us see how well the average value represents the data and serves as a baseline for comparison with more complex models.\n",
        "\n",
        "\n"
      ],
      "metadata": {
        "id": "B6AVh-dFtAKV"
      }
    },
    {
      "cell_type": "code",
      "source": [
        "# Run this cell; no TO-DO\n",
        "# Run this cell; no TO-DO\n",
        "fig = go.Figure()\n",
        "fig.add_trace(go.Scatter(\n",
        "    x=train[\"MedInc\"],\n",
        "    y=train[\"MedHouseVal\"],\n",
        "    mode=\"markers\",\n",
        "    name=\"data\"\n",
        "))\n",
        "fig.add_trace(go.Scatter(\n",
        "    x=train[\"MedInc\"],\n",
        "    y=constant_model*np.ones(len(train)),\n",
        "    mode=\"lines\",\n",
        "    name=\"constant model\"\n",
        "))"
      ],
      "metadata": {
        "id": "rPH63rjItUTQ"
      },
      "execution_count": null,
      "outputs": []
    },
    {
      "cell_type": "markdown",
      "source": [
        "**Question**: Use your `rmse` function to calculate the risk (RMSE) of our constant model on the training data.\n",
        "\n",
        "*Hint: Pass the actual values of `MedHouseVal` in the `train` data and the constant model value to your `rmse` function.*"
      ],
      "metadata": {
        "id": "lkTyFvmztWUb"
      }
    },
    {
      "cell_type": "code",
      "source": [
        "# TODO: Calculate RSME of our constant model on the training data\n",
        "rmse_dict = {}\n",
        "rmse_dict[\"constant\"] = rmse(train[...], ...)\n",
        "rmse_dict"
      ],
      "metadata": {
        "id": "wR6OmlwZrM8S"
      },
      "execution_count": null,
      "outputs": []
    },
    {
      "cell_type": "markdown",
      "source": [
        "##### 2. Simple Model Using Median Income\n",
        "\n",
        "In this step, we’ll build a simple linear model that predicts `MedHouseVal` (median house value) based on `MedInc` (median income) in the dataset. This model has the form:\n",
        "\n",
        "$$\n",
        "y = \\theta_0 + \\theta_1 \\cdot \\text{MedInc}\n",
        "$$\n",
        "\n",
        "where:\n",
        "- $y$ is the predicted median house value,\n",
        "- $\\theta_0$ is the intercept (a constant term),\n",
        "- $\\theta_1$ is the coefficient for `MedInc`, representing the effect of median income on the predicted house value.\n",
        "\n",
        "This approach allows us to examine how well a single feature (median income) explains variations in house value. By fitting this model, we can see if there’s a strong linear relationship between income and house prices in the data.\n"
      ],
      "metadata": {
        "id": "VfNarvJBrain"
      }
    },
    {
      "cell_type": "code",
      "source": [
        "# Run this celll; no TO-DO\n",
        "# Scatter plot between `MeHouseVal` and `MedInc`\n",
        "sns.scatterplot(data=train, x=\"MedInc\", y=\"MedHouseVal\")\n",
        "plt.title(\"Median Income vs. Median House Value\")\n",
        "plt.xlabel(\"Median Income\")\n",
        "plt.ylabel(\"Median House Value\")\n",
        "plt.show()"
      ],
      "metadata": {
        "id": "IIFLQtaV9DAo"
      },
      "execution_count": null,
      "outputs": []
    },
    {
      "cell_type": "markdown",
      "source": [
        "Next, we will use `sklearn` to build our Linear Regression."
      ],
      "metadata": {
        "id": "aQ1MX-zy9gZx"
      }
    },
    {
      "cell_type": "markdown",
      "source": [
        "###### Introduction to sklearn\n",
        "\n",
        "To fit a linear regression model, we will use `sklearn`, an industry-standard package for machine learning applications. Because it is application-specific, `sklearn` is often faster and more robust than the analytical methods. Note that `scikit-learn` and `sklearn` refers to the same package, but it can only be imported under the name `sklearn`.\n",
        "\n",
        "To use `sklearn`:\n",
        "\n",
        "- Create an `sklearn` object.\n",
        "- Fit the object to data.\n",
        "- Analyze fit or call `predict`.\n"
      ],
      "metadata": {
        "id": "dWC2L43Jd6rb"
      }
    },
    {
      "cell_type": "markdown",
      "source": [
        "**1. Create object.**\n",
        "\n",
        "We first create a LinearRegression object. Here's the sklearn [documentation.](https://scikit-learn.org/stable/modules/generated/sklearn.linear_model.LinearRegression.html) Note that by default, the object will include an intercept term when fitting.\n",
        "\n",
        "Here, model is like a \"blank slate\" for a linear model."
      ],
      "metadata": {
        "id": "My2wyGqOeBaP"
      }
    },
    {
      "cell_type": "code",
      "source": [
        "# Run this cell, no TO DO\n",
        "# Create LinearRegression object\n",
        "from sklearn.linear_model import LinearRegression\n",
        "simple_model = LinearRegression()"
      ],
      "metadata": {
        "id": "veX5oRo0svSV"
      },
      "execution_count": null,
      "outputs": []
    },
    {
      "cell_type": "markdown",
      "source": [
        "**2. Fit the object to data.**\n",
        "\n",
        "Now, we need to tell model to \"fit\" itself to the data. Essentially, it creates a risk function and finds the parameter(s) that minimize that risk.\n",
        "\n",
        "Note: X needs to be a matrix (or DataFrame), as opposed to a single array (or Series) when running `model.fit`. This is because `sklearn.linear_model` is robust enough to be used for multiple regression, which we will look at later in this lab. This is why we use the double square brackets around `MedInc` when passing in the argument for X."
      ],
      "metadata": {
        "id": "Wy-mllFgeXQQ"
      }
    },
    {
      "cell_type": "code",
      "source": [
        "# Run this cell; no TO DO\n",
        "# Fit the object to data\n",
        "simple_model.fit(train[[\"MedInc\"]], train[\"MedHouseVal\"])"
      ],
      "metadata": {
        "id": "7fDaO-0MegFg"
      },
      "execution_count": null,
      "outputs": []
    },
    {
      "cell_type": "markdown",
      "source": [
        "**3. Analyze fit.**\n",
        "\n",
        "Now that the model exists, we can look at the intercept and coeffients of the model."
      ],
      "metadata": {
        "id": "osVhle2Yegfd"
      }
    },
    {
      "cell_type": "code",
      "source": [
        "# Intepret the model by looking at intercept and coefficient\n",
        "simple_model.intercept_, simple_model.coef_"
      ],
      "metadata": {
        "id": "c2cY28AIfHk-"
      },
      "execution_count": null,
      "outputs": []
    },
    {
      "cell_type": "markdown",
      "source": [
        "**Question**: What does coefficient mean? Fill in the blank\n",
        "\n",
        "\"As the value of MedInc _________ *(increases/decreases)* by one unit, the predicted MedHouseVal ___________ *(increases/decreases)* by approximately ________ units. This coefficient suggests a ________*(positive/negative)* relationship between median income and median house value.\""
      ],
      "metadata": {
        "id": "LhqyKel9_AWT"
      }
    },
    {
      "cell_type": "markdown",
      "source": [
        "*Type your answer here, replacing this text.*"
      ],
      "metadata": {
        "id": "r_wtC0MZPW5l"
      }
    },
    {
      "cell_type": "markdown",
      "source": [
        "To use the sklearn linear regression model to make predictions, you can use the model.predict method."
      ],
      "metadata": {
        "id": "5WLbBsrUfH-X"
      }
    },
    {
      "cell_type": "code",
      "source": [
        "# Run this cell, no TO-DO\n",
        "# Store our predctions for `MedHouseVal` on train data using `simple_model`\n",
        "simple_predicted_train = simple_model.predict(train[[\"MedInc\"]])"
      ],
      "metadata": {
        "id": "uw7Lx_VIscju"
      },
      "execution_count": null,
      "outputs": []
    },
    {
      "cell_type": "markdown",
      "source": [
        "Let's visualize our predictions using simple model on training data"
      ],
      "metadata": {
        "id": "shzHtAc4Bojx"
      }
    },
    {
      "cell_type": "code",
      "source": [
        "# Run this cell; no TO-DO\n",
        "fig.add_trace(go.Scatter(\n",
        "    x=train[\"MedInc\"],\n",
        "    y=simple_predicted_train,\n",
        "    mode=\"lines\",\n",
        "    name=\"simple model\"\n",
        "))\n",
        "fig.update_layout(\n",
        "    xaxis_title=\"MedInc\",\n",
        "    yaxis_title=\"MedHouseVal\"\n",
        "\n",
        ")"
      ],
      "metadata": {
        "id": "FLbe7fzeBmy7"
      },
      "execution_count": null,
      "outputs": []
    },
    {
      "cell_type": "markdown",
      "source": [
        "**Question**: Caldulate RMSE for our simple model on `train` data"
      ],
      "metadata": {
        "id": "7H-G9sCRB8Mn"
      }
    },
    {
      "cell_type": "code",
      "source": [
        "# TO-DO: Caldulate RMSE for our simple model on `train` data\n",
        "rmse_dict[\"simple\"] = rmse(train[...],...)"
      ],
      "metadata": {
        "id": "6oOk7U4Eu3Rp"
      },
      "execution_count": null,
      "outputs": []
    },
    {
      "cell_type": "code",
      "source": [
        "# Run this cell; no TO-DO\n",
        "# Compare two models\n",
        "rmse_dict"
      ],
      "metadata": {
        "id": "0KIkYMOCvBgc"
      },
      "execution_count": null,
      "outputs": []
    },
    {
      "cell_type": "markdown",
      "source": [
        "**Question**: Compare the errors between the constant model and the simple model. Note that these are the errors calculated on our training data, commonly referred to as training errors. What differences do you observe between the two models’ training errors, and what might these differences indicate about each model's performance?"
      ],
      "metadata": {
        "id": "zaeghgoRvF-c"
      }
    },
    {
      "cell_type": "markdown",
      "source": [
        "*Type your answer here, replacing this text.*"
      ],
      "metadata": {
        "id": "pSGxDysCPY5e"
      }
    },
    {
      "cell_type": "markdown",
      "source": [
        "#### 3. Multiple Linear Regression with Median Income and Average Rooms\n",
        "\n",
        "In this step, we’ll expand our model to include two features: `MedInc` (Median Income) and `AveRooms` (Average Rooms). This model, known as multiple linear regression, helps us understand the combined effect of both income and average number of rooms on median house values.\n",
        "\n",
        "The model’s equation can be written as:\n",
        "\n",
        "$$\n",
        "y = \\theta_0 + \\theta_1 \\cdot \\text{MedInc} + \\theta_2 \\cdot \\text{AveRooms}\n",
        "$$\n",
        "\n",
        "where:\n",
        "- $y$ is the predicted median house value (`MedHouseVal`),\n",
        "- $\\theta_0$ is the intercept, representing the baseline prediction when both `MedInc` and `AveRooms` are zero,\n",
        "- $\\theta_1$ is the coefficient for `MedInc`, indicating how changes in median income affect the house value, holding `AveRooms` constant,\n",
        "- $\\theta_2$ is the coefficient for `AveRooms`, representing how changes in the average number of rooms impact the house value, holding `MedInc` constant.\n",
        "\n",
        "Including both `MedInc` and `AveRooms` allows us to capture a more complex relationship between features and target, potentially improving prediction accuracy. We’ll fit this model and then evaluate how well it performs compared to the previous models.\n"
      ],
      "metadata": {
        "id": "fsgrJdjEteiY"
      }
    },
    {
      "cell_type": "code",
      "source": [
        "# Create LinearRegression object\n",
        "multiple_model = ...\n",
        "\n",
        "# Fit the object to data\n",
        "....fit(train[[...]], train[...])"
      ],
      "metadata": {
        "id": "0W_6_PEktz3u"
      },
      "execution_count": null,
      "outputs": []
    },
    {
      "cell_type": "code",
      "source": [
        "# Look at the intercepts and cooefiences\n",
        "multiple_model.intercept_, multiple_model.coef_"
      ],
      "metadata": {
        "id": "aUavygkAuh8q"
      },
      "execution_count": null,
      "outputs": []
    },
    {
      "cell_type": "markdown",
      "source": [
        "**Question**: Interpret the coefficients of the multiple linear regression model. What relationships do each of the coefficients have with `MedHouseVal`? Additionally, how does the magnitude of each coefficient impact the interpretation?"
      ],
      "metadata": {
        "id": "wHiezD_sumU1"
      }
    },
    {
      "cell_type": "markdown",
      "source": [
        "*Type your answer here, replacing this text.*"
      ],
      "metadata": {
        "id": "by8wReawPHhy"
      }
    },
    {
      "cell_type": "markdown",
      "source": [
        "**Question**: Use the multiple linear regression model to predict `MedHouseVal` on the `train` data and calculate the RMSE for the predictions on this training data."
      ],
      "metadata": {
        "id": "BcnvTgaVD6O6"
      }
    },
    {
      "cell_type": "code",
      "source": [
        "# TO-DO: Use multiple linear regression to predict MedHouseVal in training data\n",
        "multiple_predicted_train = ....predict(train[[...]])"
      ],
      "metadata": {
        "id": "NeGtF7iNuw-C"
      },
      "execution_count": null,
      "outputs": []
    },
    {
      "cell_type": "code",
      "source": [
        "# TO-DO: Calculate RSME for this multiple_model on training data\n",
        "rmse_dict[\"multiple\"] = ..."
      ],
      "metadata": {
        "id": "JqAsy9FDu0VR"
      },
      "execution_count": null,
      "outputs": []
    },
    {
      "cell_type": "code",
      "source": [
        "# Run this cell, no TO-DO\n",
        "# Compare three models\n",
        "rmse_dict"
      ],
      "metadata": {
        "id": "d8DreDJlvdon"
      },
      "execution_count": null,
      "outputs": []
    },
    {
      "cell_type": "markdown",
      "source": [
        "-----------------------------\n",
        "### Your model, add one more on your choice\n",
        "**Task**: Build a multiple linear regression model using `MedInc`, `AveRooms`, and one additional feature of your choice. Follow the modeling process using `sklearn`, train the model on the `train` data, and then use it to predict MedHouseVal for the `train` data. Finally, calculate the RMSE on the training data to evaluate your model’s performance.\n",
        "\n",
        "*Hint: Choose a feature that you think may improve the model's accuracy.*"
      ],
      "metadata": {
        "id": "5TLrcFqbvhlV"
      }
    },
    {
      "cell_type": "code",
      "source": [
        "# Create LinearRegression object\n",
        "...\n",
        "# Fit the object to data\n",
        "...\n",
        "# predict MedHouseVal in training data\n",
        "...\n",
        "# Calculate RSME on train data\n",
        "rmse_dict['your_model'] = ..."
      ],
      "metadata": {
        "id": "GtY5-lBnvrpZ"
      },
      "execution_count": null,
      "outputs": []
    },
    {
      "cell_type": "code",
      "source": [
        "# Run this cell to compare training errors across models\n",
        "rmse_dict"
      ],
      "metadata": {
        "id": "NDJj_89vKRxi"
      },
      "execution_count": null,
      "outputs": []
    },
    {
      "cell_type": "markdown",
      "source": [
        "###### Underfitting and Overfitting\n",
        "\n",
        "Until now, we’ve been working solely with our training data, holding back our test data for the final evaluation. This approach helps us test our model's ability to generalize to new, unseen data.\n",
        "\n",
        "Explanation of **Overfitting** and **Underfitting**:\n",
        "\n",
        "- **Underfitting** occurs when a model is too simple to capture the patterns in the data. It may have high errors on both training and test data, indicating that it fails to represent the underlying trends.\n",
        "- **Overfitting** happens when a model is too complex and learns not only the underlying patterns but also the noise in the training data. This results in very low training error but high test error, as the model doesn’t generalize well to new data.\n",
        "\n",
        "**Task**: Calculate the test error (e.g., RMSE) on the test data and compare it to the training error. Use this comparison to assess whether the model may be underfitting, overfitting, or achieving a good fit."
      ],
      "metadata": {
        "id": "DPgA_7yWvusJ"
      }
    },
    {
      "cell_type": "code",
      "source": [
        "test_rsme = {}\n",
        "# constant\n",
        "test_rsme[\"constant\"] = rmse(test[...], constant_model)\n",
        "# simple\n",
        "test_rsme[\"simple\"] = rmse(test[...], simple_model.predict(test[[\"MedInc\"]]))\n",
        "# multiple\n",
        "test_rsme[\"multiple\"] = rmse(test[...], multiple_model.predict(test[[...,...]]))\n",
        "# you model\n",
        "test_rsme[\"your_model\"] = rmse(test[...], ...)"
      ],
      "metadata": {
        "id": "MVzD2z-Jv8Is"
      },
      "execution_count": null,
      "outputs": []
    },
    {
      "cell_type": "code",
      "source": [
        "# Transform rsmes to a dataframe\n",
        "rmse_df = pd.DataFrame.from_dict(rmse_dict, orient=\"index\", columns=[\"Training RMSE\"])\n",
        "rmse_df[\"Test RMSE\"] = test_rsme.values()\n",
        "rmse_df.index.name = \"Model\"\n",
        "rmse_df"
      ],
      "metadata": {
        "id": "jWZrM4axv2ZG"
      },
      "execution_count": null,
      "outputs": []
    },
    {
      "cell_type": "markdown",
      "source": [
        "**Question**: Examine the Test RMSE column. What patterns or differences do you notice? Compare the Test RMSE with the Training RMSE for each model. What insights can you draw from these comparisons regarding model performance and generalization?"
      ],
      "metadata": {
        "id": "ORfVwjHTKAS3"
      }
    },
    {
      "cell_type": "markdown",
      "source": [
        "*Type your answer here, replacing this text.*"
      ],
      "metadata": {
        "id": "LArtLZKQOGdj"
      }
    },
    {
      "cell_type": "markdown",
      "source": [
        "---------------------------------------------------------\n",
        "# Congratulations! You've finished the Modeling Lab\n",
        "\n",
        "Developed by: Lan Dinh"
      ],
      "metadata": {
        "id": "rYR2SV1sP56K"
      }
    }
  ]
}