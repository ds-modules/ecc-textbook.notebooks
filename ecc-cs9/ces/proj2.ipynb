{
 "cells": [
  {
   "cell_type": "markdown",
   "id": "dc6d3454-afc2-49c2-b64c-884195dcdf74",
   "metadata": {},
   "source": [
    "# Project 2: Cal EnviroScreen"
   ]
  },
  {
   "cell_type": "markdown",
   "id": "e60fddec-2d3f-4d76-867b-3ba79dd6a503",
   "metadata": {},
   "source": [
    "**Estimated Time**: 60-90 Minutes <br>\n",
    "**Developers**: Bing Concepcion, James Geronimo"
   ]
  },
  {
   "cell_type": "markdown",
   "id": "4758a8be-7baa-4624-909f-ef3574eedb29",
   "metadata": {},
   "source": [
    "## Table of Contents"
   ]
  },
  {
   "cell_type": "markdown",
   "id": "ee6ca263-3b6e-438e-9445-57b896b40bd4",
   "metadata": {},
   "source": [
    "1. Introduction <br>\n",
    "    1.1. Learning Objectives <br>\n",
    "    1.2. Setup <br>\n",
    "2. Data Preprocessing <br>\n",
    "    2.1. Loading the Data <br>\n",
    "    2.2. Checking for Missing Values <br>\n",
    "    2.3. Filling the Missing Values <br>\n",
    "    2.4. Defining our Objective <br>\n",
    "3. Feature Engineering <br>\n",
    "    3.1. Selecting Features <br>\n",
    "    3.2. Setting Up X and y <br>\n",
    "    3.3. Scaling Features <br>\n",
    "4. Train-Test Split, Cross-Validation, Fit, and Predict <br>\n",
    "    4.1 Splitting the Dataset <br>\n",
    "    4.2 Training a Random Forest Classifier <br>\n",
    "    4.3 Applying Cross-Vlidation <br>\n",
    "    4.4 Fitting the Model <br>\n",
    "    4.5 Predicting Labels <br>\n",
    "5. Model Evaluation <br>\n",
    "    5.1 Accuracy <br>\n",
    "    5.2 Confusion Matrix <br>\n",
    "    5.3 Classification Report <br>\n",
    "    5.4 Feature Importances <br>\n",
    "6. Final Thoughts"
   ]
  },
  {
   "cell_type": "markdown",
   "id": "df56e34e-3b19-4d5f-ab94-be063f6803a8",
   "metadata": {},
   "source": [
    "---"
   ]
  },
  {
   "cell_type": "markdown",
   "id": "5a0a9209-6a0b-4691-9af4-282e6a7bdd62",
   "metadata": {},
   "source": [
    "## 1. Introduction"
   ]
  },
  {
   "cell_type": "markdown",
   "id": "6d556a72-78d0-4d17-bdcf-f43a7bbf34c5",
   "metadata": {},
   "source": [
    "### 1.1. Learning Objectives\n",
    "\n",
    "In Project 1, we explored the CalEnviroScreen dataset to perform exploratory data analysis (EDA) and understand environmental and demographic factors affecting communities. We examined key variables, visualized distributions, and identified patterns that highlight disparities in environmental risk.\n",
    "\n",
    "In Project 2, we will use the insights we have gained to better our modeling task. In this notebook, we will build a machine learning model to predict whether a census tract falls into a **high risk** or **low risk** category based on environmental and demographic data. We will:\n",
    "\n",
    "1. Perform data preprocessing and **feature engineering**\n",
    "2. **Train** a classification model\n",
    "3. Use **cross-validation** to assess our model's performance\n",
    "4. **Evaluate** model **results** and discuss implications"
   ]
  },
  {
   "cell_type": "markdown",
   "id": "8625c6f9-6c3b-406c-9ee3-4adc43e8386c",
   "metadata": {},
   "source": [
    "### 1.2. Setup\n",
    "\n",
    "Below, we have imported some Python libraries that are necessary for this module. Make sure to run this cell before running any other code cells!"
   ]
  },
  {
   "cell_type": "code",
   "execution_count": null,
   "id": "0295565d-428e-4415-9b01-988dae4179d1",
   "metadata": {},
   "outputs": [],
   "source": [
    "import numpy as np\n",
    "import pandas as pd\n",
    "\n",
    "import matplotlib.pyplot as plt\n",
    "plt.style.use('fivethirtyeight')\n",
    "import seaborn as sns\n",
    "\n",
    "from sklearn.model_selection import train_test_split, cross_val_score, StratifiedKFold\n",
    "from sklearn.preprocessing import StandardScaler\n",
    "from sklearn.ensemble import RandomForestClassifier\n",
    "from sklearn.metrics import classification_report, confusion_matrix, accuracy_score\n",
    "\n",
    "import ipywidgets as widgets\n",
    "from IPython.display import display"
   ]
  },
  {
   "cell_type": "markdown",
   "id": "6e9445b7-e8c0-4262-a8c5-aaf70869063c",
   "metadata": {},
   "source": [
    "---"
   ]
  },
  {
   "cell_type": "markdown",
   "id": "0e30db36-e103-4402-a404-6ef463c1e95d",
   "metadata": {},
   "source": [
    "## 2. Data Preprocessing"
   ]
  },
  {
   "cell_type": "markdown",
   "id": "5150d569-b688-42de-9cf0-8a26e9544833",
   "metadata": {},
   "source": [
    "### 2.1 Loading the Data\n",
    "\n",
    "**Question 2.1**: Let's first load our dataset `cal_enviro_screen.csv` into a variable called `ces`, and print out the shape of our `DataFrame`. Recall that we did this in Project 1, so feel free to refer back to it for guidance."
   ]
  },
  {
   "cell_type": "code",
   "execution_count": null,
   "id": "fd2b516b-2868-49e3-8abf-8d89bd58caef",
   "metadata": {
    "scrolled": true
   },
   "outputs": [],
   "source": [
    "ces = pd.read_csv(...)\n",
    "print(f\"Shape of `ces`: {...}\")\n",
    "\n",
    "display(ces.head(5))"
   ]
  },
  {
   "cell_type": "markdown",
   "id": "ff5ea661-ac17-4698-b9c2-090ab470f211",
   "metadata": {},
   "source": [
    "### 2.2 Checking for Missing Values\n",
    "\n",
    "We are working with a lot of data, so it's important that we ensure it is clean enough to work with. \n",
    "\n",
    "**Question 2.2**: In the cell below, output a `Series` where the index is each column and the value is the number of missing values in that column. The `.isnull()` ([documentation](https://pandas.pydata.org/docs/reference/api/pandas.DataFrame.isnull.html)) function may be particularly helpful here."
   ]
  },
  {
   "cell_type": "code",
   "execution_count": null,
   "id": "4e73397a-c762-484b-a2a3-f8fff8077d3f",
   "metadata": {},
   "outputs": [],
   "source": [
    "..."
   ]
  },
  {
   "cell_type": "markdown",
   "id": "cf0e4209-e6b7-4c71-8a3d-48d197c7962c",
   "metadata": {},
   "source": [
    "### 2.3. Filling the Missing Values\n",
    "\n",
    "Now that we have identified missing values in our dataset, we need to address them before proceeding with modeling. Handling missing data is crucial to ensure our analysis remains accurate and reliable. Depending on the nature of the missing values, we can either **drop rows or columns** with excessive missing data or impute values based on statistical measures such as the mean, median, or mode.\n",
    "\n",
    "A simple fix to this problem is filling missing numerical values with the median of the quantitative column, as this best handles more skewed distributions. For categorical columns, we can fill them with the mode since it is the most common value. \n",
    "\n",
    "**Question 2.3**: Below, finish the code such that missing numerical values are filled with the column's median, and missing categorical values are filled with the column's mode. The output of the cell should be similar to the one above, but with all zeroes."
   ]
  },
  {
   "cell_type": "code",
   "execution_count": null,
   "id": "4c033fdb-53d9-42e4-8caa-3768d8a12ab6",
   "metadata": {},
   "outputs": [],
   "source": [
    "num_cols = ces.select_dtypes(include=['number']).columns\n",
    "ces[num_cols] = ces[num_cols].fillna(ces[num_cols]...\n",
    "\n",
    "cat_cols = ces.select_dtypes(include=['object']).columns\n",
    "ces[cat_cols] = ces[cat_cols].fillna(ces[cat_cols]...)\n",
    "\n",
    "..."
   ]
  },
  {
   "cell_type": "markdown",
   "id": "250b5b9f-95fe-4d4e-bf83-05dddebcfec9",
   "metadata": {},
   "source": [
    "### 2.4. Defining our Objective\n",
    "\n",
    "With our data's missing values now tended to, we first must define what it means for a census tract to fall into either a high-risk or low-risk category. We will use the `\"CES 4.0 Percentile\"` feature as our target variable. However, recall that this variable is numerical (and you can prove this to yourself by checking the data yourself). In order to use it in a classification task, we must convert the variable into a binary classification problem. \n",
    "\n",
    "In these contexts, *high risk* often refers to values at or above the 75th percentile. Thus, we will define high risk as having a percentile greater than or equal to 75, and low risk as having a percentile less than 75. \n",
    "\n",
    "**Question 2.4**: Create a new column called `\"high_risk\"`, where the values are `True` if the percentile is greater than or equal to 75, and `False` otherwise."
   ]
  },
  {
   "cell_type": "code",
   "execution_count": null,
   "id": "57bc11a1-b66a-4ffe-97b9-50ad009d091b",
   "metadata": {},
   "outputs": [],
   "source": [
    "ces['high_risk'] = ...\n",
    "\n",
    "ces['high_risk']"
   ]
  },
  {
   "cell_type": "markdown",
   "id": "b27935bb-9e8a-4dce-9810-d5939fc64c20",
   "metadata": {},
   "source": [
    "---"
   ]
  },
  {
   "cell_type": "markdown",
   "id": "82f90bf9-890a-49ca-9fdb-6d4fbdc48fbd",
   "metadata": {},
   "source": [
    "## 3. Feature Engineering"
   ]
  },
  {
   "cell_type": "markdown",
   "id": "f7091627-8430-4b3e-9caf-2fbf7eeddd1b",
   "metadata": {},
   "source": [
    "### 3.1. Selecting Features\n",
    "\n",
    "Now it is time to choose the features we would like in our model. Note that we will be using a Random Forest Classifier to carry out this classification task. It is important that we select features that have a significant relationship with the `\"CES 4.0 Percentile\"` column. \n",
    "\n",
    "Below, we've imported a function called `feature_selector` from `utils.py` that makes use of an interactive widget using `ipywidgets` so you can easily choose features with a click of a button (or multiple)! \n",
    "\n",
    "**Question 3.1**: For this part, select features that you think are appropriate for predicting whether or not a census tract is high risk or not. We highly encourage you to look back at the results you found from Project 1 to find meaningful features! Additionally, looking through the data dictionary of the dataset found in `ces_dictionary.pdf` will also be very useful."
   ]
  },
  {
   "cell_type": "code",
   "execution_count": null,
   "id": "cf86b304-bf77-4906-93a7-19fbe0e7608c",
   "metadata": {},
   "outputs": [],
   "source": [
    "from utils import feature_selector\n",
    "\n",
    "features = ['Approximate Location', 'Asthma', 'Asthma Pctl', 'California County',\n",
    "     'Cardiovascular Disease', 'Cardiovascular Disease Pctl', 'Census Tract', 'Cleanup Sites',\n",
    "     'Cleanup Sites Pctl', 'Diesel PM', 'Diesel PM Pctl', 'Drinking Water', 'Drinking Water Pctl',\n",
    "     'Education', 'Education Pctl', 'Groundwater Threats', 'Groundwater Threats Pctl',\n",
    "     'Haz. Waste', 'Haz. Waste Pctl', 'Housing Burden', 'Housing Burden Pctl',\n",
    "     'Imp. Water Bodies', 'Imp. Water Bodies Pctl', 'Latitude', 'Lead', 'Lead Pctl',\n",
    "     'Linguistic Isolation', 'Linguistic Isolation Pctl', 'Longitude', 'Low Birth Weight',\n",
    "     'Low Birth Weight Pctl', 'Ozone', 'Ozone Pctl', 'PM2.5', 'PM2.5 Pctl', 'Pesticides',\n",
    "     'Pesticides Pctl', 'Pollution Burden', 'Pollution Burden Pctl', 'Pollution Burden Score',\n",
    "     'Pop. Char.', 'Pop. Char. Pctl', 'Pop. Char. Score', 'Poverty', 'Poverty Pctl',\n",
    "     'Solid Waste', 'Solid Waste Pctl', 'Total Population', 'Tox. Release', 'Tox. Release Pctl',\n",
    "     'Traffic', 'Traffic Pctl', 'Unemployment', 'Unemployment Pctl', 'ZIP']\n",
    "\n",
    "selected_features = []\n",
    "\n",
    "feature_selector(features, selected_features)"
   ]
  },
  {
   "cell_type": "markdown",
   "id": "dad375a2-49cd-48ff-a308-2397ff5f0467",
   "metadata": {},
   "source": [
    "### 3.2. Setting Up X and y\n",
    "\n",
    "Now, we need to define our `X` and `y` variables. \n",
    "\n",
    "**Question 3.2**: Set `X` to be a `DataFrame` derived from `ces` with our `selected_features` from 3.1. Set `y` to be the `Series` of the variable we are trying to predict (`\"high_risk\"`)! "
   ]
  },
  {
   "cell_type": "code",
   "execution_count": null,
   "id": "2d61114d-8ad3-47b9-94f5-c7566c2dec34",
   "metadata": {},
   "outputs": [],
   "source": [
    "X = ...\n",
    "y = ...\n",
    "\n",
    "print(f\"Selected features: {selected_features}\\n\")\n",
    "print(y.value_counts(normalize=True))"
   ]
  },
  {
   "cell_type": "markdown",
   "id": "ae2e8939-0cff-4df4-88c4-51b41d4ecf27",
   "metadata": {},
   "source": [
    "### 3.3 Scaling Features\n",
    "\n",
    "With `X` and `y` now set up, the next step is to standardize our numeric features to ensure a consistent scale across all variables. Many machine learning models, particularly those relying on distance-based calculations (e.g., logistic regression, KNN), are sensitive to differences in feature magnitudes. Features like pollution scores and socioeconomic indicators may have vastly different ranges, which could bias the model if left unscaled.\n",
    "\n",
    "**Question 3.3**: To address this, use `StandardScaler` ([documentation](https://scikit-learn.org/stable/modules/generated/sklearn.preprocessing.StandardScaler.html)) to transform each numeric feature to have a **mean of 0** and a **standard deviation of 1**. This process improves model convergence and prevents features with larger values from dominating those with smaller ones."
   ]
  },
  {
   "cell_type": "code",
   "execution_count": null,
   "id": "b07b7068-756b-48ac-b259-c0d76d20e65a",
   "metadata": {},
   "outputs": [],
   "source": [
    "scaler = ...\n",
    "X_scaled = ..."
   ]
  },
  {
   "cell_type": "markdown",
   "id": "5918cbdc-fe75-407a-8338-aa4c91468eb1",
   "metadata": {},
   "source": [
    "---"
   ]
  },
  {
   "cell_type": "markdown",
   "id": "e9d62d44-2055-4afb-bf6a-9ad3b23b4a49",
   "metadata": {},
   "source": [
    "## 4. Train-Test Split, Cross-Validation, Fit, and Predict"
   ]
  },
  {
   "cell_type": "markdown",
   "id": "45c7f2ec-e078-45a3-a3c3-0d358850e2e1",
   "metadata": {},
   "source": [
    "### 4.1 Splitting the Dataset\n",
    "\n",
    "To evaluate our model effectively, we first need to split the dataset into training and testing subsets. This will allow us to train the model on a majority of the data while preserving a portion to evaluate the model against unseen data.\n",
    "\n",
    "**Question 4.1**: Using `train_test_split` ([documentation](https://scikit-learn.org/stable/modules/generated/sklearn.model_selection.train_test_split.html)), use an **80-20 split**, reserving 80% of the data for training and 20% for testing. To ensure that the distribution of our target variable remains consistent across both subsets, set the `stratify` parameter set to `y`. This prevents us from having imbalanced splits, which could lead to misleading performance."
   ]
  },
  {
   "cell_type": "code",
   "execution_count": null,
   "id": "80bed287-ff2d-48ed-be62-a29334e97ae0",
   "metadata": {},
   "outputs": [],
   "source": [
    "X_train, X_test, y_train, y_test = ...\n",
    "\n",
    "print(f\"Train size: {len(X_train)}, Test size: {len(X_test)}\")"
   ]
  },
  {
   "cell_type": "markdown",
   "id": "1ed96374-cff8-4627-876b-b75d2288486b",
   "metadata": {},
   "source": [
    "### 4.2 Defining a Random Forest Classifier\n",
    "\n",
    "We'll start by defining a Random Forest Classifier, an ensemble learning method that leverages the predictions of multiple decision trees. This particular model will help reduce overfitting and improve generalization. Additionally, the model provides built-in feature importance scores, offering strong model interpretability. \n",
    "\n",
    "**Question 4.2**: Below, define a `RandomForestClassifier` ([documentation](https://scikit-learn.org/stable/modules/generated/sklearn.ensemble.RandomForestClassifier.html)) under the variable `rf`. For reproducibility, set the `random_state` to 42. "
   ]
  },
  {
   "cell_type": "code",
   "execution_count": null,
   "id": "6f6b2a44-da7d-48c8-8da0-2007a1f0a6ce",
   "metadata": {},
   "outputs": [],
   "source": [
    "rf = ..."
   ]
  },
  {
   "cell_type": "markdown",
   "id": "f4978ad7-1e97-4c95-b819-221742bdd4c1",
   "metadata": {},
   "source": [
    "### 4.3 Applying Cross-Validation\n",
    "\n",
    "Before assessing fitting the model and applying it to the test set, apply **cross-validation** to gauge how well it generalizes to unseen data. This will give us a more stable estimate of model performance by averaging results across multiple folds, rather than relying on a single split.\n",
    "\n",
    "**Question 4.3**: In the cell below, use `StratifiedKFold` ([documentation](https://scikit-learn.org/stable/modules/generated/sklearn.model_selection.StratifiedKFold.html)) so that each fold maintains the same **class distribution** as the overall dataset, similar to what we did with setting the `stratify` parameter from 4.1. For reproducibility, set the `random_state` to 42. Then, use `cross_val_score` ([documentation](https://scikit-learn.org/stable/modules/generated/sklearn.model_selection.cross_val_score.html)) to evaluate model accuracy across each split."
   ]
  },
  {
   "cell_type": "code",
   "execution_count": null,
   "id": "4e30963d-4eb5-4f8b-bc4c-5bd976615f8d",
   "metadata": {},
   "outputs": [],
   "source": [
    "cv = ...\n",
    "cv_scores = ...\n",
    "\n",
    "print(f\"Cross-validation scores: {cv_scores}\")\n",
    "print(f\"Cross-validation accuracy: {cv_scores.mean():.4f} ± {cv_scores.std():.4f}\")"
   ]
  },
  {
   "cell_type": "markdown",
   "id": "4cbe2d61-8ec2-4d62-aeaf-8ed7d977f7af",
   "metadata": {},
   "source": [
    "### 4.4 Fitting the Model\n",
    "\n",
    "After obtaining strong cross-validation scores, we’re confident that our model can generalize well to unseen data! The next step is to train the model on the entire training set to take full advantage of the data before making final predictions on the test set.\n",
    "\n",
    "**Question 4.4**: Below, `fit` ([documentation](https://scikit-learn.org/stable/modules/generated/sklearn.ensemble.RandomForestClassifier.html#sklearn.ensemble.RandomForestClassifier.fit)) the model on the entire training set."
   ]
  },
  {
   "cell_type": "code",
   "execution_count": null,
   "id": "aceeb770-0e4c-4161-9039-db219bb52630",
   "metadata": {},
   "outputs": [],
   "source": [
    "..."
   ]
  },
  {
   "cell_type": "markdown",
   "id": "36cf684a-7f34-4d83-9e14-c276ae2b3e08",
   "metadata": {},
   "source": [
    "### 4.5 Predicting Labels\n",
    "\n",
    "Having trained the model, we can use it to make predictions on the test set. Specifically, we’ll predict whether each census tract in `X_test` falls into the *high risk* or *low risk* category based on the environmental and demographic features.\n",
    "\n",
    "**Question 4.5**: Using `predict` ([documentation](https://scikit-learn.org/stable/modules/generated/sklearn.ensemble.RandomForestClassifier.html#sklearn.ensemble.RandomForestClassifier.predict)), generate the model’s predicted labels for `X_test`, and define the predictions under `y_pred`. We’ll later compare with the true labels in y_test to evaluate performance."
   ]
  },
  {
   "cell_type": "code",
   "execution_count": null,
   "id": "1c5b1449-7083-41fd-a2da-ed3fde0dd858",
   "metadata": {},
   "outputs": [],
   "source": [
    "y_pred = ..."
   ]
  },
  {
   "cell_type": "markdown",
   "id": "08ba35f7-424c-47ed-981d-82fd994c8bd0",
   "metadata": {},
   "source": [
    "---"
   ]
  },
  {
   "cell_type": "markdown",
   "id": "623f25d0-a10e-455c-a72f-558010cc545f",
   "metadata": {},
   "source": [
    "## 5. Model Evaluation"
   ]
  },
  {
   "cell_type": "markdown",
   "id": "c077a955-565e-42d4-ab27-8169ab6c7091",
   "metadata": {},
   "source": [
    "### 5.1 Accuracy\n",
    "\n",
    "With predictions in hand, we now evaluate how well the model performs on the **test set**—data it has never seen before. This step is crucial for understanding the model’s true generalization ability.\n",
    "\n",
    "**Question 5.1**: Begin by calculating accuracy, which gives a simple overall measure of performance by showing the proportion of correct predictions. While it doesn’t capture the full story, it provides a useful first look at how the model is doing."
   ]
  },
  {
   "cell_type": "code",
   "execution_count": null,
   "id": "99448dbc-07cc-4e3c-9bdb-026c82946957",
   "metadata": {},
   "outputs": [],
   "source": [
    "test_accuracy = ...\n",
    "\n",
    "print(f\"Test Accuracy: {test_accuracy:.4f}\")"
   ]
  },
  {
   "cell_type": "markdown",
   "id": "611ea0b4-676e-44b3-ab12-381643fafbf0",
   "metadata": {},
   "source": [
    "### 5.2 Confusion Matrix\n",
    "\n",
    "To better understand our model’s predictions, visualize the confusion matrix, which breaks down the number of correct and incorrect classifications by class. This will allow us to identify where the model is making mistakes—such as false positives (areas incorrectly classified as *high risk*) and false negatives (*high risk* areas the model failed to catch).\n",
    "\n",
    "**Question 5.2**: In plotting the confusion matrix, make sure to include clear axis labels and a descriptive title so it’s easy to interpret which predictions were correct and where the model struggled. Note that `confusion_matrix` ([documentation](https://scikit-learn.org/stable/modules/generated/sklearn.metrics.confusion_matrix.html)) and `sns.heatmap` ([documentation](https://seaborn.pydata.org/generated/seaborn.heatmap.html)) will be particularly useful here."
   ]
  },
  {
   "cell_type": "code",
   "execution_count": null,
   "id": "4dacbf15-fad2-463d-9b4f-640ace139e33",
   "metadata": {},
   "outputs": [],
   "source": [
    "..."
   ]
  },
  {
   "cell_type": "markdown",
   "id": "ec44825e-3e01-4ba9-83b1-531a9c966d9a",
   "metadata": {},
   "source": [
    "### 5.3 Classification Report\n",
    "\n",
    "To get a more detailed view of model performance, generate a classification report. This report produces the following metrics:\n",
    "\n",
    "- **Precision**: Of the areas predicted as *high risk*, how many truly are?\n",
    "- **Recall**: Of the actual *high risk* areas, how many did the model correctly identify?\n",
    "- **F1-score**: The harmonic mean of precision and recall.\n",
    "\n",
    "**Question 5.3**: In the cell below, make use of `classification_report` ([documentation](https://scikit-learn.org/stable/modules/generated/sklearn.metrics.classification_report.html)) to generate the classfication report."
   ]
  },
  {
   "cell_type": "code",
   "execution_count": null,
   "id": "8bd70129-3100-43d2-bc9a-802c8f8317bf",
   "metadata": {},
   "outputs": [],
   "source": [
    "..."
   ]
  },
  {
   "cell_type": "markdown",
   "id": "24c4c05d-67ed-41d7-8c69-4dde9f5dbc3d",
   "metadata": {},
   "source": [
    "### 5.4 Feature Importances\n",
    "\n",
    "To understand what’s driving the model’s predictions, examine feature importances from the trained Random Forest. This will tell us which environmental and socioeconomic factors contributed most to the classification of *high risk* vs. *low risk* areas.\n",
    "\n",
    "**Question 5.4**: First, retrieve the feature importances from the `feature_importances_` attribute of `rf` ([documentation](https://scikit-learn.org/stable/modules/generated/sklearn.ensemble.RandomForestClassifier.html#sklearn.ensemble.RandomForestClassifier.feature_importances_)). Next, sort the values from highest to lowest. Then, visualize these importances using a bar plot, making sure to include axis labels and a title."
   ]
  },
  {
   "cell_type": "code",
   "execution_count": null,
   "id": "db27a840-f841-4ad3-9b66-851adc2ea307",
   "metadata": {},
   "outputs": [],
   "source": [
    "..."
   ]
  },
  {
   "cell_type": "markdown",
   "id": "48166c05-66b7-425a-ad89-f09fae8b25d1",
   "metadata": {},
   "source": [
    "---"
   ]
  },
  {
   "cell_type": "markdown",
   "id": "1d721616-c537-4c8f-a932-b0e5a865b598",
   "metadata": {},
   "source": [
    "## 6. Final Thoughts"
   ]
  },
  {
   "cell_type": "markdown",
   "id": "30d8265d-1f05-40a5-9941-f9397dd7dacb",
   "metadata": {},
   "source": [
    "**Question 6.1**: What features did you end up using in your final model?\n",
    "Were there any features you initially thought would be useful but didn’t improve performance or caused issues? How did you decide what to include or leave out?"
   ]
  },
  {
   "cell_type": "markdown",
   "id": "97b86016-8f8a-4363-95d5-be1c2f0a335b",
   "metadata": {},
   "source": [
    "*Your answer here.*"
   ]
  },
  {
   "cell_type": "markdown",
   "id": "1fd7df41-9735-45f8-9e99-ad9547f88a82",
   "metadata": {},
   "source": [
    "**Question 6.2**: In this context, which type of error is more acceptable—false positives or false negatives? How does this choice reflect the real-world implications of misclassifying a census tract’s risk level?"
   ]
  },
  {
   "cell_type": "markdown",
   "id": "1d229d47-07c7-4064-8256-616f727283a5",
   "metadata": {},
   "source": [
    "*Your answer here.*"
   ]
  },
  {
   "cell_type": "markdown",
   "id": "341d5f37-0728-4eb6-9744-26bc10412831",
   "metadata": {},
   "source": [
    "**Question 6.3**: Which features were most important in your model, and do you think they align with real-world intuition about environmental or health risks? Were there any surprises in the importance rankings?"
   ]
  },
  {
   "cell_type": "markdown",
   "id": "57e07913-900a-4ca2-9a47-60e756b80b67",
   "metadata": {},
   "source": [
    "*Your answer here.*"
   ]
  },
  {
   "cell_type": "markdown",
   "id": "e228f1b4-b542-416f-92b3-cafaa9aefbac",
   "metadata": {},
   "source": [
    "---"
   ]
  },
  {
   "cell_type": "markdown",
   "id": "03ce7606-b31f-4065-95e4-accc38e5ac6f",
   "metadata": {},
   "source": [
    "# Congratulations, you are finished with Project 2!"
   ]
  }
 ],
 "metadata": {
  "kernelspec": {
   "display_name": "Python 3 (ipykernel)",
   "language": "python",
   "name": "python3"
  },
  "language_info": {
   "codemirror_mode": {
    "name": "ipython",
    "version": 3
   },
   "file_extension": ".py",
   "mimetype": "text/x-python",
   "name": "python",
   "nbconvert_exporter": "python",
   "pygments_lexer": "ipython3",
   "version": "3.11.11"
  }
 },
 "nbformat": 4,
 "nbformat_minor": 5
}
