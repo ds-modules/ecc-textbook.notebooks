{
 "cells": [
  {
   "cell_type": "code",
   "execution_count": 1,
   "id": "0295f3e6-10b2-4e3b-acdc-fdc9a2785022",
   "metadata": {},
   "outputs": [],
   "source": [
    "import numpy as np\n",
    "import matplotlib.pyplot as plt\n",
    "from matplotlib.patches import Rectangle\n",
    "from ipywidgets import interact\n",
    "import ipywidgets as widgets\n",
    "from sympy import Symbol, Eq, solve_undetermined_coeffs, apart"
   ]
  },
  {
   "cell_type": "code",
   "execution_count": 2,
   "id": "af08c73c-059d-4577-bdc3-2b418d52c0d3",
   "metadata": {},
   "outputs": [],
   "source": [
    "def f(x):\n",
    "    return x * (x - 1) * (x - 2)"
   ]
  },
  {
   "cell_type": "code",
   "execution_count": 3,
   "id": "9dd6d7ac-3699-4a72-b87b-13dcb4a49f57",
   "metadata": {},
   "outputs": [
    {
     "data": {
      "application/vnd.jupyter.widget-view+json": {
       "model_id": "159e464e95f446a887dfb18d4796e330",
       "version_major": 2,
       "version_minor": 0
      },
      "text/plain": [
       "interactive(children=(Dropdown(description='approx_type', options=('Left Endpoints', 'Right Endpoints', 'Cente…"
      ]
     },
     "metadata": {},
     "output_type": "display_data"
    },
    {
     "data": {
      "text/plain": [
       "<function __main__.render_riemann_sum(approx_type, num_rects)>"
      ]
     },
     "execution_count": 3,
     "metadata": {},
     "output_type": "execute_result"
    }
   ],
   "source": [
    "approx_type_dropdown = widgets.Dropdown(options=['Left Endpoints', 'Right Endpoints', 'Center Points', 'Trapezoids'])\n",
    "num_rects_slider = widgets.IntSlider(description='Points', min=1, max=50, step=1)\n",
    "\n",
    "def render_riemann_sum(approx_type, num_rects):\n",
    "    fig, ax = plt.subplots()\n",
    "    \n",
    "    xs = np.arange(0, 2.51, 0.05)\n",
    "    ys = f(xs)\n",
    "    ax.plot(xs, ys)\n",
    "\n",
    "    rectangle_width = 2.5 / num_rects\n",
    "    rectangle_xs = np.arange(0, 2.5, rectangle_width)\n",
    "    area_approx = 0\n",
    "    for x in rectangle_xs:\n",
    "        if approx_type == 'Trapezoids':\n",
    "            x1 = x\n",
    "            x2 = x + rectangle_width\n",
    "            y1 = f(x1)\n",
    "            y2 = f(x2)\n",
    "\n",
    "            color = 'r' if y1 + y2 < 0 else 'b'\n",
    "            ax.add_patch(plt.Polygon([[x1, 0], [x1, y1], [x2, y2], [x2, 0]], alpha=0.5, facecolor=color))\n",
    "            area_approx += 0.5 * rectangle_width * (y1 + y2)\n",
    "        else:\n",
    "            match approx_type:\n",
    "                case 'Left Endpoints':\n",
    "                    y = f(x)\n",
    "                case 'Right Endpoints':\n",
    "                    y = f(x + rectangle_width)\n",
    "                case 'Center Points':\n",
    "                    y = f(x + rectangle_width * 0.5)\n",
    "            color = 'r' if y < 0 else 'b'\n",
    "            ax.add_patch(Rectangle((x, 0), rectangle_width, y, alpha=0.5, facecolor=color))\n",
    "            area_approx += rectangle_width * y\n",
    "\n",
    "    print('approximated area', area_approx)\n",
    "    actual_area = 0.25 * 2.5 ** 4 - 2.5 ** 3 + 2.5 ** 2\n",
    "    print('actual area', actual_area)\n",
    "    print('error', area_approx - actual_area)\n",
    "\n",
    "\n",
    "interact(render_riemann_sum, approx_type = approx_type_dropdown, num_rects=num_rects_slider)"
   ]
  }
 ],
 "metadata": {
  "kernelspec": {
   "display_name": "Python 3 (ipykernel)",
   "language": "python",
   "name": "python3"
  },
  "language_info": {
   "codemirror_mode": {
    "name": "ipython",
    "version": 3
   },
   "file_extension": ".py",
   "mimetype": "text/x-python",
   "name": "python",
   "nbconvert_exporter": "python",
   "pygments_lexer": "ipython3",
   "version": "3.12.7"
  }
 },
 "nbformat": 4,
 "nbformat_minor": 5
}
