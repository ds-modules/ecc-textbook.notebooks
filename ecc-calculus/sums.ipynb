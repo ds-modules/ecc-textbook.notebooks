{
 "cells": [
  {
   "cell_type": "markdown",
   "id": "0e2065fe",
   "metadata": {},
   "source": [
    "# Exploring Riemann Sums: Approximating the Area Under a Curve"
   ]
  },
  {
   "cell_type": "markdown",
   "id": "a1ceb167",
   "metadata": {},
   "source": [
    "**Estimated Time**: 30-60 Minutes  \n",
    "**Developers**: Jonathan Ferrari"
   ]
  },
  {
   "cell_type": "markdown",
   "id": "7c00ed98",
   "metadata": {},
   "source": [
    "## Table of Contents"
   ]
  },
  {
   "cell_type": "markdown",
   "id": "be90987f",
   "metadata": {},
   "source": [
    "1. **Introduction**  \n",
    "   1.1. Learning Objectives  \n",
    "   1.2. What are Riemann Sums?  \n",
    "   1.3. Overview of Approximation Methods  \n",
    "2. **Riemann Sum Fundamentals**  \n",
    "   2.1. Partitioning the Interval  \n",
    "   2.2. Left, Right, and Midpoint Approximations  \n",
    "   2.3. The Trapezoidal Rule  \n",
    "   2.4. Code Example: Basic Riemann Sum  \n",
    "3. **Interactive Visualizations**  \n",
    "   3.1. Visualizing Riemann Sums for a Fixed Function  \n",
    "   3.2. Dynamic Function Exploration  \n",
    "4. **Mathematical Derivations**  \n",
    "   4.1. Derivation of the Trapezoidal Rule  \n",
    "5. **Free Response Questions and Reflections**  \n",
    "6. **Conclusion**"
   ]
  },
  {
   "cell_type": "markdown",
   "id": "842b0685",
   "metadata": {},
   "source": [
    "<hr style=\"border: 2px solid #003262\">\n",
    "<hr style=\"border: 2px solid #C9B676\">"
   ]
  },
  {
   "cell_type": "markdown",
   "id": "8db79b40",
   "metadata": {},
   "source": [
    "## 1. Introduction"
   ]
  },
  {
   "cell_type": "markdown",
   "id": "07f30152",
   "metadata": {},
   "source": [
    "### 1.1. Learning Objectives\n",
    "\n",
    "In this lesson, you will:\n",
    "\n",
    "- Understand the concept of Riemann sums and how they are used to approximate the definite integral.\n",
    "- Explore different approximation methods including the Left Endpoint, Right Endpoint, Midpoint, and the Trapezoidal Rule.\n",
    "- Analyze how the choice of method and number of partitions affect the accuracy of the approximation.\n",
    "- Interact with visualizations that illustrate these methods.\n",
    "- Follow through a derivation of the trapezoidal rule using LaTeX and symbolic manipulation.\n",
    "- Reflect and answer free response questions that prompt deeper understanding."
   ]
  },
  {
   "cell_type": "markdown",
   "id": "c8617c1c",
   "metadata": {},
   "source": [
    "### 1.2. What are Riemann Sums?\n",
    "\n",
    "Riemann sums approximate the area under a curve by breaking it into small shapes (usually rectangles) and summing their areas. This process is useful when an antiderivative is difficult to obtain or when working with discrete data."
   ]
  },
  {
   "cell_type": "markdown",
   "id": "66b2acd4",
   "metadata": {},
   "source": [
    "### 1.3. Overview of Approximation Methods\n",
    "\n",
    "We will cover several key methods:\n",
    "\n",
    "- **Left Endpoint Approximation:** Uses the left endpoint of each subinterval to form rectangles.\n",
    "- **Right Endpoint Approximation:** Uses the right endpoint of each subinterval.\n",
    "- **Midpoint Approximation:** Uses the midpoint of each subinterval, often yielding a better result.\n",
    "- **Trapezoidal Rule:** Uses trapezoids rather than rectangles, which can better approximate the area when the function is nearly linear over each subinterval."
   ]
  },
  {
   "cell_type": "markdown",
   "id": "f9a6da5e",
   "metadata": {},
   "source": [
    "### Free Response Question 1.1:\n",
    "> *Why might one choose a midpoint approximation over a simple left or right endpoint approximation?*"
   ]
  },
  {
   "cell_type": "markdown",
   "id": "72444123",
   "metadata": {},
   "source": [
    "Your Answer Here"
   ]
  },
  {
   "cell_type": "markdown",
   "id": "96b98347",
   "metadata": {},
   "source": [
    "<hr style=\"border: 2px solid #003262\">\n",
    "<hr style=\"border: 2px solid #C9B676\">"
   ]
  },
  {
   "cell_type": "markdown",
   "id": "7b4d29b3",
   "metadata": {},
   "source": [
    "## 2. Riemann Sum Fundamentals"
   ]
  },
  {
   "cell_type": "markdown",
   "id": "b0735a56",
   "metadata": {},
   "source": [
    "### 2.1. Partitioning the Interval\n",
    "\n",
    "Before calculating a Riemann sum, we divide the interval $[a, b]$ into $n$ equal subintervals:\n",
    "\n",
    "$$\n",
    "\\Delta x = \\frac{b-a}{n}\n",
    "$$\n",
    "\n",
    "For each subinterval, we calculate areas based on the chosen evaluation point."
   ]
  },
  {
   "cell_type": "markdown",
   "id": "772dc4bb",
   "metadata": {},
   "source": [
    "### 2.2. Left, Right, and Midpoint Approximations\n",
    "\n",
    "- **Left Endpoint:** Uses the left side of each subinterval, $f(x_i)$.  \n",
    "- **Right Endpoint:** Uses the right side, $f(x_{i+1})$.  \n",
    "- **Midpoint:** Uses the midpoint, $f\\Big(x_i + \\frac{\\Delta x}{2}\\Big)$.\n",
    "\n",
    "These methods yield different approximations. Typically, the midpoint method gives a better approximation when the function does not change drastically over each interval."
   ]
  },
  {
   "cell_type": "markdown",
   "id": "afba3399",
   "metadata": {},
   "source": [
    "### Free Response Question 2.1:\n",
    "> *Explain in your own words the advantages and limitations of using left, right, and midpoint approximations. When might each be most appropriate?*"
   ]
  },
  {
   "cell_type": "markdown",
   "id": "67445e2d",
   "metadata": {},
   "source": [
    "Your Answer Here"
   ]
  },
  {
   "cell_type": "markdown",
   "id": "01575ff2",
   "metadata": {},
   "source": [
    "### 2.3. The Trapezoidal Rule\n",
    "\n",
    "The trapezoidal rule uses trapezoids rather than rectangles. For a subinterval $[x_i, x_{i+1}]$, the area of a trapezoid is calculated as:\n",
    "\n",
    "$$\n",
    "\\text{Area}_i = \\frac{\\Delta x}{2}\\Big[f(x_i) + f(x_{i+1})\\Big]\n",
    "$$\n",
    "\n",
    "This method often yields a better approximation, particularly when the function is nearly linear over each subinterval."
   ]
  },
  {
   "cell_type": "markdown",
   "id": "1fb68423",
   "metadata": {},
   "source": [
    "### 2.4. Code Example: Basic Riemann Sum\n",
    "\n",
    "Below is a code example to compute the Riemann sum for the function \n",
    "$$\n",
    "f(x) = x(x-1)(x-2).\n",
    "$$"
   ]
  },
  {
   "cell_type": "code",
   "execution_count": null,
   "id": "ae460e3e",
   "metadata": {},
   "outputs": [
    {
     "data": {
      "application/vnd.jupyter.widget-view+json": {
       "model_id": "70bc20fd79354b0ea3ca45a1b7ecaf50",
       "version_major": 2,
       "version_minor": 0
      },
      "text/plain": [
       "interactive(children=(Dropdown(description='approx_type', options=('Left Endpoints', 'Right Endpoints', 'Cente…"
      ]
     },
     "metadata": {},
     "output_type": "display_data"
    }
   ],
   "source": [
    "import numpy as np\n",
    "import matplotlib\n",
    "import matplotlib.pyplot as plt\n",
    "from matplotlib.patches import Rectangle\n",
    "from ipywidgets import interact\n",
    "import ipywidgets as widgets\n",
    "%matplotlib inline\n",
    "\n",
    "# Use the fivethirtyeight style\n",
    "matplotlib.style.use('fivethirtyeight')\n",
    "\n",
    "def f(x):\n",
    "    return x * (x - 1) * (x - 2)\n",
    "\n",
    "def basic_riemann(approx_type, num_rects):\n",
    "    fig, ax = plt.subplots(figsize=(8, 4))\n",
    "    xs = np.linspace(0, 2.5, 300)\n",
    "    ax.plot(xs, f(xs), 'k-', label=\"f(x)\")\n",
    "    \n",
    "    rectangle_width = 2.5 / num_rects\n",
    "    rectangle_xs = np.arange(0, 2.5, rectangle_width)\n",
    "    area_approx = 0\n",
    "    for x in rectangle_xs:\n",
    "        if approx_type == 'Trapezoids':\n",
    "            x1 = x\n",
    "            x2 = x + rectangle_width\n",
    "            y1 = f(x1)\n",
    "            y2 = f(x2)\n",
    "            ax.add_patch(plt.Polygon([[x1, 0], [x1, y1], [x2, y2], [x2, 0]], alpha=0.5, facecolor='orange'))\n",
    "            area_approx += 0.5 * rectangle_width * (y1 + y2)\n",
    "        else:\n",
    "            if approx_type == 'Left Endpoints':\n",
    "                y = f(x)\n",
    "            elif approx_type == 'Right Endpoints':\n",
    "                y = f(x + rectangle_width)\n",
    "            elif approx_type == 'Center Points':\n",
    "                y = f(x + rectangle_width/2)\n",
    "            ax.add_patch(Rectangle((x, 0), rectangle_width, y, alpha=0.5, facecolor='skyblue'))\n",
    "            area_approx += rectangle_width * y\n",
    "\n",
    "    ax.set_title(f\"{approx_type} Approximation with {num_rects} Rectangles\")\n",
    "    ax.set_xlabel(\"x\")\n",
    "    ax.set_ylabel(\"f(x)\")\n",
    "    ax.legend()\n",
    "    plt.show()\n",
    "    print(\"Approximated Area:\", area_approx)\n",
    "    actual_area = 0.25 * (2.5**4) - (2.5**3) + (2.5**2)\n",
    "    print(\"Computed Actual Area:\", actual_area)\n",
    "    print(\"Error (Approx - Actual):\", area_approx - actual_area)\n",
    "\n",
    "approx_type_dropdown = widgets.Dropdown(options=['Left Endpoints', 'Right Endpoints', 'Center Points', 'Trapezoids'])\n",
    "num_rects_slider = widgets.IntSlider(description='Rectangles', min=1, max=50, step=1)\n",
    "\n",
    "interact(basic_riemann, approx_type=approx_type_dropdown, num_rects=num_rects_slider);"
   ]
  },
  {
   "cell_type": "markdown",
   "id": "098c3903",
   "metadata": {},
   "source": [
    "### Free Response Question 2.2:\n",
    "> After running the above code, describe how the number of rectangles influences the approximation error. How does the choice of method (rectangle vs. trapezoid) affect the result?"
   ]
  },
  {
   "cell_type": "markdown",
   "id": "b3b95ae4",
   "metadata": {},
   "source": [
    "Your Answer Here"
   ]
  },
  {
   "cell_type": "markdown",
   "id": "0ecd8ef6",
   "metadata": {},
   "source": [
    "<hr style=\"border: 2px solid #003262\">\n",
    "<hr style=\"border: 2px solid #C9B676\">"
   ]
  },
  {
   "cell_type": "markdown",
   "id": "e8f9a7c9",
   "metadata": {},
   "source": [
    "## 3. Interactive Visualizations"
   ]
  },
  {
   "cell_type": "markdown",
   "id": "6e1e8577",
   "metadata": {},
   "source": [
    "### 3.1. Visualizing Riemann Sums for a Fixed Function\n",
    "\n",
    "In this section, we revisit the function\n",
    "$$\n",
    "f(x) = x(x-1)(x-2)\n",
    "$$\n",
    "and compare different approximation methods interactively. Adjust the number of rectangles and observe how the estimated area converges as you refine the partition."
   ]
  },
  {
   "cell_type": "code",
   "execution_count": null,
   "id": "1ab23991",
   "metadata": {},
   "outputs": [
    {
     "data": {
      "application/vnd.jupyter.widget-view+json": {
       "model_id": "518188da6cae42558116cfa41521b2a9",
       "version_major": 2,
       "version_minor": 0
      },
      "text/plain": [
       "interactive(children=(Dropdown(description='approx_type', index=3, options=('Left Endpoints', 'Right Endpoints…"
      ]
     },
     "metadata": {},
     "output_type": "display_data"
    }
   ],
   "source": [
    "def compare_riemann_methods(approx_type, num_rects):\n",
    "    fig, ax = plt.subplots(figsize=(8, 4))\n",
    "    xs = np.linspace(0, 2.5, 300)\n",
    "    ax.plot(xs, f(xs), 'k-', label=\"f(x)\")\n",
    "    \n",
    "    rectangle_width = 2.5 / num_rects\n",
    "    rectangle_xs = np.arange(0, 2.5, rectangle_width)\n",
    "    area_approx = 0\n",
    "    for x in rectangle_xs:\n",
    "        if approx_type == 'Trapezoids':\n",
    "            x1 = x\n",
    "            x2 = x + rectangle_width\n",
    "            y1 = f(x1)\n",
    "            y2 = f(x2)\n",
    "            ax.add_patch(plt.Polygon([[x1, 0], [x1, y1], [x2, y2], [x2, 0]], alpha=0.5, facecolor='green'))\n",
    "            area_approx += 0.5 * rectangle_width * (y1 + y2)\n",
    "        else:\n",
    "            if approx_type == 'Left Endpoints':\n",
    "                y = f(x)\n",
    "            elif approx_type == 'Right Endpoints':\n",
    "                y = f(x + rectangle_width)\n",
    "            elif approx_type == 'Center Points':\n",
    "                y = f(x + rectangle_width/2)\n",
    "            ax.add_patch(Rectangle((x, 0), rectangle_width, y, alpha=0.5, facecolor='purple'))\n",
    "            area_approx += rectangle_width * y\n",
    "\n",
    "    ax.set_title(f\"{approx_type} Approximation with {num_rects} Rectangles\")\n",
    "    ax.set_xlabel(\"x\")\n",
    "    ax.set_ylabel(\"f(x)\")\n",
    "    ax.legend()\n",
    "    plt.show()\n",
    "    print(\"Approximated Area:\", area_approx)\n",
    "\n",
    "interact(compare_riemann_methods, approx_type=approx_type_dropdown, num_rects=num_rects_slider);"
   ]
  },
  {
   "cell_type": "markdown",
   "id": "a3895991",
   "metadata": {},
   "source": [
    "### Free Response Question 3.1:\n",
    "> Compare the output from different approximation methods for the fixed function. Which method appears to be the most accurate in your opinion and why?"
   ]
  },
  {
   "cell_type": "markdown",
   "id": "b009e54a",
   "metadata": {},
   "source": [
    "Your Answer Here"
   ]
  },
  {
   "cell_type": "markdown",
   "id": "224b9d2c",
   "metadata": {},
   "source": [
    "### 3.2. Dynamic Function Exploration\n",
    "\n",
    "Now extend your exploration to a dynamic function where you can adjust the coefficients in the cubic function\n",
    "$$\n",
    "f(x) = ax^3 + bx^2 + cx + d.\n",
    "$$\n",
    "Experiment with different shapes and observe how the Riemann sum approximation changes."
   ]
  },
  {
   "cell_type": "code",
   "execution_count": null,
   "id": "ad0c0213",
   "metadata": {},
   "outputs": [
    {
     "data": {
      "application/vnd.jupyter.widget-view+json": {
       "model_id": "89f3eff325d841659475c9c9f3c71ca4",
       "version_major": 2,
       "version_minor": 0
      },
      "text/plain": [
       "interactive(children=(FloatSlider(value=1.0, description='a', max=5.0, min=-5.0), FloatSlider(value=-3.0, desc…"
      ]
     },
     "metadata": {},
     "output_type": "display_data"
    }
   ],
   "source": [
    "def dynamic_f(x, a, b, c, d):\n",
    "    return a * x**3 + b * x**2 + c * x + d\n",
    "\n",
    "a_slider = widgets.FloatSlider(value=1.0, min=-5.0, max=5.0, step=0.1, description='a')\n",
    "b_slider = widgets.FloatSlider(value=-3.0, min=-5.0, max=5.0, step=0.1, description='b')\n",
    "c_slider = widgets.FloatSlider(value=2.0, min=-5.0, max=5.0, step=0.1, description='c')\n",
    "d_slider = widgets.FloatSlider(value=0.0, min=-5.0, max=5.0, step=0.1, description='d')\n",
    "\n",
    "def render_dynamic_riemann(a, b, c, d, approx_type, num_rects):\n",
    "    def f_dynamic(x):\n",
    "        return dynamic_f(x, a, b, c, d)\n",
    "    \n",
    "    fig, ax = plt.subplots(figsize=(8, 4))\n",
    "    xs = np.linspace(0, 2.5, 300)\n",
    "    ys = f_dynamic(xs)\n",
    "    ax.plot(xs, ys, 'k-', label=\"f(x)\")\n",
    "    \n",
    "    rectangle_width = 2.5 / num_rects\n",
    "    rectangle_xs = np.arange(0, 2.5, rectangle_width)\n",
    "    area_approx = 0\n",
    "    for x in rectangle_xs:\n",
    "        if approx_type == 'Trapezoids':\n",
    "            x1 = x\n",
    "            x2 = x + rectangle_width\n",
    "            y1 = f_dynamic(x1)\n",
    "            y2 = f_dynamic(x2)\n",
    "            ax.add_patch(plt.Polygon([[x1, 0], [x1, y1], [x2, y2], [x2, 0]], alpha=0.5, facecolor='red'))\n",
    "            area_approx += 0.5 * rectangle_width * (y1 + y2)\n",
    "        else:\n",
    "            if approx_type == 'Left Endpoints':\n",
    "                y = f_dynamic(x)\n",
    "            elif approx_type == 'Right Endpoints':\n",
    "                y = f_dynamic(x + rectangle_width)\n",
    "            elif approx_type == 'Center Points':\n",
    "                y = f_dynamic(x + rectangle_width/2)\n",
    "            ax.add_patch(Rectangle((x, 0), rectangle_width, y, alpha=0.5, facecolor='blue'))\n",
    "            area_approx += rectangle_width * y\n",
    "\n",
    "    ax.set_title(f\"Dynamic f(x) with {approx_type} Approximation ({num_rects} Rectangles)\")\n",
    "    ax.set_xlabel(\"x\")\n",
    "    ax.set_ylabel(\"f(x)\")\n",
    "    ax.legend()\n",
    "    plt.show()\n",
    "    print(\"Approximated Area:\", area_approx)\n",
    "\n",
    "interact(render_dynamic_riemann, \n",
    "         a=a_slider, b=b_slider, c=c_slider, d=d_slider, \n",
    "         approx_type=approx_type_dropdown, \n",
    "         num_rects=num_rects_slider);"
   ]
  },
  {
   "cell_type": "markdown",
   "id": "5fde90f5",
   "metadata": {},
   "source": [
    "### Free Response Question 3.2:\n",
    "> By adjusting the coefficients $a$, $b$, $c$, and $d$, what changes do you observe in the shape of $f(x)$? How do these changes affect the accuracy of the Riemann sum approximation?"
   ]
  },
  {
   "cell_type": "markdown",
   "id": "0d96e68e",
   "metadata": {},
   "source": [
    "Your Answer Here"
   ]
  },
  {
   "cell_type": "markdown",
   "id": "e7d33aa2",
   "metadata": {},
   "source": [
    "<hr style=\"border: 2px solid #003262\">\n",
    "<hr style=\"border: 2px solid #C9B676\">"
   ]
  },
  {
   "cell_type": "markdown",
   "id": "4f9d76d6",
   "metadata": {},
   "source": [
    "## 4. Mathematical Derivations"
   ]
  },
  {
   "cell_type": "markdown",
   "id": "ed5424c7",
   "metadata": {},
   "source": [
    "### 4.1. Derivation of the Trapezoidal Rule\n",
    "\n",
    "Let’s derive the trapezoidal rule for approximating the integral of $f(x)$ over $[a, b]$. Divide the interval into $n$ equal subintervals where\n",
    "\n",
    "$$\n",
    "\\Delta x = \\frac{b-a}{n}.\n",
    "$$\n",
    "\n",
    "For a subinterval $[x_i, x_{i+1}]$, the area of the trapezoid is given by:\n",
    "\n",
    "$$\n",
    "\\text{Area}i = \\frac{\\Delta x}{2}\\Big[f(x_i) + f(x{i+1})\\Big].\n",
    "$$\n",
    "\n",
    "Summing over all subintervals, we have:\n",
    "\n",
    "$$\n",
    "\\int_a^b f(x),dx \\approx \\frac{\\Delta x}{2}\\Big[f(x_0) + 2f(x_1) + 2f(x_2) + \\cdots + 2f(x_{n-1}) + f(x_n)\\Big].\n",
    "$$\n",
    "\n",
    "Note that the interior terms are multiplied by 2 because each value is used in the area calculation of two adjacent trapezoids."
   ]
  },
  {
   "cell_type": "markdown",
   "id": "0b2403ab",
   "metadata": {},
   "source": [
    "### Free Response Question 4.1:\n",
    "> In your own words, explain the reasoning behind multiplying the interior terms by 2 in the trapezoidal rule formula."
   ]
  },
  {
   "cell_type": "markdown",
   "id": "10aa547c",
   "metadata": {},
   "source": [
    "Your Answer Here"
   ]
  },
  {
   "cell_type": "markdown",
   "id": "722289d3",
   "metadata": {},
   "source": [
    "<hr style=\"border: 2px solid #003262\">\n",
    "<hr style=\"border: 2px solid #C9B676\">"
   ]
  },
  {
   "cell_type": "markdown",
   "id": "807c0131",
   "metadata": {},
   "source": [
    "## 5. Free Response Questions and Reflections"
   ]
  },
  {
   "cell_type": "markdown",
   "id": "a2d7033b",
   "metadata": {},
   "source": [
    "### Free Response Question 5.1:\n",
    "> Discuss how the error in a Riemann sum approximation changes as the number of subintervals increases. Why does the error generally decrease?"
   ]
  },
  {
   "cell_type": "markdown",
   "id": "df68fbfa",
   "metadata": {},
   "source": [
    "Your Answer Here"
   ]
  },
  {
   "cell_type": "markdown",
   "id": "e197ff6d",
   "metadata": {},
   "source": [
    "### Free Response Question 5.2:\n",
    "> Compare the performance of the trapezoidal rule with that of the rectangle-based methods. Under what conditions might one be preferred over the others?"
   ]
  },
  {
   "cell_type": "markdown",
   "id": "c2b85880",
   "metadata": {},
   "source": [
    "Your Answer Here"
   ]
  },
  {
   "cell_type": "markdown",
   "id": "8c83b155",
   "metadata": {},
   "source": [
    "<hr style=\"border: 2px solid #003262\">\n",
    "<hr style=\"border: 2px solid #C9B676\">"
   ]
  },
  {
   "cell_type": "markdown",
   "id": "14fa554c",
   "metadata": {},
   "source": [
    "## 6. Conclusion"
   ]
  },
  {
   "cell_type": "markdown",
   "id": "d498360c",
   "metadata": {},
   "source": [
    "In this lesson, you explored the process of approximating the area under a curve using Riemann sums. You learned about several methods—left endpoint, right endpoint, midpoint, and the trapezoidal rule—and saw how increasing the number of subintervals improves accuracy. The interactive visualizations allowed you to experiment with both a fixed function and a dynamically adjustable function, deepening your understanding of numerical integration.\n",
    "\n",
    "### Final Reflection:\n",
    "> How might numerical integration techniques like those covered in this lesson be applied to real-world problems or other areas of mathematics?"
   ]
  },
  {
   "cell_type": "markdown",
   "id": "aaf78e88",
   "metadata": {},
   "source": [
    "Your Answer Here"
   ]
  },
  {
   "cell_type": "markdown",
   "id": "ebece844",
   "metadata": {},
   "source": [
    "Well done! Continue to experiment with the provided code, explore new functions, and reflect on the implications of these approximation methods in both theoretical and practical contexts."
   ]
  }
 ],
 "metadata": {
  "kernelspec": {
   "display_name": "Python 3",
   "language": "python",
   "name": "python3"
  },
  "language_info": {
   "codemirror_mode": {
    "name": "ipython",
    "version": 3
   },
   "file_extension": ".py",
   "mimetype": "text/x-python",
   "name": "python",
   "nbconvert_exporter": "python",
   "pygments_lexer": "ipython3",
   "version": "3.11.2"
  }
 },
 "nbformat": 4,
 "nbformat_minor": 5
}
