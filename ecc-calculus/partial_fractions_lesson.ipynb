{
 "cells": [
  {
   "cell_type": "code",
   "execution_count": 1,
   "id": "73526ccd",
   "metadata": {},
   "outputs": [],
   "source": [
    "import numpy as np\n",
    "import matplotlib.pyplot as plt\n",
    "from matplotlib.patches import Rectangle\n",
    "from ipywidgets import interact\n",
    "import ipywidgets as widgets\n",
    "from sympy import Symbol, Eq, solve_undetermined_coeffs, apart"
   ]
  },
  {
   "cell_type": "markdown",
   "id": "13cb39aa",
   "metadata": {},
   "source": [
    "# Understanding Partial Fraction Decomposition\n",
    "\n",
    "**Estimated Time**: 30-45 Minutes  \n",
    "**Developers**: Jonathan Ferrari\n",
    "\n",
    "---\n",
    "\n",
    "## Table of Contents\n",
    "\n",
    "- 1. **Introduction**\n",
    "   - 1.1. Learning Objectives\n",
    "   - 1.2. What is Partial Fraction Decomposition?\n",
    "   - 1.3. Importance in Mathematics\n",
    "\n",
    "- 2. **Fundamentals of Partial Fractions**\n",
    "   - 2.1. Steps for Partial Fraction Decomposition\n",
    "   - 2.2. Example with Detailed Steps\n",
    "   - 2.3. Solving Algebraically\n",
    "\n",
    "- 3. **Interactive Examples**\n",
    "   - 3.1. Example 1: Basic Partial Fraction Decomposition\n",
    "   - 3.2. Example 2: Decomposition with Repeated Factors\n",
    "   - 3.3. Example 3: Decomposition with Quadratic Factors\n",
    "\n",
    "- 4. **Free Response Questions and Reflections**\n",
    "\n",
    "- 5. **Conclusion**\n",
    "\n",
    "---\n",
    "\n",
    "## 1. Introduction\n",
    "\n",
    "### 1.1. Learning Objectives\n",
    "\n",
    "In this lesson, you will:\n",
    "\n",
    "- Understand the purpose and method of partial fraction decomposition.\n",
    "- Learn to factor polynomial denominators effectively.\n",
    "- Solve partial fraction decompositions algebraically.\n",
    "- Interact with examples using symbolic computation (SymPy).\n",
    "- Reflect on your understanding through guided questions.\n",
    "\n",
    "### 1.2. What is Partial Fraction Decomposition?\n",
    "\n",
    "Partial fraction decomposition (PFD) breaks down complex rational expressions into simpler fractions, which makes integration and other mathematical operations easier. It is especially useful in calculus and algebraic simplifications.\n",
    "\n",
    "### 1.3. Importance in Mathematics\n",
    "\n",
    "Partial fraction decomposition is fundamental in calculus, particularly for integrating rational functions, solving differential equations, and analyzing Laplace transforms.\n",
    "\n",
    "---\n",
    "\n",
    "## 2. Fundamentals of Partial Fractions\n",
    "\n",
    "### 2.1. Steps for Partial Fraction Decomposition\n",
    "\n",
    "To decompose a rational function:\n",
    "\n",
    "1. Factor the denominator into irreducible factors.\n",
    "2. Write the rational function as a sum of fractions with unknown numerators.\n",
    "3. Multiply both sides by the common denominator.\n",
    "4. Equate coefficients of corresponding powers of x to solve for unknowns.\n",
    "\n",
    "### 2.2. Example with Detailed Steps\n",
    "\n",
    "Given:\n",
    "\n",
    "$$\n",
    "f(x) = \\frac{1}{x^2 + 2x - 3}\n",
    "$$\n",
    "\n",
    "First, factor the denominator:\n",
    "\n",
    "$$\n",
    "x^2 + 2x - 3 = (x + 3)(x - 1)\n",
    "$$\n",
    "\n",
    "Thus, we have:\n",
    "\n",
    "$$\n",
    "\\frac{1}{x^2 + 2x - 3} = \\frac{A}{x + 3} + \\frac{B}{x - 1}\n",
    "$$\n",
    "\n",
    "### 2.3. Solving Algebraically\n",
    "\n",
    "Multiplying through by the denominator:\n",
    "\n",
    "$$\n",
    "1 = A(x - 1) + B(x + 3)\n",
    "$$\n",
    "\n",
    "Expanding and grouping like terms:\n",
    "\n",
    "$$\n",
    "1 = Ax - A + Bx + 3B = (A + B)x + (-A + 3B)\n",
    "$$\n",
    "\n",
    "Equating coefficients:\n",
    "\n",
    "$$\n",
    "0 = A + B \\quad \\text{and} \\quad 1 = -A + 3B\n",
    "$$\n",
    "\n",
    "We solve using SymPy:"
   ]
  },
  {
   "cell_type": "code",
   "execution_count": 2,
   "id": "c95eb614",
   "metadata": {},
   "outputs": [
    {
     "data": {
      "text/plain": [
       "{A: -1/4, B: 1/4}"
      ]
     },
     "execution_count": 2,
     "metadata": {},
     "output_type": "execute_result"
    }
   ],
   "source": [
    "from sympy import Symbol, Eq, solve_undetermined_coeffs\n",
    "\n",
    "A = Symbol('A')\n",
    "B = Symbol('B')\n",
    "x = Symbol('x')\n",
    "\n",
    "solve_undetermined_coeffs(Eq(1, A * (x - 1) + B * (x + 3)), [A, B], x)"
   ]
  },
  {
   "cell_type": "code",
   "execution_count": 3,
   "id": "f8b5a6bd",
   "metadata": {},
   "outputs": [
    {
     "data": {
      "text/latex": [
       "$\\displaystyle 1 = A \\left(x - 1\\right) + B \\left(x + 3\\right)$"
      ],
      "text/plain": [
       "Eq(1, A*(x - 1) + B*(x + 3))"
      ]
     },
     "execution_count": 3,
     "metadata": {},
     "output_type": "execute_result"
    }
   ],
   "source": [
    "equation1 = Eq(1, A * (x - 1) + B * (x + 3))\n",
    "equation1"
   ]
  },
  {
   "cell_type": "markdown",
   "id": "2a32046a",
   "metadata": {},
   "source": [
    "---\n",
    "\n",
    "## 3. Interactive Examples\n",
    "\n",
    "### 3.1. Example 1: Basic Partial Fraction Decomposition\n",
    "\n",
    "Using SymPy to directly verify the result:"
   ]
  },
  {
   "cell_type": "code",
   "execution_count": 7,
   "id": "2fb0d9fd",
   "metadata": {},
   "outputs": [
    {
     "data": {
      "text/latex": [
       "$\\displaystyle - \\frac{1}{4 \\left(x + 3\\right)} + \\frac{1}{4 \\left(x - 1\\right)}$"
      ],
      "text/plain": [
       "-1/(4*(x + 3)) + 1/(4*(x - 1))"
      ]
     },
     "execution_count": 7,
     "metadata": {},
     "output_type": "execute_result"
    }
   ],
   "source": [
    "from sympy import apart\n",
    "\n",
    "apart(1 / (x**2 + 2*x - 3))"
   ]
  },
  {
   "cell_type": "markdown",
   "id": "4ffbb649",
   "metadata": {},
   "source": [
    "### Free Response Question 3.1:\n",
    "> How does verifying your result with SymPy help in understanding the algebraic process?\n",
    "\n",
    "Your Answer Here\n",
    "\n",
    "---\n",
    "\n",
    "### 3.2. Example 2: Decomposition with Repeated Factors\n",
    "\n",
    "Decompose:\n",
    "\n",
    "$$\n",
    "\\frac{1}{(x-1)(x+2)^2}\n",
    "$$"
   ]
  },
  {
   "cell_type": "code",
   "execution_count": 9,
   "id": "944cdb5d",
   "metadata": {},
   "outputs": [
    {
     "data": {
      "text/plain": [
       "{A: 1/9, B: -1/9, C: -1/3}"
      ]
     },
     "execution_count": 9,
     "metadata": {},
     "output_type": "execute_result"
    }
   ],
   "source": [
    "C = Symbol('C')\n",
    "solve_undetermined_coeffs(Eq(1, A*(x+2)**2 + B*(x-1)*(x+2) + C*(x-1)), [A, B, C], x)"
   ]
  },
  {
   "cell_type": "markdown",
   "id": "7e14559d",
   "metadata": {},
   "source": [
    "### Free Response Question 3.2:\n",
    "> Explain the importance of separate terms for repeated factors.\n",
    "\n",
    "Your Answer Here\n",
    "\n",
    "---\n",
    "\n",
    "### 3.3. Example 3: Decomposition with Quadratic Factors\n",
    "\n",
    "Decompose:\n",
    "\n",
    "$$\n",
    "\\frac{1}{(x-1)(x^2 + 2x + 5)}\n",
    "$$"
   ]
  },
  {
   "cell_type": "code",
   "execution_count": 5,
   "id": "4a3ef32a",
   "metadata": {},
   "outputs": [
    {
     "data": {
      "text/plain": [
       "{A: 1/8, B: -1/8, C: -3/8}"
      ]
     },
     "execution_count": 5,
     "metadata": {},
     "output_type": "execute_result"
    }
   ],
   "source": [
    "solve_undetermined_coeffs(Eq(1, A*(x**2 + 2*x + 5) + (B*x + C)*(x-1)), [A, B, C], x)"
   ]
  },
  {
   "cell_type": "markdown",
   "id": "653e9c8c",
   "metadata": {},
   "source": [
    "### Free Response Question 3.3:\n",
    "> Why do quadratic terms require both a linear numerator and constant term?\n",
    "\n",
    "Your Answer Here\n",
    "\n",
    "---\n",
    "\n",
    "## 4. Free Response Questions and Reflections\n",
    "\n",
    "### Question 4.1:\n",
    "> Discuss how partial fraction decomposition simplifies integration problems.\n",
    "\n",
    "Your Answer Here\n",
    "\n",
    "### Question 4.2:\n",
    "> Reflect on algebraic vs computational methods for partial fractions.\n",
    "\n",
    "Your Answer Here\n",
    "\n",
    "---\n",
    "\n",
    "## 5. Conclusion\n",
    "\n",
    "You explored partial fraction decomposition, practiced algebraic and computational methods, and reflected on the importance of this technique.\n",
    "\n",
    "### Final Reflection:\n",
    "> What aspect of partial fraction decomposition do you find most challenging?\n",
    "\n",
    "Your Answer Here"
   ]
  }
 ],
 "metadata": {
  "kernelspec": {
   "display_name": "Python 3",
   "language": "python",
   "name": "python3"
  },
  "language_info": {
   "codemirror_mode": {
    "name": "ipython",
    "version": 3
   },
   "file_extension": ".py",
   "mimetype": "text/x-python",
   "name": "python",
   "nbconvert_exporter": "python",
   "pygments_lexer": "ipython3",
   "version": "3.12.7"
  }
 },
 "nbformat": 4,
 "nbformat_minor": 5
}
