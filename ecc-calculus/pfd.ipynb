{
 "cells": [
  {
   "cell_type": "code",
   "execution_count": null,
   "metadata": {},
   "outputs": [],
   "source": [
    "import numpy as np\n",
    "import matplotlib.pyplot as plt\n",
    "from matplotlib.patches import Rectangle\n",
    "from ipywidgets import interact\n",
    "import ipywidgets as widgets\n",
    "from sympy import Symbol, Eq, solve_undetermined_coeffs, apart"
   ]
  },
  {
   "cell_type": "markdown",
   "metadata": {},
   "source": [
    "# Partial Fractions\n",
    "\n",
    "This example was copied from [Wikipedia](https://en.wikipedia.org/wiki/Partial_fraction_decomposition).\n",
    "\n",
    "For example, we want to decompose:\n",
    "$$\n",
    "f(x) = \\frac{1}{x^2 + 2x - 3}\n",
    "$$\n",
    "\n",
    "First, we factor:\n",
    "$$\n",
    "q(x) = x^2 + 2x - 3 = (x + 3)(x - 1)\n",
    "$$\n",
    "\n",
    "So we have the PFD:\n",
    "$$\n",
    "f(x) = \\frac{1}{x^2 + 2x - 3} = \\frac{A}{x + 3} + \\frac{B}{x - 1}\n",
    "$$\n",
    "\n",
    "Giving us the polynomial identity:\n",
    "$$\n",
    "\\begin{align*}\n",
    "1 &= A(x - 1) + B(x + 3) \\\\\n",
    "1 &= Ax - A + Bx + 3B \\\\\n",
    "0x + 1 &= (A + B)x + (-A + 3B) \\\\\n",
    "\\implies \\\\\n",
    "0 &= A + B \\\\\n",
    "1 &= -A + 3B\n",
    "\\end{align*}\n",
    "$$\n",
    "\n",
    "Which we can solve using SymPy:"
   ]
  },
  {
   "cell_type": "code",
   "execution_count": null,
   "metadata": {},
   "outputs": [
    {
     "data": {
      "text/plain": [
       "{A: -1/4, B: 1/4}"
      ]
     },
     "metadata": {},
     "output_type": "display_data"
    }
   ],
   "source": [
    "A = Symbol('A')\n",
    "B = Symbol('B')\n",
    "x = Symbol('x')\n",
    "solve_undetermined_coeffs(Eq(1, A * (x - 1) + B * (x + 3)), [A, B], x)"
   ]
  },
  {
   "cell_type": "markdown",
   "metadata": {},
   "source": [
    "[Docs for `solve_undteremined_coeffs`](https://docs.sympy.org/latest/modules/solvers/solvers.html#sympy.solvers.solvers.solve_undetermined_coeffs)"
   ]
  },
  {
   "cell_type": "markdown",
   "metadata": {},
   "source": [
    "We can also have SymPy perform the entire PFD but this probably defeats the purpose:"
   ]
  },
  {
   "cell_type": "code",
   "execution_count": null,
   "metadata": {},
   "outputs": [
    {
     "data": {
      "text/latex": [
       "$\\displaystyle - \\frac{1}{4 \\left(x + 3\\right)} + \\frac{1}{4 \\left(x - 1\\right)}$"
      ],
      "text/plain": [
       "-1/(4*(x + 3)) + 1/(4*(x - 1))"
      ]
     },
     "metadata": {},
     "output_type": "display_data"
    }
   ],
   "source": [
    "apart(1 / (x**2 + 2*x - 3))"
   ]
  },
  {
   "cell_type": "markdown",
   "metadata": {},
   "source": [
    "$$\n",
    "\\frac{1}{(x-1)(x+2)^2} = \\frac{A}{x-1} + \\frac{B}{x+2} + \\frac{C}{(x+2)^2}\n",
    "$$\n",
    "\n",
    "$$\n",
    "\\frac{1}{(x-1)(x^2 + 2x + 5)} = \\frac{A}{x-1} + \\frac{Bx + C}{x^2 + 2x + 5}\n",
    "$$\n",
    "\n",
    "$$\n",
    "\\frac{1}{(x-1)(x^2 + 2x + 5)^2} = \\frac{A}{x - 1} + \\frac{Bx + C}{x^2 + 2x + 5} + \\frac{Dx + E}{(x^2 + 2x + 5)^2}\n",
    "$$"
   ]
  },
  {
   "cell_type": "markdown",
   "metadata": {},
   "source": [
    "## question 1\n",
    "\n",
    "$$\n",
    "1 = A(x+2)^2 + B(x-1)(x+2) + C(x-1)\n",
    "$$"
   ]
  },
  {
   "cell_type": "code",
   "execution_count": null,
   "metadata": {},
   "outputs": [
    {
     "data": {
      "text/plain": [
       "{A: 1/9, B: -1/9, C: -1/3}"
      ]
     },
     "metadata": {},
     "output_type": "display_data"
    }
   ],
   "source": [
    "C = Symbol('C')\n",
    "solve_undetermined_coeffs(Eq(1, A * (x + 2) ** 2 + B * (x - 1) * (x + 2) + C * (x-1)), [A, B, C], x)"
   ]
  },
  {
   "cell_type": "markdown",
   "metadata": {},
   "source": [
    "## question 3"
   ]
  },
  {
   "cell_type": "code",
   "execution_count": null,
   "metadata": {},
   "outputs": [
    {
     "data": {
      "text/plain": [
       "{A: 1/64, B: -1/64, C: -3/64, D: -1/8, E: -3/8}"
      ]
     },
     "metadata": {},
     "output_type": "display_data"
    }
   ],
   "source": [
    "D = Symbol('D')\n",
    "E = Symbol('E')\n",
    "\n",
    "solve_undetermined_coeffs(Eq(1, A * (x ** 2 + 2 * x + 5) ** 2 + (B * x + C) * (x - 1) * (x ** 2 + 2 * x + 5) + (D * x + E) * (x-1)), [A, B, C, D, E], x)"
   ]
  }
 ],
 "metadata": {
  "language_info": {
   "name": "python"
  }
 },
 "nbformat": 4,
 "nbformat_minor": 2
}
