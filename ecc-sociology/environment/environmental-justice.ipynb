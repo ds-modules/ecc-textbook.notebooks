{
 "cells": [
  {
   "cell_type": "code",
   "execution_count": null,
   "id": "8b9d58df-2f7d-43ff-a4b2-fc63b020c02e",
   "metadata": {},
   "outputs": [],
   "source": [
    "import pandas as pd\n",
    "from functions.interact import *\n",
    "from data import *\n",
    "from IPython.display import YouTubeVideo"
   ]
  },
  {
   "cell_type": "markdown",
   "id": "4e64c0b4-de4f-4b9d-b2c5-b32037267ddb",
   "metadata": {},
   "source": [
    "# Environmental Justice "
   ]
  },
  {
   "cell_type": "markdown",
   "id": "cb454c82-cd0f-4489-980e-e04424b6ce70",
   "metadata": {},
   "source": [
    "___\n",
    "*Estimated Time: ~20 minutes*\n",
    "___"
   ]
  },
  {
   "cell_type": "markdown",
   "id": "687482fa-f164-41f3-9e48-5336fbac05ce",
   "metadata": {},
   "source": [
    "- Introduction: Environmental Justice in Sociology\n",
    "- Comparing average AQI in Los Angeles to the rest of California\n",
    "- Exploring Racial Disparities in Environmental Factors in Los Angeles County\n",
    "    - Pollution vs Health Outcome\n",
    "    - Race Groups vs Environmental/ Health Factors [MAP]\n",
    "    - Race Groups vs Environmental/ Health Factors [PLOT]\n",
    "- Reflecting on What You Just Learned\n",
    "- Conclusion"
   ]
  },
  {
   "cell_type": "markdown",
   "id": "268b653f",
   "metadata": {},
   "source": [
    "## About the Author"
   ]
  },
  {
   "cell_type": "markdown",
   "id": "1e421d76",
   "metadata": {},
   "source": [
    "Run the cell below to display a YouTube video about the author!"
   ]
  },
  {
   "cell_type": "code",
   "execution_count": null,
   "id": "a304c298",
   "metadata": {},
   "outputs": [],
   "source": [
    "YouTubeVideo('XtCcZtLrgCk', width=450, height=300)"
   ]
  },
  {
   "cell_type": "markdown",
   "id": "7d9afd8b-a64e-419f-81eb-286fca6df603",
   "metadata": {},
   "source": [
    "## Introduction: Environmental Justice in Sociology"
   ]
  },
  {
   "cell_type": "markdown",
   "id": "265f907f-60c6-4465-bc9f-418217417edf",
   "metadata": {},
   "source": [
    "Environmental justice is a crucial topic in Sociology because it highlights the intersection of social inequality, environmental policy, and public health. It supports the notion that all communities—regardless of race, income, or location—should have access to a clean and healthy environment. However, research and policy discussions have shown that pollution exposure and environmental hazards may not be evenly distributed in some places. Particularly in [LA County](http://www.publichealth.lacounty.gov/eh/about/environmental-justice.htm), low-income neighborhoods and communities of color are often disproportionately affected by hazardous environmenetal conditions, leading to significant health outcomes.\n",
    "\n",
    "This notebook utilizes a data-driven approach to analyze and visualize environmental justice issues in Los Angeles County. Using statistical analysis, visualization, and geospatial data, we will explore how environmental hazards and health burdens vary across different racial groups. This analysis is essential for identifying systemic inequalities in environmental hazards exposure and can help guide effective policy interventions.\n",
    "\n",
    "First, we will explore a portion of the case study derived from [Kaggle](https://www.kaggle.com/code/yakhyojon/air-quality-statistical-and-hypothesis-testing/notebook) which observes the average AQI variation across different states where Ripple Renewable Energy operates. The Air Quality Index (AQI) is the Environmental Protection Agency's index for reporting air quality. A value close to 0 signals little to no public health concern, while higher values are associated with increased risk to public health. To learn more about the study, feel free to visit the website linked above. \n",
    "\n",
    "**Please run the cells below to extract the data and calculate the average AQI for each listed State.**"
   ]
  },
  {
   "cell_type": "code",
   "execution_count": null,
   "id": "94d05530-6aee-40e4-8e22-438e40ddbc8f",
   "metadata": {},
   "outputs": [],
   "source": [
    "aqi_data = pd.read_csv(\"data/c4_epa_air_quality.csv\")"
   ]
  },
  {
   "cell_type": "code",
   "execution_count": null,
   "id": "85493010-d4c8-4eaf-960d-48733c5b01d5",
   "metadata": {},
   "outputs": [],
   "source": [
    "states = ['California','Florida','Michigan','Ohio','Pennsylvania','Texas']\n",
    "aqi_states = aqi_data[aqi_data['state_name'].isin(states)]\n",
    "aqi_states.groupby(['state_name']).agg({\"aqi\":\"mean\",\"state_name\":\"count\"}).rename(columns={\"aqi\":\"mean aqi\", \"state_name\": \"obvservations\"})"
   ]
  },
  {
   "cell_type": "code",
   "execution_count": null,
   "id": "6fa4f5bb-92aa-4822-9bc2-1437f0fc4ea7",
   "metadata": {
    "scrolled": true
   },
   "outputs": [],
   "source": [
    "show_plot(aqi_states, 'state_name', 'aqi')"
   ]
  },
  {
   "cell_type": "code",
   "execution_count": null,
   "id": "f932116f-ae95-4b54-b45f-c0b61afde3b9",
   "metadata": {},
   "outputs": [],
   "source": [
    "# Run this cell to answer the question\n",
    "q_1()"
   ]
  },
  {
   "cell_type": "markdown",
   "id": "12045cb5-3deb-4e50-b844-a0d1434e9cb1",
   "metadata": {},
   "source": [
    "## Comparing average AQI in Los Angeles to the rest of California"
   ]
  },
  {
   "cell_type": "markdown",
   "id": "1b52902d-146c-4834-b023-2c0284ad3c52",
   "metadata": {},
   "source": [
    "Let's explore air quality in Los Angeles. For now, we want to know if mean AQI in Los Angeles County is statistically different from the rest of California. Below we will be conducting hypothesis testing. Follow along to understand the process of using statistics to make data inference."
   ]
  },
  {
   "cell_type": "code",
   "execution_count": null,
   "id": "bca923c3-01ae-4884-8985-1f0f8be444f0",
   "metadata": {},
   "outputs": [],
   "source": [
    "ca_la = aqi_data[aqi_data['county_name']=='Los Angeles']\n",
    "ca_other = aqi_data[(aqi_data['state_name']=='California') & (aqi_data['county_name']!='Los Angeles')]"
   ]
  },
  {
   "cell_type": "markdown",
   "id": "d5234bd8-382c-4b52-a22d-701849ddfc29",
   "metadata": {},
   "source": [
    "### STEP 1: Formulating hypothesis\n",
    "\n",
    "**How it works:** Imagine that you and your friends wonder if drinking boba regularly affects your GPA. To test this, you set up two competing ideas: the null hypothesis (H₀), which assumes that drinking boba has no effect on GPA, and the alternative hypothesis (H₁), which suggests that drinking boba lowers GPA. Next, you collect data by surveying students about how often they drink boba and their GPA. To measure whether the difference is meaningful, you set a significance level (usually 0.05, or 5%), meaning you’re okay with a 5% chance of being wrong if you claim there’s a real effect. Then, you run a statistical test, like a t-test, to compare the GPAs of boba drinkers and non-drinkers. This test gives you a p-value, which tells you how likely it is to see a difference in GPA just by random chance. If the p-value is small (≤ 0.05), you reject the null hypothesis and conclude that drinking boba likely lowers GPA. If the p-value is large (> 0.05), you fail to reject the null hypothesis, meaning there isn’t enough evidence to say boba drinking affects GPA.\n",
    "    \n",
    "In general, a hypothesis reframes the objective of a study as a statement, e.g., if the objective of an investigation is to determine if a food coloring is safe, the resulting null hypothesis might be “the food coloring is not safe”, or alternatively that “the food coloring is safe”\n",
    "\n",
    "We usually run hypothesis testing in terms of population distribution so as to determine whether our observation is only due to chance and that there really is no enough evidence to support our claim. Or, that we have strong evidence to support that it really is the case with very high confidence."
   ]
  },
  {
   "cell_type": "markdown",
   "id": "d5105afb-17da-4a68-a642-ffa68f90a7da",
   "metadata": {},
   "source": [
    "Our null and alternative hypothesis are as follows:\n",
    "- $H_0$: There is no difference in the mean AQI between Los Angeles County and the rest of California\n",
    "- $H_A$: There is a difference in the mean AQI between Los Angeles County and the rest of California\n",
    "\n",
    "Significance level ($\\alpha$): 5% "
   ]
  },
  {
   "cell_type": "markdown",
   "id": "c9e9f806-6de4-4b09-a3cd-f454881fcc18",
   "metadata": {},
   "source": [
    "### STEP 2: Determining what type of test to use\n",
    "\n",
    "Since we are comparing the sample means between two independent samples, we will use a two-sample t-test. For more information on statistical tests, \n",
    "[Scribbr](https://www.scribbr.com/statistics/statistical-tests/) breaks it down in more detail. Scroll down to the bottom to find the test flow chart."
   ]
  },
  {
   "cell_type": "markdown",
   "id": "a80785eb-1480-4da3-8799-cfb858db2215",
   "metadata": {},
   "source": [
    "### STEP 3: Computing the p value"
   ]
  },
  {
   "cell_type": "markdown",
   "id": "931286a0-e38f-4796-b9db-3575dab3c78e",
   "metadata": {},
   "source": [
    "A **p-value** helps us determine whether a result is meaningful or just due to chance. It tells us how likely it is to see our data (or something more extreme) if there was actually no real difference (the null hypothesis is true).\n",
    "- Small p-value (≤ 0.05): Unlikely to be just chance → Evidence of a real difference → We reject the null hypothesis.\n",
    "- Large p-value (> 0.05): Could easily happen by chance → Not enough evidence of a real difference → We fail to reject the null hypothesis."
   ]
  },
  {
   "cell_type": "code",
   "execution_count": null,
   "id": "f0e0354e-5ad9-4eb6-8919-755e31ce99e4",
   "metadata": {},
   "outputs": [],
   "source": [
    "stats_result = stats.ttest_ind(a=ca_la['aqi'], b=ca_other['aqi'], equal_var=False)\n",
    "print(f\"p-value: {stats_result.pvalue}\")"
   ]
  },
  {
   "cell_type": "markdown",
   "id": "72c0a769-0e8a-45ce-af37-e16657e04ffa",
   "metadata": {},
   "source": [
    "#### Insight:\n",
    "\n",
    "- p-value: 0.049 (less than 0.05)\n",
    "- we reject the null hypothesis in favor of alternative hypothesis\n",
    "\n",
    "#### Interpretation:\n",
    "**There is significant statistical evidence that there is a difference in the mean AQI between Los Angeles County and the rest of California.** This makes sense due to Los Angeles being substantially more densely populated than the rest of California. Now let's explore racial factors and whether the distribution is fair across the county. That is, are certain groups more likely to live in areas with higher AQI.\n",
    "\n"
   ]
  },
  {
   "cell_type": "markdown",
   "id": "bf8a12d7-92c8-40b4-ade2-6b2d4fba099f",
   "metadata": {},
   "source": [
    "## Exploring the Intersection between Racial Disparities and Environmental/ Health Factors in Los Angeles County"
   ]
  },
  {
   "cell_type": "markdown",
   "id": "8393132d-0739-4c0e-bef1-70a0747ccb2b",
   "metadata": {},
   "source": [
    "Now that we have significant evidence supporting environmental conditions in LA County, we will further analyze how these conditions affect different racial groups. As you run the cells below, aim to use critical thinking skills to assess why certain groups are likely to be exposed to hazardous environmental and health conditions than others. The *chicken vs egg* discussion highlights the proximity of minorities to hazardous sites in urbanized areas. Are minority groups more likely to move in to these areas due to lower costs? Or are toxic sites systematically placed in areas with more minority population?"
   ]
  },
  {
   "cell_type": "markdown",
   "id": "8b9322d8-0d03-4f9c-8181-d445dc536f1c",
   "metadata": {},
   "source": [
    "### Study Area: Los Angeles County"
   ]
  },
  {
   "cell_type": "code",
   "execution_count": null,
   "id": "ec8d9ee0-059e-444a-a2a9-a1c11b42e01d",
   "metadata": {},
   "outputs": [],
   "source": [
    "# our study area is encased within the red bounds \n",
    "showLAmap()"
   ]
  },
  {
   "cell_type": "markdown",
   "id": "f6533325-6a24-4d21-9151-94023bef0097",
   "metadata": {},
   "source": [
    "### DATA"
   ]
  },
  {
   "cell_type": "markdown",
   "id": "6b878f4c-f99b-494e-a9c4-0e9c528e2b26",
   "metadata": {},
   "source": [
    "According to the [Office of Environmental Health Hazard Assessment](https://oehha.ca.gov/), CalEnviroscreen 4.0 was designed to help CalEPA identify disadvantaged communities. SB 535 calls for CalEPA to identify disadvantaged communities based on geographic, socioeconomic, public health and environmental hazard criteria. \n",
    "\n",
    "**We acquired data from [CalEnviroScreen](https://oehha.ca.gov/calenviroscreen/maps-data) for 2021.** Each point in the map corresponds to information on a census tract level. A census tract is a small, relatively permanent geographic area, a subdivision of a county, used by the U.S. Census Bureau to collect and present census data, often roughly corresponding to a neighborhood. Running the cell below will clean up the data \n",
    "and exract the most relevant features for our case study such as:\n",
    "\n",
    "- Census Tract\n",
    "- Population\n",
    "- PM2.5\n",
    "- Cleanup Sites\n",
    "- Haz. Waste\n",
    "- Pollution Burden\n",
    "- Asthma\n",
    "- Cardiovascular Disease\n",
    "- Traffic\n",
    "- Hispanic (%)\n",
    "- White (%)\n",
    "- African American (%)\n",
    "- Asian American (%)"
   ]
  },
  {
   "cell_type": "code",
   "execution_count": null,
   "id": "b2d30cae-070f-42b5-8a4a-19a36f8a5d12",
   "metadata": {},
   "outputs": [],
   "source": [
    "path= \"data/calenviroscreen40resultsdatadictionary_F_2021.xlsx\"\n",
    "enviro_data = clean_enviro_data(path)"
   ]
  },
  {
   "cell_type": "markdown",
   "id": "0d15a9d1-175e-4c7b-95f2-625f3e4dca60",
   "metadata": {},
   "source": [
    "**Feel free to explore the data by uncommenting the cell below.**"
   ]
  },
  {
   "cell_type": "code",
   "execution_count": null,
   "id": "64bf07f6-4ec9-4893-aa12-8591ae258271",
   "metadata": {},
   "outputs": [],
   "source": [
    "#enviro_data"
   ]
  },
  {
   "cell_type": "markdown",
   "id": "9e6a127f-dd67-4814-bf66-73180fad1d37",
   "metadata": {},
   "source": [
    "### Pollution vs Health Outcome"
   ]
  },
  {
   "cell_type": "markdown",
   "id": "5a8937e4-d43a-4b74-bd2d-c4c3aa892bd1",
   "metadata": {},
   "source": [
    "After running the cell below, you will be shown a map that visualizes the relationship between pollution burden and health outcomes in Los Angeles County. "
   ]
  },
  {
   "cell_type": "code",
   "execution_count": null,
   "id": "6543b77e-b615-4292-90aa-43e60359df89",
   "metadata": {},
   "outputs": [],
   "source": [
    "create_pollution_map(enviro_data)  "
   ]
  },
  {
   "cell_type": "markdown",
   "id": "6a95080e-94e2-4058-8ecf-9ab2d33a7941",
   "metadata": {},
   "source": [
    "### Race Groups versus Environmental and Health Factors [MAP]"
   ]
  },
  {
   "cell_type": "markdown",
   "id": "1c681a9d-9df1-4f16-86aa-f728457b21a6",
   "metadata": {},
   "source": [
    "Below you will interact with a map that displays how different factors vary across different racial groups in Los Angeles County. For example, by selecting a pollution factor (such as PM2.5 or hazardous waste) and two racial groups, you might get see that certain groups are more exposed to certain conditions.\n",
    "\n",
    "Note: Each circle marker represents a census tract\n",
    "- Larger circles indicate a greater disparity between the two groups, while smaller circles suggest more similar population proportions in that area. This allows you to see where racial demographic differences are most pronounced in relation to environmental factors like pollution burden, hazardous waste, or air quality.\n",
    "- Color intensity reflects pollution levels, helping identify areas with higher environmental burdens. \n",
    "\n",
    "Use the dropdowns to compare different factors and groups, gaining insights into racial disparities in pollution exposure."
   ]
  },
  {
   "cell_type": "code",
   "execution_count": null,
   "id": "e425d237-0533-4a66-8cb3-1bf680992cde",
   "metadata": {},
   "outputs": [],
   "source": [
    "interactive_pollution_map(enviro_data) "
   ]
  },
  {
   "cell_type": "markdown",
   "id": "18706e97-64ce-426f-b128-889f5841d57c",
   "metadata": {},
   "source": [
    "### Race Groups versus Environmental and Health Factors [PLOT]"
   ]
  },
  {
   "cell_type": "markdown",
   "id": "6df4ff2a-38c3-4b1c-89d0-a180a04e09cb",
   "metadata": {},
   "source": [
    "Below is a scatter plot that compares environmental/health factors and racial demographics in Los Angeles County. Each point represents a census tract, with purple for Group 1 and orange for Group 2. "
   ]
  },
  {
   "cell_type": "code",
   "execution_count": null,
   "id": "bfcbbc0b-70b2-4b25-9180-99686add5809",
   "metadata": {},
   "outputs": [],
   "source": [
    "interactive_scatter_plot(enviro_data) "
   ]
  },
  {
   "cell_type": "markdown",
   "id": "864c094e-546f-471e-ab09-636cc57e45f1",
   "metadata": {},
   "source": [
    "## Reflecting on What You Just Learned"
   ]
  },
  {
   "cell_type": "markdown",
   "id": "854ccdef-7e9f-4a82-a2ae-a2ac7a1abdd1",
   "metadata": {},
   "source": [
    "The interactive maps/ plots above show some disparities in pollution exposure and health outcomes among racial groups in Los Angeles County. Minority communities face higher pollution burdens and increased rates of asthma and cardiovascular disease, raising the chicken-or-egg question in environmental justice: Did toxic sites attract marginalized communities due to housing policies, or were they placed there due to weaker resistance? This creates a reinforcing cycle, where chronic pollution exposure worsens health and economic mobility. The findings highlight systemic inequalities but also raise questions: What policies have shaped these patterns, and how can interventions break this cycle? **Run the cell below.**"
   ]
  },
  {
   "cell_type": "code",
   "execution_count": null,
   "id": "98792860-dfb8-4fc1-bf66-eb5bf7703418",
   "metadata": {},
   "outputs": [],
   "source": [
    "q_5()"
   ]
  },
  {
   "cell_type": "markdown",
   "id": "dc7bf018-cbb8-4124-9d6c-d46687a465b3",
   "metadata": {},
   "source": [
    "## Conclusion"
   ]
  },
  {
   "cell_type": "markdown",
   "id": "fbb184f7-c06e-4893-b2b9-990a5145b968",
   "metadata": {},
   "source": [
    "This notebook highlights environmental inequalities in Los Angeles County, showing how pollution and health risks disproportionately affect marginalized communities. By combining statistical analysis and mapping, we reveal patterns of pollution burden and racial disparities. While data helps quantify these issues, addressing environmental justice requires policy action and community involvement to create lasting change."
   ]
  },
  {
   "cell_type": "markdown",
   "id": "856821a3-794b-4bf3-a8d2-8eb4d1b1e570",
   "metadata": {},
   "source": [
    "Congratulations! You made it to the end."
   ]
  },
  {
   "cell_type": "markdown",
   "id": "0aa96f5d-4844-402c-8559-5eca4da55d64",
   "metadata": {},
   "source": [
    "### Run the cell below to check your answers"
   ]
  },
  {
   "cell_type": "code",
   "execution_count": null,
   "id": "6d374eb2-7f97-4689-8d35-0ae63c0a9bde",
   "metadata": {},
   "outputs": [],
   "source": [
    "grader = otter.Notebook()\n",
    "run_tests()"
   ]
  }
 ],
 "metadata": {
  "kernelspec": {
   "display_name": "Python 3",
   "language": "python",
   "name": "python3"
  },
  "language_info": {
   "codemirror_mode": {
    "name": "ipython",
    "version": 3
   },
   "file_extension": ".py",
   "mimetype": "text/x-python",
   "name": "python",
   "nbconvert_exporter": "python",
   "pygments_lexer": "ipython3",
   "version": "3.12.7"
  }
 },
 "nbformat": 4,
 "nbformat_minor": 5
}
