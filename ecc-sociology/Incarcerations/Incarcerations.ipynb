{
 "cells": [
  {
   "cell_type": "code",
   "execution_count": null,
   "id": "baa975ce",
   "metadata": {
    "deletable": false,
    "editable": false
   },
   "outputs": [],
   "source": [
    "# Initialize Otter\n",
    "import otter\n",
    "grader = otter.Notebook(\"Incarcerations.ipynb\")"
   ]
  },
  {
   "cell_type": "markdown",
   "id": "6a0e4251-db39-4ca1-86cd-6bd4ccd96e71",
   "metadata": {},
   "source": [
    "# Incarceration and Race\n",
    "\n",
    "---\n",
    "\n",
    "You will be learning about events in history that have impacted incarceration rates across different racial groups in the United States.\n",
    "\n",
    "**Estimated Time:** ~30 minutes\n",
    "\n",
    "---\n",
    "\n",
    "## 1. Introduction to Data\n",
    "\n",
    "- a. Overview of Data Table  \n",
    "- b. Explanation of Table Columns  \n",
    "- c. Question 1  \n",
    "- d. First Look  \n",
    "\n",
    "## 2. War on Drugs\n",
    "\n",
    "- a. Introduction to the War on Drugs  \n",
    "- b. Crack vs. Cocaine  \n",
    "- c. Growth Rate of Drug Use  \n",
    "- d. Question 2  \n",
    "- e. 1990s Drug Drop  \n",
    "- f. Percent of Arrests by Population  \n",
    "- g. Questions 3 and 4  \n",
    "\n",
    "## 3. Redlining\n",
    "\n",
    "- a. County-Level Data  \n",
    "- b. Historical Context of Redlining in Counties  \n",
    "- c. Question 5  \n",
    "\n",
    "## 4. Sources\n"
   ]
  },
  {
   "cell_type": "markdown",
   "id": "a5d76fca-9b80-4fb1-a0df-9f69c4f0cb07",
   "metadata": {},
   "source": [
    "### Import Libraries\n",
    "\n",
    "To start off, we need to load some libraries, such as NumPy, that we’ve learned about.  \n",
    "Run the cell below to do so."
   ]
  },
  {
   "cell_type": "code",
   "execution_count": null,
   "id": "0878bd54-237e-40cc-b7cb-ff1cce809a0c",
   "metadata": {},
   "outputs": [],
   "source": [
    "from datascience import * # Loads functions from the datascience library into our current environment\n",
    "import numpy as np # Loads numerical functions\n",
    "import math, random # Loads math and random functions\n",
    "import pandas as pd \n",
    "import matplotlib.pyplot as plt\n",
    "import seaborn as sns\n",
    "from IPython.display import display, Latex, Markdown\n",
    "%matplotlib inline\n",
    "import plotly.express as px\n",
    "import ipywidgets as widgets\n",
    "from IPython.display import display\n",
    "from IPython.display import Video\n",
    "from ipywidgets import interact\n",
    "import warnings\n",
    "warnings.filterwarnings('ignore')\n",
    "import helper as hp"
   ]
  },
  {
   "cell_type": "markdown",
   "id": "d364d118-af80-4b09-b416-6372ea086236",
   "metadata": {},
   "source": [
    "# Helper Video\n",
    "\n",
    "#### Use the following link for a follow-along video to help guide you through the notebook:"
   ]
  },
  {
   "cell_type": "code",
   "execution_count": null,
   "id": "7c3d2863-0d63-4141-863d-d1607e685f38",
   "metadata": {},
   "outputs": [],
   "source": [
    "from IPython.display import YouTubeVideo\n",
    "\n",
    "YouTubeVideo(\"X2NvxzQ2CvI\", width=560, height=315)"
   ]
  },
  {
   "cell_type": "markdown",
   "id": "61961c87-7bcf-456f-b2c8-3b4dfdd9313c",
   "metadata": {},
   "source": [
    "# Introduction "
   ]
  },
  {
   "cell_type": "markdown",
   "id": "7d3474d2-df13-4046-9f1d-5ba892df3571",
   "metadata": {},
   "source": [
    "### Data\n",
    "\n",
    "The Department of Justice (DOJ) Criminal Justice Statistics Center (CJSC) collects information on arrests  \n",
    "and citations (from now on referred to as “arrest(s)”) as reported by law enforcement agencies (LEAs) throughout the state.  \n",
    "The Monthly Arrest and Citation Register (MACR) data are reported monthly by law enforcement agencies (LEAs).  \n",
    "Summary arrest counts are submitted to the Federal Bureau of Investigation’s (FBI) Uniform Crime Reporting Program (UCR).\n",
    "\n",
    "Arrest data provides information on felony- and misdemeanor-level arrests for adults and juveniles,  \n",
    "as well as status offenses (e.g., truancy, incorrigibility, running away, and curfew violations) for juveniles.  \n",
    "The data includes aggregated arrest counts by reporting county, age, gender, and race/ethnic group of the arrestee.  \n",
    "Arrest Disposition data also includes the law enforcement disposition.\n",
    "\n",
    "---\n",
    "\n",
    "Run the cell below to load the data, view the first few rows, and examine the column names.\n"
   ]
  },
  {
   "cell_type": "code",
   "execution_count": null,
   "id": "1d501274-5ec3-457b-84e0-bb3401b19bf6",
   "metadata": {},
   "outputs": [],
   "source": [
    "arrest = hp.arrest\n",
    "arrest"
   ]
  },
  {
   "cell_type": "markdown",
   "id": "3f0c8e5d-258c-462e-8c49-7e4fda61cd22",
   "metadata": {},
   "source": [
    "Run the next cell below to view the columns in our dataset."
   ]
  },
  {
   "cell_type": "code",
   "execution_count": null,
   "id": "9b5badca-0096-45df-9ce8-7e5288e2c24d",
   "metadata": {},
   "outputs": [],
   "source": [
    "print(arrest.columns)"
   ]
  },
  {
   "cell_type": "markdown",
   "id": "1f779965-9a34-4c5a-82b2-1db36db5f082",
   "metadata": {},
   "source": [
    "### Review of Column Labels and Their Descriptions\n",
    "\n",
    "- **Year** – The year the data was recorded, ranging from 1980 to 2023.\n",
    "\n",
    "- **Gender** – The gender of the arrestee, categorized as either male or female.\n",
    "\n",
    "- **Race** – Racial/ethnic group of the arrestee, categorized as White, Black, Hispanic, or Other.\n",
    "\n",
    "- **Age Group** – Age categories grouped as:\n",
    "  - Under 18  \n",
    "  - 18–19  \n",
    "  - 20–29  \n",
    "  - 30–39  \n",
    "  - 40–69  \n",
    "  - 70+\n",
    "\n",
    "- **County** – The California county where the arrest data was collected.\n",
    "\n",
    "- **Violent** – Number of arrests for crimes classified as violent felonies.\n",
    "\n",
    "- **Property** – Number of arrests for crimes classified as property felonies.\n",
    "\n",
    "- **F_Drugoff** – Number of arrests for crimes classified as drug-related felonies.\n",
    "\n",
    "- **F_Sexoff** – Number of arrests for crimes classified as sex-related felonies.\n",
    "\n",
    "- **F_ALLOTHER** – Other felony arrests not categorized under a specific type.\n",
    "\n",
    "- **F_Totalsum** – Total number of felony arrests.\n",
    "\n",
    "- **M_Totalsum** – Total number of misdemeanor arrests.\n",
    "\n",
    "- **S_Total** – Total number of status offenses (e.g., curfew violations, truancy).\n",
    "\n",
    "- **Sum Total** – Total number of all arrests (felony, misdemeanor, and status offenses combined).\n"
   ]
  },
  {
   "cell_type": "markdown",
   "id": "9ab81660-3739-4d5c-abde-e9fb4e130a63",
   "metadata": {
    "deletable": false,
    "editable": false
   },
   "source": [
    "<!-- BEGIN QUESTION -->\n",
    "\n",
    "### <span style=\"color: blue;\">Question One</span>\n",
    "\n",
    "In 2–3 sentences, summarize what this data represents using the information above, the column labels, and the snippet of the data table.  \n",
    "Explain what each row represents, and highlight any personal interests or questions you have about the data.\n"
   ]
  },
  {
   "cell_type": "markdown",
   "id": "a5005c7b",
   "metadata": {
    "tags": [
     "otter_answer_cell"
    ]
   },
   "source": [
    "_Type your answer here, replacing this text._"
   ]
  },
  {
   "cell_type": "markdown",
   "id": "85f2ea34-16c9-4784-96f7-c79abf2ed48c",
   "metadata": {
    "deletable": false,
    "editable": false
   },
   "source": [
    "<!-- END QUESTION -->\n",
    "\n",
    "## First Look at Data\n",
    "\n",
    "In the cell below, you'll find a widget that displays the number of drug arrests by year.  \n",
    "This widget allows you to interact with the data and select the range of years you'd like to explore.\n",
    "\n",
    "In the following cell, adjust the slider to examine trends in **all felony arrests** over the years.\n"
   ]
  },
  {
   "cell_type": "code",
   "execution_count": null,
   "id": "79d6295a-0314-4d13-bb37-cd1f33655c5a",
   "metadata": {},
   "outputs": [],
   "source": [
    "display(widgets.interactive(lambda years : hp.plot_arrest(arrest, years), years= hp.year_slider))"
   ]
  },
  {
   "cell_type": "markdown",
   "id": "1b064524-e523-4ed6-b94d-685ee1a66c9a",
   "metadata": {},
   "source": [
    "# War on Drugs\n",
    "\n",
    "## Introduction\n",
    "\n",
    "The War on Drugs, launched in the 1970s and intensified during the 1980s, led to a surge in drug arrests by 1990 due to harsh federal policies such as the Anti-Drug Abuse Acts of 1986 and 1988.  \n",
    "As a result, 1990 saw a spike in drug possession arrests—particularly among minority communities—contributing to the long-term trend of mass incarceration in the U.S.\n",
    "\n",
    "The widget below allows you to explore drug arrest trends.  \n",
    "Adjust the slider to see how the War on Drugs influenced overall drug arrests based on the timing of key legislation.\n"
   ]
  },
  {
   "cell_type": "code",
   "execution_count": null,
   "id": "5f4118f0-0446-4c5c-ba24-e6aa4b284515",
   "metadata": {},
   "outputs": [],
   "source": [
    "display(widgets.interactive(lambda years : hp.plot_drug_arrest(arrest, years), years= hp.year_slider))"
   ]
  },
  {
   "cell_type": "markdown",
   "id": "d8eac1cb-fe35-45ad-8346-96c7d994408b",
   "metadata": {},
   "source": [
    "## Race Impacts\n",
    "\n",
    "### Crack vs. Powder Cocaine\n",
    "\n",
    "Refer to your reading to learn how the War on Drugs impacted different racial groups, especially in relation to crack versus powder cocaine sentencing disparities.\n",
    "\n",
    "In the next cell, use the dropdown to select the race you'd like to display, and try to observe the differences.  \n",
    "You can also adjust the year range — we recommend setting it from 1980 to 1990.\n"
   ]
  },
  {
   "cell_type": "code",
   "execution_count": null,
   "id": "e347f157-b698-4cc7-be46-24cefeb983d7",
   "metadata": {},
   "outputs": [],
   "source": [
    "display(widgets.interactive(lambda years, race : hp.drug_plot_race(arrest, years, race), years= hp.year_slider, race= hp.race_dropdown))"
   ]
  },
  {
   "cell_type": "markdown",
   "id": "cee7d9cb-8cff-4665-8d6e-7e02cf8d2e11",
   "metadata": {},
   "source": [
    "It's challenging to compare different racial groups using separate graphs, but as data scientists, this is a skill we need to develop.  \n",
    "To make comparisons easier, we use overlapping graphs.\n",
    "\n",
    "Using the widget below, select the races you want to graph together (be sure to view all of them together at the end).  \n",
    "You can also adjust the year range — we recommend setting it from 1980 to 1990.\n",
    "\n",
    "**⚠️ Warning:** The graph will only update if you’ve selected a race (or multiple races) *and* adjusted the year slider.  \n",
    "Each time you make a new selection, be sure to move the year widget to trigger the corresponding plot.\n"
   ]
  },
  {
   "cell_type": "code",
   "execution_count": null,
   "id": "24d5a151-ef9a-4eff-bac6-6f2616c35577",
   "metadata": {},
   "outputs": [],
   "source": [
    "display(widgets.VBox(hp.checkboxes), widgets.interactive(lambda years: hp.plot_races(arrest, years), years= hp.year_slider))"
   ]
  },
  {
   "cell_type": "markdown",
   "id": "3b237fc9-77ff-47ca-9685-fc0c6fe7551b",
   "metadata": {},
   "source": [
    "## Rate of Growth\n",
    "\n",
    "Getting numbers is important. It's nice to see trends visually, but let’s also look at the statistics:  \n",
    "How much did arrests increase for each racial group from the 1980s to 1989?\n",
    "\n",
    "Use the dropdown below to display the percentage growth rates for each group.\n"
   ]
  },
  {
   "cell_type": "code",
   "execution_count": null,
   "id": "8f88bba9-87a2-4dc8-87b5-88d7ad6a705f",
   "metadata": {},
   "outputs": [],
   "source": [
    "display(widgets.interactive(lambda race : hp.drug_percentage_increase(arrest, race), race= hp.race_dropdown))"
   ]
  },
  {
   "cell_type": "markdown",
   "id": "fd0d2765-3827-4b06-bc34-e493e710a5b7",
   "metadata": {
    "deletable": false,
    "editable": false
   },
   "source": [
    "<!-- BEGIN QUESTION -->\n",
    "\n",
    "### <span style=\"color: blue;\">Question Two</span>\n",
    "\n",
    "How did the War on Drugs impact incarceration numbers?  \n",
    "How did it affect different racial groups?\n",
    "\n",
    "Black people made up around 7%, white people made up 60%, and Hispanic people made up 25% of California's population in the 1980s and 1990s — how does this influence your understanding of the data?  \n",
    "Answer in the cell below.\n",
    "\n",
    "**Racial Demographics in California (1980s):**\n",
    "\n",
    "- **White (Non-Hispanic):** Approximately 60%  \n",
    "- **Hispanic or Latino:** Around 25%  \n",
    "- **Black or African American:** About 7%  \n",
    "- **Asian:** Roughly 4–5%\n"
   ]
  },
  {
   "cell_type": "markdown",
   "id": "f22f0302",
   "metadata": {
    "tags": [
     "otter_answer_cell"
    ]
   },
   "source": [
    "_Type your answer here, replacing this text._"
   ]
  },
  {
   "cell_type": "markdown",
   "id": "50cd9fd6-ee1f-49de-b6c2-3ac8ea7f6d8b",
   "metadata": {
    "deletable": false,
    "editable": false
   },
   "source": [
    "<!-- END QUESTION -->\n",
    "\n",
    "## 1990s Drug Arrest Drop\n",
    "\n",
    "In the early 1990s, law enforcement in California and across the U.S. shifted its focus from low-level drug offenses to violent crime and gang-related activity.  \n",
    "Additionally, California’s **Three Strikes Law** was enacted in 1994. As a result, while drug-related arrests declined, overall incarceration rates remained high due to the crackdown on repeat offenders.\n",
    "\n",
    "Use the widget below to explore how total felony arrests changed over the years compared to drug-related felony arrests around this period (especially starting in 1994).  \n",
    "See if you can identify the trend: a decline in drug-related arrests, while overall incarceration remained high.\n"
   ]
  },
  {
   "cell_type": "code",
   "execution_count": null,
   "id": "e56d8782-cfd5-46e8-be87-9cc2b0f60e93",
   "metadata": {},
   "outputs": [],
   "source": [
    "display(widgets.interactive(lambda arrest_type, years : hp.plot_type_arrest(arrest,arrest_type, years), arrest_type= hp.arrest_dropdown, years=hp.year_slider))"
   ]
  },
  {
   "cell_type": "markdown",
   "id": "3bcd3d44-fca9-4a90-90dd-864233ea1cff",
   "metadata": {},
   "source": [
    "Now to see the relationship between drug arrest vs violence arrest observe the violence arrest graph below"
   ]
  },
  {
   "cell_type": "code",
   "execution_count": null,
   "id": "b5f4bbed-57e7-485b-91d4-5ae932047fb1",
   "metadata": {},
   "outputs": [],
   "source": [
    "display(widgets.interactive(lambda years : hp.plot_violence(arrest, years, overlay= True), years=hp.year_slider))"
   ]
  },
  {
   "cell_type": "markdown",
   "id": "330041ff-0b03-44a5-9908-7e381edd6c36",
   "metadata": {},
   "source": [
    "## Arrest Rates Compared to Population Distribution\n",
    "\n",
    "As mentioned earlier, we don’t get a complete picture of arrest patterns without considering the population distribution of each racial group.  \n",
    "In this next section, we’ll work with a dataset that displays arrest rates for different racial groups compared to their share of the total population in each year.\n",
    "\n",
    "Run the next cell to display the data.\n"
   ]
  },
  {
   "cell_type": "code",
   "execution_count": null,
   "id": "5be4a4b9-f0a0-4c1b-893a-773e49654090",
   "metadata": {},
   "outputs": [],
   "source": [
    "extended_arrest= hp.type_arrest(\"Sum Total\")\n",
    "extended_arrest"
   ]
  },
  {
   "cell_type": "markdown",
   "id": "342eb706-2f74-40c9-9b59-1fbc6eaedb79",
   "metadata": {},
   "source": [
    "Run the next cell and use the dropdown menu to view the percentage of arrests by race for different years."
   ]
  },
  {
   "cell_type": "code",
   "execution_count": null,
   "id": "d2cf6792-33bf-429d-a2eb-962e2df7b2c9",
   "metadata": {},
   "outputs": [],
   "source": [
    "display(widgets.interactive(lambda year : hp.bar_arrest(extended_arrest, year),  year=hp.year_dropdown))"
   ]
  },
  {
   "cell_type": "markdown",
   "id": "613d637c-3301-46c6-8032-0684a57b633c",
   "metadata": {},
   "source": [
    "It’s hard to see the changes over time in the distribution above,  \n",
    "so run the next cell to view arrest data across multiple years for each race.\n",
    "\n",
    "Use the slider to adjust the year range.  \n",
    "To zoom in on the bars for each race, hover over the graph, then click and drag.  \n",
    "To zoom out, just double-click.\n"
   ]
  },
  {
   "cell_type": "code",
   "execution_count": null,
   "id": "c1063514-256b-44a2-9729-3598311320c8",
   "metadata": {},
   "outputs": [],
   "source": [
    "display(widgets.interactive(lambda year : hp.bar_years(extended_arrest, year),  year=hp.year_selector))"
   ]
  },
  {
   "cell_type": "markdown",
   "id": "0bf48667-1841-41e0-9cc7-7d25cdb72029",
   "metadata": {
    "deletable": false,
    "editable": false
   },
   "source": [
    "<!-- BEGIN QUESTION -->\n",
    "\n",
    "### <span style=\"color: blue;\">Question Three</span>\n",
    "\n",
    "Interact with the data by hovering over the bars to see specific values for each year and race.  \n",
    "Identify the year when the **percent of arrests** was highest and lowest for each racial group.  \n",
    "If comparing the bars is difficult, use the zoom-in function described above to make it easier.\n",
    "\n",
    "Then, reflect on the following:  \n",
    "How does the arrest rate by race compare to that group’s percentage of the total population?  \n",
    "Are certain groups overrepresented or underrepresented in arrest data?\n"
   ]
  },
  {
   "cell_type": "markdown",
   "id": "1d219a4e",
   "metadata": {
    "tags": [
     "otter_answer_cell"
    ]
   },
   "source": [
    "_Type your answer here, replacing this text._"
   ]
  },
  {
   "cell_type": "markdown",
   "id": "3874a5f5-f965-4bcb-bde3-2de1873bc689",
   "metadata": {
    "deletable": false,
    "editable": false
   },
   "source": [
    "<!-- END QUESTION -->\n",
    "\n",
    "Lastly, we can compare the distributions of percent arrests by race using a box plot.  \n",
    "Run the next cell to display it.\n"
   ]
  },
  {
   "cell_type": "code",
   "execution_count": null,
   "id": "3789907a-f9c8-4ccb-aac2-b821f121974e",
   "metadata": {},
   "outputs": [],
   "source": [
    "hp.box_arrest(extended_arrest)"
   ]
  },
  {
   "cell_type": "markdown",
   "id": "7b2da944-ac5d-46e1-8a74-d0fbfbe96e41",
   "metadata": {
    "deletable": false,
    "editable": false
   },
   "source": [
    "<!-- BEGIN QUESTION -->\n",
    "\n",
    "### <span style=\"color: blue;\">Question Four</span>\n",
    "\n",
    "Using data science, there are many ways to analyze data and identify patterns, as we did in this section.  \n",
    "With the four methods of displaying data above (table, single bar chart, grouped bar chart, and box plot), consider the following questions and answer below:\n",
    "\n",
    "1. Which display of data was your favorite and why? In what ways was it the most helpful, and where did it fall short?  \n",
    "2. How did looking at the **percent per race** compare to just viewing the raw numbers?  \n",
    "3. Which visualization made it easiest to compare trends over multiple years? Why?  \n",
    "4. How did the box plot help in understanding the spread and variation in the data compared to the bar charts?  \n",
    "5. If you were to analyze a different dataset, which of these methods would you choose, and would you include any additional visualizations?\n"
   ]
  },
  {
   "cell_type": "markdown",
   "id": "fceb1937",
   "metadata": {
    "tags": [
     "otter_answer_cell"
    ]
   },
   "source": [
    "_Type your answer here, replacing this text._"
   ]
  },
  {
   "cell_type": "markdown",
   "id": "8e10a774-a6fd-463a-b14e-c973a3890d55",
   "metadata": {
    "deletable": false,
    "editable": false
   },
   "source": [
    "<!-- END QUESTION -->\n",
    "\n",
    "# Redlining and Gentrification\n",
    "\n",
    "Use the widget below to display felony arrests across different counties.  \n",
    "Explore the data and make some initial observations. Consider the following:\n",
    "\n",
    "- Are some counties consistently higher in arrests than others?  \n",
    "- Do any trends appear over time?  \n",
    "- Are there noticeable shifts in certain counties during specific years?\n"
   ]
  },
  {
   "cell_type": "code",
   "execution_count": null,
   "id": "f50776db-9197-4c55-b302-db319a16d0fa",
   "metadata": {},
   "outputs": [],
   "source": [
    "display(widgets.interactive(lambda x : hp.map_f_arrest(arrest, x), x=hp.county_dropdown))"
   ]
  },
  {
   "cell_type": "markdown",
   "id": "b643a846-adc7-4a61-9b40-fe4de37f4d1e",
   "metadata": {},
   "source": [
    "Data science is a powerful tool, but it doesn’t always capture the full picture.  \n",
    "In the case of gentrification and its effects on crime, for example, we might rely on county-level data to track trends—but these broader datasets can miss important nuances that are essential for a complete understanding.\n",
    "\n",
    "County-level data may show a decrease in crime rates, but that doesn’t account for the displacement of marginalized communities, increased surveillance, or social upheaval occurring at the neighborhood level.  \n",
    "To draw more accurate and truthful conclusions, data scientists need to recognize the gaps in their data and acknowledge the context in which these numbers exist.\n",
    "\n",
    "Without considering underlying social dynamics—such as increased policing, changes in community structure, and economic pressures—data analysis can paint an incomplete or misleading picture.  \n",
    "Understanding these limitations and the broader context is essential for making informed and responsible decisions.\n",
    "\n",
    "---\n",
    "\n",
    "### 📝 To-Do:\n",
    "\n",
    "Choose one or two counties from the list below and read about how gentrification has impacted them.  \n",
    "Then, use the widget above to explore the arrest data for those counties and make observations.\n",
    "\n",
    "**Reflection Prompt:**  \n",
    "How does the historical information provided align with the trends shown in the data? In what ways?\n",
    "\n",
    "---\n",
    "\n",
    "### County Information\n",
    "\n",
    "1. **San Francisco County**  \n",
    "   *Gentrification Start: Early 1990s*  \n",
    "   Neighborhoods like the Mission District, Tenderloin, and Bayview-Hunters Point have seen significant gentrification, driven by tech industry growth. Rising housing costs and the influx of wealthier residents displaced long-time working-class communities.\n",
    "\n",
    "2. **Los Angeles County**  \n",
    "   *Gentrification Start: Early 2000s (accelerated in 2010s)*  \n",
    "   Areas such as Downtown LA, Echo Park, Silver Lake, and Highland Park have experienced gentrification due to real estate development and an influx of young professionals and artists, transforming historically lower-income, immigrant, and minority communities.\n",
    "\n",
    "3. **Oakland (Alameda County)**  \n",
    "   *Gentrification Start: Mid-2000s*  \n",
    "   Neighborhoods like West Oakland, Fruitvale, and Uptown have seen displacement as higher-income residents moved in due to rising costs in San Francisco.\n",
    "\n",
    "4. **Santa Clara County (San Jose)**  \n",
    "   *Gentrification Start: Early 2000s*  \n",
    "   Driven by the tech boom in Silicon Valley, downtown San Jose and surrounding cities have seen rising housing demand and displacement in lower-income, predominantly Latino communities.\n",
    "\n",
    "5. **San Diego County**  \n",
    "   *Gentrification Start: Mid-2000s*  \n",
    "   Areas like North Park, Logan Heights, and Barrio Logan have experienced gentrification as coastal property values increased, accelerating in the 2010s.\n",
    "\n",
    "6. **Sacramento County**  \n",
    "   *Gentrification Start: 2010s*  \n",
    "   Neighborhoods such as Oak Park, Midtown, and the River District have seen rising rents and new developments, leading to the displacement of long-time residents.\n",
    "\n",
    "7. **Riverside County**  \n",
    "   *Gentrification Start: Mid-2010s*  \n",
    "   Though not as widely known for gentrification, cities like Riverside and Moreno Valley are seeing increased development and rising rents, pushing lower-income residents out.\n",
    "\n",
    "8. **Ventura County**  \n",
    "   *Gentrification Start: Early 2000s*  \n",
    "   Cities such as Oxnard and Ventura have seen shifts as people priced out of Los Angeles move in, affecting historically affordable, working-class Latino neighborhoods.\n"
   ]
  },
  {
   "cell_type": "markdown",
   "id": "82f744b9-44c6-48b0-bf22-0e2c0d05fdce",
   "metadata": {
    "deletable": false,
    "editable": false
   },
   "source": [
    "<!-- BEGIN QUESTION -->\n",
    "\n",
    "### <span style=\"color: blue;\">Question Five</span>\n",
    "\n",
    "How does the historical information provided align with the trends shown in the data?  \n",
    "In what ways do the arrest patterns reflect—or fail to reflect—the impacts of gentrification, displacement, or increased policing in the counties you explored?\n"
   ]
  },
  {
   "cell_type": "markdown",
   "id": "5a8bc9ee",
   "metadata": {
    "tags": [
     "otter_answer_cell"
    ]
   },
   "source": [
    "_Type your answer here, replacing this text._"
   ]
  },
  {
   "cell_type": "markdown",
   "id": "04633bc2-0ed6-40eb-82a8-947c791f64ef",
   "metadata": {
    "deletable": false,
    "editable": false
   },
   "source": [
    "<!-- END QUESTION -->\n",
    "\n",
    "### Sources  \n",
    "https://en.wikipedia.org/wiki/Gentrification_of_San_Francisco\n",
    "https://www.urbandisplacement.org/maps/los-angeles-gentrification-and-displacement/\n",
    "https://www.urbandisplacement.org/wp-content/uploads/2021/08/alameda_final.pdf\n",
    "https://clsepa.org/media-great-silicon-valley-land-grab/\n",
    "https://storymaps.arcgis.com/stories/96ab5b185efb415c94024a9371295543\n",
    "https://sacramentoappraisalblog.com/2022/01/26/gentrification-neighborhood-boundaries-and-bias/\n",
    "https://journals.sagepub.com/doi/10.1177/0308518X211053642?icid=int.sj-abstract.similar-articles.4\n",
    "https://foothilldragonpress.org/286831/a-latest/gentrification-and-its-impacts-on-ventura/"
   ]
  },
  {
   "cell_type": "markdown",
   "id": "1c013627-adef-4895-9532-669e156b0032",
   "metadata": {},
   "source": [
    "## 📋 Post-Notebook Reflection Form\n",
    "\n",
    "Thank you for completing the notebook! We’d love to hear your thoughts so we can continue improving and creating content that supports your learning.\n",
    "\n",
    "Please take a few minutes to fill out this short reflection form:\n",
    "\n",
    "👉 **[Click here to fill out the Reflection Form](https://docs.google.com/forms/d/e/1FAIpQLSd38uJNsiY_xV0S2LTu4zAZnaYPkphOMAvz4mNbngWuJYB7dg/viewform?usp=header)**\n",
    "\n",
    "---\n",
    "\n",
    "### 🧠 Why it matters:\n",
    "Your feedback helps us understand:\n",
    "- How clear and helpful the notebook was\n",
    "- What you learned from the experience\n",
    "- How your views on data science may have changed\n",
    "- What topics you’d like to see in the future\n",
    "\n",
    "This form is anonymous and should take less than 5 minutes to complete.\n",
    "\n",
    "We appreciate your time and honest input! 💬\n"
   ]
  },
  {
   "cell_type": "markdown",
   "id": "80d7110a",
   "metadata": {
    "deletable": false,
    "editable": false
   },
   "source": [
    "## Submission\n",
    "\n",
    "Make sure you have run all cells in your notebook in order before running the cell below, so that all images/graphs appear in the output. The cell below will generate a zip file for you to submit. **Please save before exporting!**"
   ]
  },
  {
   "cell_type": "code",
   "execution_count": null,
   "id": "3a654746",
   "metadata": {
    "deletable": false,
    "editable": false
   },
   "outputs": [],
   "source": [
    "# Save your notebook first, then run this cell to export your submission.\n",
    "grader.export()"
   ]
  },
  {
   "cell_type": "markdown",
   "id": "2ba6461c",
   "metadata": {},
   "source": [
    " "
   ]
  }
 ],
 "metadata": {
  "kernelspec": {
   "display_name": "Python 3 (ipykernel)",
   "language": "python",
   "name": "python3"
  },
  "language_info": {
   "codemirror_mode": {
    "name": "ipython",
    "version": 3
   },
   "file_extension": ".py",
   "mimetype": "text/x-python",
   "name": "python",
   "nbconvert_exporter": "python",
   "pygments_lexer": "ipython3",
   "version": "3.11.12"
  },
  "otter": {
   "OK_FORMAT": true,
   "tests": {}
  }
 },
 "nbformat": 4,
 "nbformat_minor": 5
}
